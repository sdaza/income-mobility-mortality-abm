{
 "cells": [
  {
   "cell_type": "markdown",
   "metadata": {},
   "source": [
    "# Verification of mortality effects\n",
    "\n",
    "- Parameter variation `VerificationEFfects` in Anylogic\n",
    "- 90 replicates per iteration or scenario"
   ]
  },
  {
   "cell_type": "code",
   "execution_count": 5,
   "metadata": {},
   "outputs": [
    {
     "ename": "ERROR",
     "evalue": "Error in library(simPH): there is no package called 'simPH'\n",
     "output_type": "error",
     "traceback": [
      "Error in library(simPH): there is no package called 'simPH'\nTraceback:\n",
      "1. library(simPH)"
     ]
    }
   ],
   "source": [
    "library(data.table)\n",
    "library(xtable)\n",
    "library(survival)\n",
    "library(texreg)\n",
    "library(fmsb)\n",
    "library(metafor)\n",
    "library(ggplot2)\n",
    "library(simPH)\n",
    "source(\"../src/utils.R\")"
   ]
  },
  {
   "cell_type": "code",
   "execution_count": 7,
   "metadata": {},
   "outputs": [
    {
     "data": {
      "text/html": [
       "79.0256613432159"
      ],
      "text/latex": [
       "79.0256613432159"
      ],
      "text/markdown": [
       "79.0256613432159"
      ],
      "text/plain": [
       "[1] 79.02566"
      ]
     },
     "metadata": {},
     "output_type": "display_data"
    }
   ],
   "source": [
    "# life table verification LE using mortality rates reported by CDC\n",
    "mx = c(567.0,24.3 ,11.6 ,15.5 ,51.5 ,51.5 ,95.6 ,121.0 ,145.4 ,173.8 ,218.4,\n",
    "    313.2 ,488.0 ,736.5 ,1050.2 ,1473.5 ,2206.9 ,3517.8 ,5871.7,13573.6)\n",
    "mx = mx / 100000\n",
    "le = lifetable(mx, ns = c(1, 4, rep(5, 2), 3, 2, rep(5, 14)))\n",
    "le[1, \"ex\"]"
   ]
  },
  {
   "cell_type": "code",
   "execution_count": null,
   "metadata": {},
   "outputs": [],
   "source": [
    "# read data files\n",
    "m = fread(\"../output/data/mortality-verification-effects.csv\")\n",
    "p = fread(\"../output/data/parameters-verification-effects.csv\")\n",
    "e = fread(\"../output/data/environment-verification-effects.csv\")\n"
   ]
  },
  {
   "cell_type": "code",
   "execution_count": 4,
   "metadata": {},
   "outputs": [
    {
     "name": "stdout",
     "output_type": "stream",
     "text": [
      "[1] \"move_decision_rate\"       \"prob_move_random\"        \n",
      "[3] \"use_rank_slope\"           \"weight_income_exp\"       \n",
      "[5] \"mortality_fake_exp_coeff\"\n"
     ]
    }
   ],
   "source": [
    "sp = varyingParameters(p, \"model_date\")\n",
    "parameters = names(sp)[!names(sp) %in% c(\"iteration\", \"replicate\")]\n",
    "print(parameters)"
   ]
  },
  {
   "cell_type": "code",
   "execution_count": 12,
   "metadata": {},
   "outputs": [
    {
     "data": {
      "text/plain": [
       "   Min. 1st Qu.  Median    Mean 3rd Qu.    Max. \n",
       "   1.00   13.25   25.50   25.50   37.75   50.00 "
      ]
     },
     "metadata": {},
     "output_type": "display_data"
    }
   ],
   "source": [
    "# redefine iteration and replicate indexes\n",
    "sp[, niteration := .GRP, by = parameters]\n",
    "sp[, nreplicate := 1:.N, by = niteration]\n",
    "np = sp[, c(\"iteration\", \"replicate\", \"niteration\", \"nreplicate\", parameters), with = FALSE]\n",
    "m = merge(m, np, by = c(\"iteration\", \"replicate\"))\n",
    "summary(np[niteration == 3, nreplicate])"
   ]
  },
  {
   "cell_type": "code",
   "execution_count": 13,
   "metadata": {},
   "outputs": [
    {
     "data": {
      "text/html": [
       "<table class=\"dataframe\">\n",
       "<caption>A data.table: 24 × 6</caption>\n",
       "<thead>\n",
       "\t<tr><th scope=col>niteration</th><th scope=col>move_decision_rate</th><th scope=col>prob_move_random</th><th scope=col>use_rank_slope</th><th scope=col>weight_income_exp</th><th scope=col>mortality_fake_exp_coeff</th></tr>\n",
       "\t<tr><th scope=col>&lt;int&gt;</th><th scope=col>&lt;chr&gt;</th><th scope=col>&lt;dbl&gt;</th><th scope=col>&lt;lgl&gt;</th><th scope=col>&lt;chr&gt;</th><th scope=col>&lt;dbl&gt;</th></tr>\n",
       "</thead>\n",
       "<tbody>\n",
       "\t<tr><td> 1</td><td>[0.0, 0.0, 0.0, 0.0, 0.0]</td><td>0.01</td><td>FALSE</td><td>[0.0, 0.0, 0.0, 0.0, 0.0] </td><td>0.0</td></tr>\n",
       "\t<tr><td> 2</td><td>[0.0, 0.0, 0.0, 0.0, 0.0]</td><td>0.01</td><td>FALSE</td><td>[0.0, 0.0, 0.0, 0.0, 0.0] </td><td>0.5</td></tr>\n",
       "\t<tr><td> 3</td><td>[0.0, 0.0, 0.0, 0.0, 0.0]</td><td>0.01</td><td>FALSE</td><td>[0.8, 0.6, 0.4, 0.2, 0.05]</td><td>0.0</td></tr>\n",
       "\t<tr><td> 4</td><td>[0.0, 0.0, 0.0, 0.0, 0.0]</td><td>0.01</td><td>FALSE</td><td>[0.8, 0.6, 0.4, 0.2, 0.05]</td><td>0.5</td></tr>\n",
       "\t<tr><td> 5</td><td>[0.0, 0.0, 0.0, 0.0, 0.0]</td><td>0.01</td><td> TRUE</td><td>[0.0, 0.0, 0.0, 0.0, 0.0] </td><td>0.0</td></tr>\n",
       "\t<tr><td> 6</td><td>[0.0, 0.0, 0.0, 0.0, 0.0]</td><td>0.01</td><td> TRUE</td><td>[0.0, 0.0, 0.0, 0.0, 0.0] </td><td>0.5</td></tr>\n",
       "\t<tr><td> 7</td><td>[0.0, 0.0, 0.0, 0.0, 0.0]</td><td>0.01</td><td> TRUE</td><td>[0.8, 0.6, 0.4, 0.2, 0.05]</td><td>0.0</td></tr>\n",
       "\t<tr><td> 8</td><td>[0.0, 0.0, 0.0, 0.0, 0.0]</td><td>0.01</td><td> TRUE</td><td>[0.8, 0.6, 0.4, 0.2, 0.05]</td><td>0.5</td></tr>\n",
       "\t<tr><td> 9</td><td>[0.1, 0.1, 0.1, 0.1, 0.1]</td><td>0.01</td><td>FALSE</td><td>[0.0, 0.0, 0.0, 0.0, 0.0] </td><td>0.0</td></tr>\n",
       "\t<tr><td>10</td><td>[0.1, 0.1, 0.1, 0.1, 0.1]</td><td>0.01</td><td>FALSE</td><td>[0.0, 0.0, 0.0, 0.0, 0.0] </td><td>0.5</td></tr>\n",
       "\t<tr><td>11</td><td>[0.1, 0.1, 0.1, 0.1, 0.1]</td><td>0.01</td><td>FALSE</td><td>[0.8, 0.6, 0.4, 0.2, 0.05]</td><td>0.0</td></tr>\n",
       "\t<tr><td>12</td><td>[0.1, 0.1, 0.1, 0.1, 0.1]</td><td>0.01</td><td>FALSE</td><td>[0.8, 0.6, 0.4, 0.2, 0.05]</td><td>0.5</td></tr>\n",
       "\t<tr><td>13</td><td>[0.1, 0.1, 0.1, 0.1, 0.1]</td><td>1.00</td><td>FALSE</td><td>[0.0, 0.0, 0.0, 0.0, 0.0] </td><td>0.0</td></tr>\n",
       "\t<tr><td>14</td><td>[0.1, 0.1, 0.1, 0.1, 0.1]</td><td>1.00</td><td>FALSE</td><td>[0.0, 0.0, 0.0, 0.0, 0.0] </td><td>0.5</td></tr>\n",
       "\t<tr><td>15</td><td>[0.1, 0.1, 0.1, 0.1, 0.1]</td><td>1.00</td><td>FALSE</td><td>[0.8, 0.6, 0.4, 0.2, 0.05]</td><td>0.0</td></tr>\n",
       "\t<tr><td>16</td><td>[0.1, 0.1, 0.1, 0.1, 0.1]</td><td>1.00</td><td>FALSE</td><td>[0.8, 0.6, 0.4, 0.2, 0.05]</td><td>0.5</td></tr>\n",
       "\t<tr><td>17</td><td>[0.1, 0.1, 0.1, 0.1, 0.1]</td><td>0.01</td><td> TRUE</td><td>[0.0, 0.0, 0.0, 0.0, 0.0] </td><td>0.0</td></tr>\n",
       "\t<tr><td>18</td><td>[0.1, 0.1, 0.1, 0.1, 0.1]</td><td>0.01</td><td> TRUE</td><td>[0.0, 0.0, 0.0, 0.0, 0.0] </td><td>0.5</td></tr>\n",
       "\t<tr><td>19</td><td>[0.1, 0.1, 0.1, 0.1, 0.1]</td><td>0.01</td><td> TRUE</td><td>[0.8, 0.6, 0.4, 0.2, 0.05]</td><td>0.0</td></tr>\n",
       "\t<tr><td>20</td><td>[0.1, 0.1, 0.1, 0.1, 0.1]</td><td>0.01</td><td> TRUE</td><td>[0.8, 0.6, 0.4, 0.2, 0.05]</td><td>0.5</td></tr>\n",
       "\t<tr><td>21</td><td>[0.1, 0.1, 0.1, 0.1, 0.1]</td><td>1.00</td><td> TRUE</td><td>[0.0, 0.0, 0.0, 0.0, 0.0] </td><td>0.0</td></tr>\n",
       "\t<tr><td>22</td><td>[0.1, 0.1, 0.1, 0.1, 0.1]</td><td>1.00</td><td> TRUE</td><td>[0.0, 0.0, 0.0, 0.0, 0.0] </td><td>0.5</td></tr>\n",
       "\t<tr><td>23</td><td>[0.1, 0.1, 0.1, 0.1, 0.1]</td><td>1.00</td><td> TRUE</td><td>[0.8, 0.6, 0.4, 0.2, 0.05]</td><td>0.0</td></tr>\n",
       "\t<tr><td>24</td><td>[0.1, 0.1, 0.1, 0.1, 0.1]</td><td>1.00</td><td> TRUE</td><td>[0.8, 0.6, 0.4, 0.2, 0.05]</td><td>0.5</td></tr>\n",
       "</tbody>\n",
       "</table>\n"
      ],
      "text/latex": [
       "A data.table: 24 × 6\n",
       "\\begin{tabular}{llllll}\n",
       " niteration & move\\_decision\\_rate & prob\\_move\\_random & use\\_rank\\_slope & weight\\_income\\_exp & mortality\\_fake\\_exp\\_coeff\\\\\n",
       " <int> & <chr> & <dbl> & <lgl> & <chr> & <dbl>\\\\\n",
       "\\hline\n",
       "\t  1 & {[}0.0, 0.0, 0.0, 0.0, 0.0{]} & 0.01 & FALSE & {[}0.0, 0.0, 0.0, 0.0, 0.0{]}  & 0.0\\\\\n",
       "\t  2 & {[}0.0, 0.0, 0.0, 0.0, 0.0{]} & 0.01 & FALSE & {[}0.0, 0.0, 0.0, 0.0, 0.0{]}  & 0.5\\\\\n",
       "\t  3 & {[}0.0, 0.0, 0.0, 0.0, 0.0{]} & 0.01 & FALSE & {[}0.8, 0.6, 0.4, 0.2, 0.05{]} & 0.0\\\\\n",
       "\t  4 & {[}0.0, 0.0, 0.0, 0.0, 0.0{]} & 0.01 & FALSE & {[}0.8, 0.6, 0.4, 0.2, 0.05{]} & 0.5\\\\\n",
       "\t  5 & {[}0.0, 0.0, 0.0, 0.0, 0.0{]} & 0.01 &  TRUE & {[}0.0, 0.0, 0.0, 0.0, 0.0{]}  & 0.0\\\\\n",
       "\t  6 & {[}0.0, 0.0, 0.0, 0.0, 0.0{]} & 0.01 &  TRUE & {[}0.0, 0.0, 0.0, 0.0, 0.0{]}  & 0.5\\\\\n",
       "\t  7 & {[}0.0, 0.0, 0.0, 0.0, 0.0{]} & 0.01 &  TRUE & {[}0.8, 0.6, 0.4, 0.2, 0.05{]} & 0.0\\\\\n",
       "\t  8 & {[}0.0, 0.0, 0.0, 0.0, 0.0{]} & 0.01 &  TRUE & {[}0.8, 0.6, 0.4, 0.2, 0.05{]} & 0.5\\\\\n",
       "\t  9 & {[}0.1, 0.1, 0.1, 0.1, 0.1{]} & 0.01 & FALSE & {[}0.0, 0.0, 0.0, 0.0, 0.0{]}  & 0.0\\\\\n",
       "\t 10 & {[}0.1, 0.1, 0.1, 0.1, 0.1{]} & 0.01 & FALSE & {[}0.0, 0.0, 0.0, 0.0, 0.0{]}  & 0.5\\\\\n",
       "\t 11 & {[}0.1, 0.1, 0.1, 0.1, 0.1{]} & 0.01 & FALSE & {[}0.8, 0.6, 0.4, 0.2, 0.05{]} & 0.0\\\\\n",
       "\t 12 & {[}0.1, 0.1, 0.1, 0.1, 0.1{]} & 0.01 & FALSE & {[}0.8, 0.6, 0.4, 0.2, 0.05{]} & 0.5\\\\\n",
       "\t 13 & {[}0.1, 0.1, 0.1, 0.1, 0.1{]} & 1.00 & FALSE & {[}0.0, 0.0, 0.0, 0.0, 0.0{]}  & 0.0\\\\\n",
       "\t 14 & {[}0.1, 0.1, 0.1, 0.1, 0.1{]} & 1.00 & FALSE & {[}0.0, 0.0, 0.0, 0.0, 0.0{]}  & 0.5\\\\\n",
       "\t 15 & {[}0.1, 0.1, 0.1, 0.1, 0.1{]} & 1.00 & FALSE & {[}0.8, 0.6, 0.4, 0.2, 0.05{]} & 0.0\\\\\n",
       "\t 16 & {[}0.1, 0.1, 0.1, 0.1, 0.1{]} & 1.00 & FALSE & {[}0.8, 0.6, 0.4, 0.2, 0.05{]} & 0.5\\\\\n",
       "\t 17 & {[}0.1, 0.1, 0.1, 0.1, 0.1{]} & 0.01 &  TRUE & {[}0.0, 0.0, 0.0, 0.0, 0.0{]}  & 0.0\\\\\n",
       "\t 18 & {[}0.1, 0.1, 0.1, 0.1, 0.1{]} & 0.01 &  TRUE & {[}0.0, 0.0, 0.0, 0.0, 0.0{]}  & 0.5\\\\\n",
       "\t 19 & {[}0.1, 0.1, 0.1, 0.1, 0.1{]} & 0.01 &  TRUE & {[}0.8, 0.6, 0.4, 0.2, 0.05{]} & 0.0\\\\\n",
       "\t 20 & {[}0.1, 0.1, 0.1, 0.1, 0.1{]} & 0.01 &  TRUE & {[}0.8, 0.6, 0.4, 0.2, 0.05{]} & 0.5\\\\\n",
       "\t 21 & {[}0.1, 0.1, 0.1, 0.1, 0.1{]} & 1.00 &  TRUE & {[}0.0, 0.0, 0.0, 0.0, 0.0{]}  & 0.0\\\\\n",
       "\t 22 & {[}0.1, 0.1, 0.1, 0.1, 0.1{]} & 1.00 &  TRUE & {[}0.0, 0.0, 0.0, 0.0, 0.0{]}  & 0.5\\\\\n",
       "\t 23 & {[}0.1, 0.1, 0.1, 0.1, 0.1{]} & 1.00 &  TRUE & {[}0.8, 0.6, 0.4, 0.2, 0.05{]} & 0.0\\\\\n",
       "\t 24 & {[}0.1, 0.1, 0.1, 0.1, 0.1{]} & 1.00 &  TRUE & {[}0.8, 0.6, 0.4, 0.2, 0.05{]} & 0.5\\\\\n",
       "\\end{tabular}\n"
      ],
      "text/markdown": [
       "\n",
       "A data.table: 24 × 6\n",
       "\n",
       "| niteration &lt;int&gt; | move_decision_rate &lt;chr&gt; | prob_move_random &lt;dbl&gt; | use_rank_slope &lt;lgl&gt; | weight_income_exp &lt;chr&gt; | mortality_fake_exp_coeff &lt;dbl&gt; |\n",
       "|---|---|---|---|---|---|\n",
       "|  1 | [0.0, 0.0, 0.0, 0.0, 0.0] | 0.01 | FALSE | [0.0, 0.0, 0.0, 0.0, 0.0]  | 0.0 |\n",
       "|  2 | [0.0, 0.0, 0.0, 0.0, 0.0] | 0.01 | FALSE | [0.0, 0.0, 0.0, 0.0, 0.0]  | 0.5 |\n",
       "|  3 | [0.0, 0.0, 0.0, 0.0, 0.0] | 0.01 | FALSE | [0.8, 0.6, 0.4, 0.2, 0.05] | 0.0 |\n",
       "|  4 | [0.0, 0.0, 0.0, 0.0, 0.0] | 0.01 | FALSE | [0.8, 0.6, 0.4, 0.2, 0.05] | 0.5 |\n",
       "|  5 | [0.0, 0.0, 0.0, 0.0, 0.0] | 0.01 |  TRUE | [0.0, 0.0, 0.0, 0.0, 0.0]  | 0.0 |\n",
       "|  6 | [0.0, 0.0, 0.0, 0.0, 0.0] | 0.01 |  TRUE | [0.0, 0.0, 0.0, 0.0, 0.0]  | 0.5 |\n",
       "|  7 | [0.0, 0.0, 0.0, 0.0, 0.0] | 0.01 |  TRUE | [0.8, 0.6, 0.4, 0.2, 0.05] | 0.0 |\n",
       "|  8 | [0.0, 0.0, 0.0, 0.0, 0.0] | 0.01 |  TRUE | [0.8, 0.6, 0.4, 0.2, 0.05] | 0.5 |\n",
       "|  9 | [0.1, 0.1, 0.1, 0.1, 0.1] | 0.01 | FALSE | [0.0, 0.0, 0.0, 0.0, 0.0]  | 0.0 |\n",
       "| 10 | [0.1, 0.1, 0.1, 0.1, 0.1] | 0.01 | FALSE | [0.0, 0.0, 0.0, 0.0, 0.0]  | 0.5 |\n",
       "| 11 | [0.1, 0.1, 0.1, 0.1, 0.1] | 0.01 | FALSE | [0.8, 0.6, 0.4, 0.2, 0.05] | 0.0 |\n",
       "| 12 | [0.1, 0.1, 0.1, 0.1, 0.1] | 0.01 | FALSE | [0.8, 0.6, 0.4, 0.2, 0.05] | 0.5 |\n",
       "| 13 | [0.1, 0.1, 0.1, 0.1, 0.1] | 1.00 | FALSE | [0.0, 0.0, 0.0, 0.0, 0.0]  | 0.0 |\n",
       "| 14 | [0.1, 0.1, 0.1, 0.1, 0.1] | 1.00 | FALSE | [0.0, 0.0, 0.0, 0.0, 0.0]  | 0.5 |\n",
       "| 15 | [0.1, 0.1, 0.1, 0.1, 0.1] | 1.00 | FALSE | [0.8, 0.6, 0.4, 0.2, 0.05] | 0.0 |\n",
       "| 16 | [0.1, 0.1, 0.1, 0.1, 0.1] | 1.00 | FALSE | [0.8, 0.6, 0.4, 0.2, 0.05] | 0.5 |\n",
       "| 17 | [0.1, 0.1, 0.1, 0.1, 0.1] | 0.01 |  TRUE | [0.0, 0.0, 0.0, 0.0, 0.0]  | 0.0 |\n",
       "| 18 | [0.1, 0.1, 0.1, 0.1, 0.1] | 0.01 |  TRUE | [0.0, 0.0, 0.0, 0.0, 0.0]  | 0.5 |\n",
       "| 19 | [0.1, 0.1, 0.1, 0.1, 0.1] | 0.01 |  TRUE | [0.8, 0.6, 0.4, 0.2, 0.05] | 0.0 |\n",
       "| 20 | [0.1, 0.1, 0.1, 0.1, 0.1] | 0.01 |  TRUE | [0.8, 0.6, 0.4, 0.2, 0.05] | 0.5 |\n",
       "| 21 | [0.1, 0.1, 0.1, 0.1, 0.1] | 1.00 |  TRUE | [0.0, 0.0, 0.0, 0.0, 0.0]  | 0.0 |\n",
       "| 22 | [0.1, 0.1, 0.1, 0.1, 0.1] | 1.00 |  TRUE | [0.0, 0.0, 0.0, 0.0, 0.0]  | 0.5 |\n",
       "| 23 | [0.1, 0.1, 0.1, 0.1, 0.1] | 1.00 |  TRUE | [0.8, 0.6, 0.4, 0.2, 0.05] | 0.0 |\n",
       "| 24 | [0.1, 0.1, 0.1, 0.1, 0.1] | 1.00 |  TRUE | [0.8, 0.6, 0.4, 0.2, 0.05] | 0.5 |\n",
       "\n"
      ],
      "text/plain": [
       "   niteration move_decision_rate        prob_move_random use_rank_slope\n",
       "1   1         [0.0, 0.0, 0.0, 0.0, 0.0] 0.01             FALSE         \n",
       "2   2         [0.0, 0.0, 0.0, 0.0, 0.0] 0.01             FALSE         \n",
       "3   3         [0.0, 0.0, 0.0, 0.0, 0.0] 0.01             FALSE         \n",
       "4   4         [0.0, 0.0, 0.0, 0.0, 0.0] 0.01             FALSE         \n",
       "5   5         [0.0, 0.0, 0.0, 0.0, 0.0] 0.01              TRUE         \n",
       "6   6         [0.0, 0.0, 0.0, 0.0, 0.0] 0.01              TRUE         \n",
       "7   7         [0.0, 0.0, 0.0, 0.0, 0.0] 0.01              TRUE         \n",
       "8   8         [0.0, 0.0, 0.0, 0.0, 0.0] 0.01              TRUE         \n",
       "9   9         [0.1, 0.1, 0.1, 0.1, 0.1] 0.01             FALSE         \n",
       "10 10         [0.1, 0.1, 0.1, 0.1, 0.1] 0.01             FALSE         \n",
       "11 11         [0.1, 0.1, 0.1, 0.1, 0.1] 0.01             FALSE         \n",
       "12 12         [0.1, 0.1, 0.1, 0.1, 0.1] 0.01             FALSE         \n",
       "13 13         [0.1, 0.1, 0.1, 0.1, 0.1] 1.00             FALSE         \n",
       "14 14         [0.1, 0.1, 0.1, 0.1, 0.1] 1.00             FALSE         \n",
       "15 15         [0.1, 0.1, 0.1, 0.1, 0.1] 1.00             FALSE         \n",
       "16 16         [0.1, 0.1, 0.1, 0.1, 0.1] 1.00             FALSE         \n",
       "17 17         [0.1, 0.1, 0.1, 0.1, 0.1] 0.01              TRUE         \n",
       "18 18         [0.1, 0.1, 0.1, 0.1, 0.1] 0.01              TRUE         \n",
       "19 19         [0.1, 0.1, 0.1, 0.1, 0.1] 0.01              TRUE         \n",
       "20 20         [0.1, 0.1, 0.1, 0.1, 0.1] 0.01              TRUE         \n",
       "21 21         [0.1, 0.1, 0.1, 0.1, 0.1] 1.00              TRUE         \n",
       "22 22         [0.1, 0.1, 0.1, 0.1, 0.1] 1.00              TRUE         \n",
       "23 23         [0.1, 0.1, 0.1, 0.1, 0.1] 1.00              TRUE         \n",
       "24 24         [0.1, 0.1, 0.1, 0.1, 0.1] 1.00              TRUE         \n",
       "   weight_income_exp          mortality_fake_exp_coeff\n",
       "1  [0.0, 0.0, 0.0, 0.0, 0.0]  0.0                     \n",
       "2  [0.0, 0.0, 0.0, 0.0, 0.0]  0.5                     \n",
       "3  [0.8, 0.6, 0.4, 0.2, 0.05] 0.0                     \n",
       "4  [0.8, 0.6, 0.4, 0.2, 0.05] 0.5                     \n",
       "5  [0.0, 0.0, 0.0, 0.0, 0.0]  0.0                     \n",
       "6  [0.0, 0.0, 0.0, 0.0, 0.0]  0.5                     \n",
       "7  [0.8, 0.6, 0.4, 0.2, 0.05] 0.0                     \n",
       "8  [0.8, 0.6, 0.4, 0.2, 0.05] 0.5                     \n",
       "9  [0.0, 0.0, 0.0, 0.0, 0.0]  0.0                     \n",
       "10 [0.0, 0.0, 0.0, 0.0, 0.0]  0.5                     \n",
       "11 [0.8, 0.6, 0.4, 0.2, 0.05] 0.0                     \n",
       "12 [0.8, 0.6, 0.4, 0.2, 0.05] 0.5                     \n",
       "13 [0.0, 0.0, 0.0, 0.0, 0.0]  0.0                     \n",
       "14 [0.0, 0.0, 0.0, 0.0, 0.0]  0.5                     \n",
       "15 [0.8, 0.6, 0.4, 0.2, 0.05] 0.0                     \n",
       "16 [0.8, 0.6, 0.4, 0.2, 0.05] 0.5                     \n",
       "17 [0.0, 0.0, 0.0, 0.0, 0.0]  0.0                     \n",
       "18 [0.0, 0.0, 0.0, 0.0, 0.0]  0.5                     \n",
       "19 [0.8, 0.6, 0.4, 0.2, 0.05] 0.0                     \n",
       "20 [0.8, 0.6, 0.4, 0.2, 0.05] 0.5                     \n",
       "21 [0.0, 0.0, 0.0, 0.0, 0.0]  0.0                     \n",
       "22 [0.0, 0.0, 0.0, 0.0, 0.0]  0.5                     \n",
       "23 [0.8, 0.6, 0.4, 0.2, 0.05] 0.0                     \n",
       "24 [0.8, 0.6, 0.4, 0.2, 0.05] 0.5                     "
      ]
     },
     "metadata": {},
     "output_type": "display_data"
    }
   ],
   "source": [
    "unique(np[, c(\"niteration\", parameters), with = FALSE])"
   ]
  },
  {
   "cell_type": "code",
   "execution_count": 14,
   "metadata": {},
   "outputs": [
    {
     "data": {
      "text/html": [
       "0"
      ],
      "text/latex": [
       "0"
      ],
      "text/markdown": [
       "0"
      ],
      "text/plain": [
       "[1] 0"
      ]
     },
     "metadata": {},
     "output_type": "display_data"
    },
    {
     "data": {
      "text/plain": [
       "\n",
       "  20   25   30 \n",
       "3010 3046 3115 "
      ]
     },
     "metadata": {},
     "output_type": "display_data"
    }
   ],
   "source": [
    "anyDuplicated(m[niteration == 1 & nreplicate == 1, id])\n",
    "table(m[niteration == 1 & nreplicate == 1, generation])"
   ]
  },
  {
   "cell_type": "code",
   "execution_count": 15,
   "metadata": {},
   "outputs": [
    {
     "data": {
      "text/html": [
       "<style>\n",
       ".list-inline {list-style: none; margin:0; padding: 0}\n",
       ".list-inline>li {display: inline-block}\n",
       ".list-inline>li:not(:last-child)::after {content: \"\\00b7\"; padding: 0 .5ex}\n",
       "</style>\n",
       "<ol class=list-inline><li>'rank'</li><li>'parent_rank_difference'</li><li>'county_rank_correlation'</li><li>'county_rank_slope'</li><li>'county_rank_absolute'</li><li>'total_rank_slope_exposure'</li><li>'rank_slope_exposure18'</li><li>'total_rank_absolute_exposure'</li><li>'rank_absolute_exposure18'</li><li>'total_rank_cor_exposure'</li><li>'rank_cor_exposure18'</li><li>'use_rank_slope'</li></ol>\n"
      ],
      "text/latex": [
       "\\begin{enumerate*}\n",
       "\\item 'rank'\n",
       "\\item 'parent\\_rank\\_difference'\n",
       "\\item 'county\\_rank\\_correlation'\n",
       "\\item 'county\\_rank\\_slope'\n",
       "\\item 'county\\_rank\\_absolute'\n",
       "\\item 'total\\_rank\\_slope\\_exposure'\n",
       "\\item 'rank\\_slope\\_exposure18'\n",
       "\\item 'total\\_rank\\_absolute\\_exposure'\n",
       "\\item 'rank\\_absolute\\_exposure18'\n",
       "\\item 'total\\_rank\\_cor\\_exposure'\n",
       "\\item 'rank\\_cor\\_exposure18'\n",
       "\\item 'use\\_rank\\_slope'\n",
       "\\end{enumerate*}\n"
      ],
      "text/markdown": [
       "1. 'rank'\n",
       "2. 'parent_rank_difference'\n",
       "3. 'county_rank_correlation'\n",
       "4. 'county_rank_slope'\n",
       "5. 'county_rank_absolute'\n",
       "6. 'total_rank_slope_exposure'\n",
       "7. 'rank_slope_exposure18'\n",
       "8. 'total_rank_absolute_exposure'\n",
       "9. 'rank_absolute_exposure18'\n",
       "10. 'total_rank_cor_exposure'\n",
       "11. 'rank_cor_exposure18'\n",
       "12. 'use_rank_slope'\n",
       "\n",
       "\n"
      ],
      "text/plain": [
       " [1] \"rank\"                         \"parent_rank_difference\"      \n",
       " [3] \"county_rank_correlation\"      \"county_rank_slope\"           \n",
       " [5] \"county_rank_absolute\"         \"total_rank_slope_exposure\"   \n",
       " [7] \"rank_slope_exposure18\"        \"total_rank_absolute_exposure\"\n",
       " [9] \"rank_absolute_exposure18\"     \"total_rank_cor_exposure\"     \n",
       "[11] \"rank_cor_exposure18\"          \"use_rank_slope\"              "
      ]
     },
     "metadata": {},
     "output_type": "display_data"
    }
   ],
   "source": [
    "grep(\"rank\", names(m), value = TRUE)"
   ]
  },
  {
   "cell_type": "code",
   "execution_count": 16,
   "metadata": {},
   "outputs": [
    {
     "data": {
      "text/plain": [
       "   Min. 1st Qu.  Median    Mean 3rd Qu.    Max. \n",
       "0.07308 0.16767 0.18792 0.18848 0.20795 0.33327 "
      ]
     },
     "metadata": {},
     "output_type": "display_data"
    }
   ],
   "source": [
    "summary(e[iteration == 2, nsi])"
   ]
  },
  {
   "cell_type": "code",
   "execution_count": 17,
   "metadata": {},
   "outputs": [
    {
     "data": {
      "text/html": [
       "77.6454153137249"
      ],
      "text/latex": [
       "77.6454153137249"
      ],
      "text/markdown": [
       "77.6454153137249"
      ],
      "text/plain": [
       "[1] 77.64542"
      ]
     },
     "metadata": {},
     "output_type": "display_data"
    }
   ],
   "source": [
    "mean(m[niteration == 1, age_death])"
   ]
  },
  {
   "cell_type": "markdown",
   "metadata": {},
   "source": [
    "# Exposure upward income mobility -> Mortality risk = 0.0, exposure until 18 years old\n",
    "\n",
    "To explore correlation of the data produced by the ABM: \n",
    "\n",
    "- `total_rank_slope_exposure` and `rank_slope_exposure18`: exposure measures of place's rank-rank slopes (relative mobility)\n",
    "- `income_group_mobility`: individual mobilityl, absolute value of (`income_group` - `parent_income_group`)\n",
    "- `total_z_income_exposure`: exposure of standardized income"
   ]
  },
  {
   "cell_type": "code",
   "execution_count": 18,
   "metadata": {},
   "outputs": [
    {
     "data": {
      "text/html": [
       "76.9744804756163"
      ],
      "text/latex": [
       "76.9744804756163"
      ],
      "text/markdown": [
       "76.9744804756163"
      ],
      "text/plain": [
       "[1] 76.97448"
      ]
     },
     "metadata": {},
     "output_type": "display_data"
    }
   ],
   "source": [
    "t = copy(m)\n",
    "t[, lincome := logIncome(income)]\n",
    "t[, lcounty_income := logIncome(county_mean_income)]\n",
    "t[, status := 1] # there is no censoring\n",
    "# t[, individual_income_mobility := abs(income_group_mobility)]\n",
    "# t = t[age_death > 18]\n",
    "mean(t$age_death)"
   ]
  },
  {
   "cell_type": "code",
   "execution_count": 19,
   "metadata": {},
   "outputs": [
    {
     "data": {
      "text/html": [
       "11013920"
      ],
      "text/latex": [
       "11013920"
      ],
      "text/markdown": [
       "11013920"
      ],
      "text/plain": [
       "[1] 11013920"
      ]
     },
     "metadata": {},
     "output_type": "display_data"
    }
   ],
   "source": [
    "nrow(t)"
   ]
  },
  {
   "cell_type": "code",
   "execution_count": 20,
   "metadata": {},
   "outputs": [],
   "source": [
    "snp = unique(np[, c(\"niteration\", parameters), with = FALSE])"
   ]
  },
  {
   "cell_type": "code",
   "execution_count": 21,
   "metadata": {},
   "outputs": [
    {
     "data": {
      "text/html": [
       "<table class=\"dataframe\">\n",
       "<caption>A data.table: 6 × 6</caption>\n",
       "<thead>\n",
       "\t<tr><th scope=col>niteration</th><th scope=col>move_decision_rate</th><th scope=col>prob_move_random</th><th scope=col>use_rank_slope</th><th scope=col>weight_income_exp</th><th scope=col>mortality_fake_exp_coeff</th></tr>\n",
       "\t<tr><th scope=col>&lt;int&gt;</th><th scope=col>&lt;chr&gt;</th><th scope=col>&lt;dbl&gt;</th><th scope=col>&lt;lgl&gt;</th><th scope=col>&lt;chr&gt;</th><th scope=col>&lt;dbl&gt;</th></tr>\n",
       "</thead>\n",
       "<tbody>\n",
       "\t<tr><td> 1</td><td>[0.0, 0.0, 0.0, 0.0, 0.0]</td><td>0.01</td><td>FALSE</td><td>[0.0, 0.0, 0.0, 0.0, 0.0] </td><td>0</td></tr>\n",
       "\t<tr><td> 3</td><td>[0.0, 0.0, 0.0, 0.0, 0.0]</td><td>0.01</td><td>FALSE</td><td>[0.8, 0.6, 0.4, 0.2, 0.05]</td><td>0</td></tr>\n",
       "\t<tr><td> 9</td><td>[0.1, 0.1, 0.1, 0.1, 0.1]</td><td>0.01</td><td>FALSE</td><td>[0.0, 0.0, 0.0, 0.0, 0.0] </td><td>0</td></tr>\n",
       "\t<tr><td>11</td><td>[0.1, 0.1, 0.1, 0.1, 0.1]</td><td>0.01</td><td>FALSE</td><td>[0.8, 0.6, 0.4, 0.2, 0.05]</td><td>0</td></tr>\n",
       "\t<tr><td>13</td><td>[0.1, 0.1, 0.1, 0.1, 0.1]</td><td>1.00</td><td>FALSE</td><td>[0.0, 0.0, 0.0, 0.0, 0.0] </td><td>0</td></tr>\n",
       "\t<tr><td>15</td><td>[0.1, 0.1, 0.1, 0.1, 0.1]</td><td>1.00</td><td>FALSE</td><td>[0.8, 0.6, 0.4, 0.2, 0.05]</td><td>0</td></tr>\n",
       "</tbody>\n",
       "</table>\n"
      ],
      "text/latex": [
       "A data.table: 6 × 6\n",
       "\\begin{tabular}{llllll}\n",
       " niteration & move\\_decision\\_rate & prob\\_move\\_random & use\\_rank\\_slope & weight\\_income\\_exp & mortality\\_fake\\_exp\\_coeff\\\\\n",
       " <int> & <chr> & <dbl> & <lgl> & <chr> & <dbl>\\\\\n",
       "\\hline\n",
       "\t  1 & {[}0.0, 0.0, 0.0, 0.0, 0.0{]} & 0.01 & FALSE & {[}0.0, 0.0, 0.0, 0.0, 0.0{]}  & 0\\\\\n",
       "\t  3 & {[}0.0, 0.0, 0.0, 0.0, 0.0{]} & 0.01 & FALSE & {[}0.8, 0.6, 0.4, 0.2, 0.05{]} & 0\\\\\n",
       "\t  9 & {[}0.1, 0.1, 0.1, 0.1, 0.1{]} & 0.01 & FALSE & {[}0.0, 0.0, 0.0, 0.0, 0.0{]}  & 0\\\\\n",
       "\t 11 & {[}0.1, 0.1, 0.1, 0.1, 0.1{]} & 0.01 & FALSE & {[}0.8, 0.6, 0.4, 0.2, 0.05{]} & 0\\\\\n",
       "\t 13 & {[}0.1, 0.1, 0.1, 0.1, 0.1{]} & 1.00 & FALSE & {[}0.0, 0.0, 0.0, 0.0, 0.0{]}  & 0\\\\\n",
       "\t 15 & {[}0.1, 0.1, 0.1, 0.1, 0.1{]} & 1.00 & FALSE & {[}0.8, 0.6, 0.4, 0.2, 0.05{]} & 0\\\\\n",
       "\\end{tabular}\n"
      ],
      "text/markdown": [
       "\n",
       "A data.table: 6 × 6\n",
       "\n",
       "| niteration &lt;int&gt; | move_decision_rate &lt;chr&gt; | prob_move_random &lt;dbl&gt; | use_rank_slope &lt;lgl&gt; | weight_income_exp &lt;chr&gt; | mortality_fake_exp_coeff &lt;dbl&gt; |\n",
       "|---|---|---|---|---|---|\n",
       "|  1 | [0.0, 0.0, 0.0, 0.0, 0.0] | 0.01 | FALSE | [0.0, 0.0, 0.0, 0.0, 0.0]  | 0 |\n",
       "|  3 | [0.0, 0.0, 0.0, 0.0, 0.0] | 0.01 | FALSE | [0.8, 0.6, 0.4, 0.2, 0.05] | 0 |\n",
       "|  9 | [0.1, 0.1, 0.1, 0.1, 0.1] | 0.01 | FALSE | [0.0, 0.0, 0.0, 0.0, 0.0]  | 0 |\n",
       "| 11 | [0.1, 0.1, 0.1, 0.1, 0.1] | 0.01 | FALSE | [0.8, 0.6, 0.4, 0.2, 0.05] | 0 |\n",
       "| 13 | [0.1, 0.1, 0.1, 0.1, 0.1] | 1.00 | FALSE | [0.0, 0.0, 0.0, 0.0, 0.0]  | 0 |\n",
       "| 15 | [0.1, 0.1, 0.1, 0.1, 0.1] | 1.00 | FALSE | [0.8, 0.6, 0.4, 0.2, 0.05] | 0 |\n",
       "\n"
      ],
      "text/plain": [
       "  niteration move_decision_rate        prob_move_random use_rank_slope\n",
       "1  1         [0.0, 0.0, 0.0, 0.0, 0.0] 0.01             FALSE         \n",
       "2  3         [0.0, 0.0, 0.0, 0.0, 0.0] 0.01             FALSE         \n",
       "3  9         [0.1, 0.1, 0.1, 0.1, 0.1] 0.01             FALSE         \n",
       "4 11         [0.1, 0.1, 0.1, 0.1, 0.1] 0.01             FALSE         \n",
       "5 13         [0.1, 0.1, 0.1, 0.1, 0.1] 1.00             FALSE         \n",
       "6 15         [0.1, 0.1, 0.1, 0.1, 0.1] 1.00             FALSE         \n",
       "  weight_income_exp          mortality_fake_exp_coeff\n",
       "1 [0.0, 0.0, 0.0, 0.0, 0.0]  0                       \n",
       "2 [0.8, 0.6, 0.4, 0.2, 0.05] 0                       \n",
       "3 [0.0, 0.0, 0.0, 0.0, 0.0]  0                       \n",
       "4 [0.8, 0.6, 0.4, 0.2, 0.05] 0                       \n",
       "5 [0.0, 0.0, 0.0, 0.0, 0.0]  0                       \n",
       "6 [0.8, 0.6, 0.4, 0.2, 0.05] 0                       "
      ]
     },
     "metadata": {},
     "output_type": "display_data"
    }
   ],
   "source": [
    "snp[use_rank_slope == FALSE & mortality_fake_exp_coeff == 0]"
   ]
  },
  {
   "cell_type": "code",
   "execution_count": 22,
   "metadata": {},
   "outputs": [
    {
     "name": "stdout",
     "output_type": "stream",
     "text": [
      "\n",
      "==========================================================\n",
      "                          Model 1          Model 2        \n",
      "----------------------------------------------------------\n",
      "rank_absolute_exposure18        -0.52 ***         0.10 ** \n",
      "                                (0.03)           (0.03)   \n",
      "as.factor(income_group)2        -0.07 ***        -0.05 ***\n",
      "                                (0.00)           (0.00)   \n",
      "as.factor(income_group)3        -0.13 ***        -0.09 ***\n",
      "                                (0.00)           (0.00)   \n",
      "as.factor(income_group)4        -0.21 ***        -0.14 ***\n",
      "                                (0.00)           (0.00)   \n",
      "as.factor(income_group)5        -0.31 ***        -0.17 ***\n",
      "                                (0.00)           (0.01)   \n",
      "total_z_income_exposure                          -0.12 ***\n",
      "                                                 (0.00)   \n",
      "----------------------------------------------------------\n",
      "AIC                       10867550.55      10865287.14    \n",
      "R^2                              0.01             0.02    \n",
      "Max. R^2                         1.00             1.00    \n",
      "Num. events                 452236           452236       \n",
      "Num. obs.                   452236           452236       \n",
      "Missings                         0                0       \n",
      "PH test                          0.00             0.00    \n",
      "==========================================================\n",
      "*** p < 0.001; ** p < 0.01; * p < 0.05\n"
     ]
    }
   ],
   "source": [
    "m1 = coxph(Surv(age_death, status) ~ rank_absolute_exposure18 + as.factor(income_group), data = t[niteration == 11])\n",
    "m2 = coxph(Surv(age_death, status) ~ rank_absolute_exposure18 + as.factor(income_group) +  total_z_income_exposure, data = t[niteration == 11])\n",
    "\n",
    "cat(screenreg(list(m1, m2)))"
   ]
  },
  {
   "cell_type": "code",
   "execution_count": 38,
   "metadata": {},
   "outputs": [],
   "source": [
    "iter = 11\n",
    "age = 18\n",
    "m1 = coxph( Surv(age_death, status)~ rank_absolute_exposure18, data = t[niteration==iter & age_death > age])\n",
    "m2 = coxph( Surv(age_death, status)~ rank_absolute_exposure18 + as.factor(income_group), data = t[niteration==iter & age_death > age])\n",
    "m3 = coxph( Surv(age_death, status)~ rank_absolute_exposure18 + as.factor(income_group) + total_z_income_exposure , data = t[niteration==iter & age_death > age])\n",
    "cat(screenreg(list(m1, m2, m3)))\n"
   ]
  },
  {
   "cell_type": "code",
   "execution_count": null,
   "metadata": {},
   "outputs": [],
   "source": [
    "ss = t[iteration == 11]"
   ]
  },
  {
   "cell_type": "code",
   "execution_count": 166,
   "metadata": {},
   "outputs": [
    {
     "data": {
      "text/html": [
       "<table class=\"dataframe\">\n",
       "<caption>A matrix: 8 × 8 of type dbl</caption>\n",
       "<thead>\n",
       "\t<tr><th></th><th scope=col>rank_absolute_exposure18</th><th scope=col>rank_slope_exposure18</th><th scope=col>county_rank_slope</th><th scope=col>parent_rank_difference</th><th scope=col>income</th><th scope=col>county_mean_income</th><th scope=col>age_death</th><th scope=col>total_z_income_exposure</th></tr>\n",
       "</thead>\n",
       "<tbody>\n",
       "\t<tr><th scope=row>rank_absolute_exposure18</th><td> 1.00000000</td><td>-0.3994691726</td><td>-0.059017873</td><td> 0.25567596</td><td> 0.170610986</td><td> 0.285309153</td><td>0.0441258970</td><td>0.46771502</td></tr>\n",
       "\t<tr><th scope=row>rank_slope_exposure18</th><td>-0.39946917</td><td> 1.0000000000</td><td> 0.106261548</td><td>-0.01601226</td><td>-0.009811171</td><td>-0.005984632</td><td>0.0007771591</td><td>0.01616512</td></tr>\n",
       "\t<tr><th scope=row>county_rank_slope</th><td>-0.05901787</td><td> 0.1062615481</td><td> 1.000000000</td><td> 0.04421095</td><td> 0.045096328</td><td> 0.087250894</td><td>0.0040290261</td><td>0.06364535</td></tr>\n",
       "\t<tr><th scope=row>parent_rank_difference</th><td> 0.25567596</td><td>-0.0160122601</td><td> 0.044210948</td><td> 1.00000000</td><td> 0.763426047</td><td> 0.585414351</td><td>0.1532798293</td><td>0.51769038</td></tr>\n",
       "\t<tr><th scope=row>income</th><td> 0.17061099</td><td>-0.0098111713</td><td> 0.045096328</td><td> 0.76342605</td><td> 1.000000000</td><td> 0.496922841</td><td>0.0695300812</td><td>0.42385203</td></tr>\n",
       "\t<tr><th scope=row>county_mean_income</th><td> 0.28530915</td><td>-0.0059846318</td><td> 0.087250894</td><td> 0.58541435</td><td> 0.496922841</td><td> 1.000000000</td><td>0.0882564090</td><td>0.81485387</td></tr>\n",
       "\t<tr><th scope=row>age_death</th><td> 0.04412590</td><td> 0.0007771591</td><td> 0.004029026</td><td> 0.15327983</td><td> 0.069530081</td><td> 0.088256409</td><td>1.0000000000</td><td>0.10628731</td></tr>\n",
       "\t<tr><th scope=row>total_z_income_exposure</th><td> 0.46771502</td><td> 0.0161651199</td><td> 0.063645349</td><td> 0.51769038</td><td> 0.423852029</td><td> 0.814853866</td><td>0.1062873059</td><td>1.00000000</td></tr>\n",
       "</tbody>\n",
       "</table>\n"
      ],
      "text/latex": [
       "A matrix: 8 × 8 of type dbl\n",
       "\\begin{tabular}{r|llllllll}\n",
       "  & rank\\_absolute\\_exposure18 & rank\\_slope\\_exposure18 & county\\_rank\\_slope & parent\\_rank\\_difference & income & county\\_mean\\_income & age\\_death & total\\_z\\_income\\_exposure\\\\\n",
       "\\hline\n",
       "\trank\\_absolute\\_exposure18 &  1.00000000 & -0.3994691726 & -0.059017873 &  0.25567596 &  0.170610986 &  0.285309153 & 0.0441258970 & 0.46771502\\\\\n",
       "\trank\\_slope\\_exposure18 & -0.39946917 &  1.0000000000 &  0.106261548 & -0.01601226 & -0.009811171 & -0.005984632 & 0.0007771591 & 0.01616512\\\\\n",
       "\tcounty\\_rank\\_slope & -0.05901787 &  0.1062615481 &  1.000000000 &  0.04421095 &  0.045096328 &  0.087250894 & 0.0040290261 & 0.06364535\\\\\n",
       "\tparent\\_rank\\_difference &  0.25567596 & -0.0160122601 &  0.044210948 &  1.00000000 &  0.763426047 &  0.585414351 & 0.1532798293 & 0.51769038\\\\\n",
       "\tincome &  0.17061099 & -0.0098111713 &  0.045096328 &  0.76342605 &  1.000000000 &  0.496922841 & 0.0695300812 & 0.42385203\\\\\n",
       "\tcounty\\_mean\\_income &  0.28530915 & -0.0059846318 &  0.087250894 &  0.58541435 &  0.496922841 &  1.000000000 & 0.0882564090 & 0.81485387\\\\\n",
       "\tage\\_death &  0.04412590 &  0.0007771591 &  0.004029026 &  0.15327983 &  0.069530081 &  0.088256409 & 1.0000000000 & 0.10628731\\\\\n",
       "\ttotal\\_z\\_income\\_exposure &  0.46771502 &  0.0161651199 &  0.063645349 &  0.51769038 &  0.423852029 &  0.814853866 & 0.1062873059 & 1.00000000\\\\\n",
       "\\end{tabular}\n"
      ],
      "text/markdown": [
       "\n",
       "A matrix: 8 × 8 of type dbl\n",
       "\n",
       "| <!--/--> | rank_absolute_exposure18 | rank_slope_exposure18 | county_rank_slope | parent_rank_difference | income | county_mean_income | age_death | total_z_income_exposure |\n",
       "|---|---|---|---|---|---|---|---|---|\n",
       "| rank_absolute_exposure18 |  1.00000000 | -0.3994691726 | -0.059017873 |  0.25567596 |  0.170610986 |  0.285309153 | 0.0441258970 | 0.46771502 |\n",
       "| rank_slope_exposure18 | -0.39946917 |  1.0000000000 |  0.106261548 | -0.01601226 | -0.009811171 | -0.005984632 | 0.0007771591 | 0.01616512 |\n",
       "| county_rank_slope | -0.05901787 |  0.1062615481 |  1.000000000 |  0.04421095 |  0.045096328 |  0.087250894 | 0.0040290261 | 0.06364535 |\n",
       "| parent_rank_difference |  0.25567596 | -0.0160122601 |  0.044210948 |  1.00000000 |  0.763426047 |  0.585414351 | 0.1532798293 | 0.51769038 |\n",
       "| income |  0.17061099 | -0.0098111713 |  0.045096328 |  0.76342605 |  1.000000000 |  0.496922841 | 0.0695300812 | 0.42385203 |\n",
       "| county_mean_income |  0.28530915 | -0.0059846318 |  0.087250894 |  0.58541435 |  0.496922841 |  1.000000000 | 0.0882564090 | 0.81485387 |\n",
       "| age_death |  0.04412590 |  0.0007771591 |  0.004029026 |  0.15327983 |  0.069530081 |  0.088256409 | 1.0000000000 | 0.10628731 |\n",
       "| total_z_income_exposure |  0.46771502 |  0.0161651199 |  0.063645349 |  0.51769038 |  0.423852029 |  0.814853866 | 0.1062873059 | 1.00000000 |\n",
       "\n"
      ],
      "text/plain": [
       "                         rank_absolute_exposure18 rank_slope_exposure18\n",
       "rank_absolute_exposure18  1.00000000              -0.3994691726        \n",
       "rank_slope_exposure18    -0.39946917               1.0000000000        \n",
       "county_rank_slope        -0.05901787               0.1062615481        \n",
       "parent_rank_difference    0.25567596              -0.0160122601        \n",
       "income                    0.17061099              -0.0098111713        \n",
       "county_mean_income        0.28530915              -0.0059846318        \n",
       "age_death                 0.04412590               0.0007771591        \n",
       "total_z_income_exposure   0.46771502               0.0161651199        \n",
       "                         county_rank_slope parent_rank_difference income      \n",
       "rank_absolute_exposure18 -0.059017873       0.25567596             0.170610986\n",
       "rank_slope_exposure18     0.106261548      -0.01601226            -0.009811171\n",
       "county_rank_slope         1.000000000       0.04421095             0.045096328\n",
       "parent_rank_difference    0.044210948       1.00000000             0.763426047\n",
       "income                    0.045096328       0.76342605             1.000000000\n",
       "county_mean_income        0.087250894       0.58541435             0.496922841\n",
       "age_death                 0.004029026       0.15327983             0.069530081\n",
       "total_z_income_exposure   0.063645349       0.51769038             0.423852029\n",
       "                         county_mean_income age_death   \n",
       "rank_absolute_exposure18  0.285309153       0.0441258970\n",
       "rank_slope_exposure18    -0.005984632       0.0007771591\n",
       "county_rank_slope         0.087250894       0.0040290261\n",
       "parent_rank_difference    0.585414351       0.1532798293\n",
       "income                    0.496922841       0.0695300812\n",
       "county_mean_income        1.000000000       0.0882564090\n",
       "age_death                 0.088256409       1.0000000000\n",
       "total_z_income_exposure   0.814853866       0.1062873059\n",
       "                         total_z_income_exposure\n",
       "rank_absolute_exposure18 0.46771502             \n",
       "rank_slope_exposure18    0.01616512             \n",
       "county_rank_slope        0.06364535             \n",
       "parent_rank_difference   0.51769038             \n",
       "income                   0.42385203             \n",
       "county_mean_income       0.81485387             \n",
       "age_death                0.10628731             \n",
       "total_z_income_exposure  1.00000000             "
      ]
     },
     "metadata": {},
     "output_type": "display_data"
    }
   ],
   "source": [
    "cor(ss[, .(rank_absolute_exposure18, rank_slope_exposure18, county_rank_slope, parent_rank_difference, income, \n",
    "    county_mean_income, age_death, total_z_income_exposure)])"
   ]
  },
  {
   "cell_type": "code",
   "execution_count": 177,
   "metadata": {},
   "outputs": [
    {
     "name": "stderr",
     "output_type": "stream",
     "text": [
      "`geom_smooth()` using formula 'y ~ x'\n",
      "\n"
     ]
    }
   ],
   "source": [
    "ggplot((ss[age_death > 0 & age_death < 110, .(rank_absolute_exposure18, age_death)]), aes(rank_absolute_exposure18, age_death)) +\n",
    "    geom_point(size = 0.3) +\n",
    "    geom_smooth(method = \"loess\") +\n",
    "    theme_minimal()"
   ]
  },
  {
   "cell_type": "code",
   "execution_count": 145,
   "metadata": {},
   "outputs": [
    {
     "name": "stdout",
     "output_type": "stream",
     "text": [
      "\n",
      "==========================================================\n",
      "                          Model 1          Model 2        \n",
      "----------------------------------------------------------\n",
      "rank_absolute_exposure18        -1.38 ***        -0.73 ***\n",
      "                                (0.02)           (0.05)   \n",
      "as.factor(income_group)2        -0.05 ***        -0.05 ***\n",
      "                                (0.00)           (0.00)   \n",
      "as.factor(income_group)3        -0.11 ***        -0.11 ***\n",
      "                                (0.00)           (0.00)   \n",
      "as.factor(income_group)4        -0.16 ***        -0.16 ***\n",
      "                                (0.00)           (0.00)   \n",
      "as.factor(income_group)5        -0.21 ***        -0.20 ***\n",
      "                                (0.00)           (0.00)   \n",
      "total_z_income_exposure                          -0.06 ***\n",
      "                                                 (0.00)   \n",
      "----------------------------------------------------------\n",
      "AIC                       11103369.22      11103123.66    \n",
      "R^2                              0.02             0.02    \n",
      "Max. R^2                         1.00             1.00    \n",
      "Num. events                 461363           461363       \n",
      "Num. obs.                   461363           461363       \n",
      "Missings                         0                0       \n",
      "PH test                          0.00             0.00    \n",
      "==========================================================\n",
      "*** p < 0.001; ** p < 0.01; * p < 0.05\n"
     ]
    }
   ],
   "source": [
    "m1 = coxph(Surv(age_death, status) ~ rank_absolute_exposure18 + as.factor(income_group), data = t[niteration == 8])\n",
    "m2 = coxph(Surv(age_death, status) ~ rank_absolute_exposure18 + as.factor(income_group) +  total_z_income_exposure, data = t[niteration == 8])\n",
    "\n",
    "cat(screenreg(list(m1, m2)))"
   ]
  },
  {
   "cell_type": "code",
   "execution_count": 126,
   "metadata": {},
   "outputs": [
    {
     "name": "stdout",
     "output_type": "stream",
     "text": [
      "\n",
      "==========================================================\n",
      "                          Model 1          Model 2        \n",
      "----------------------------------------------------------\n",
      "rank_absolute_exposure18        -0.23 ***         0.00    \n",
      "                                (0.04)           (0.04)   \n",
      "as.factor(income_group)2        -0.07 ***        -0.05 ***\n",
      "                                (0.00)           (0.00)   \n",
      "as.factor(income_group)3        -0.13 ***        -0.09 ***\n",
      "                                (0.00)           (0.00)   \n",
      "as.factor(income_group)4        -0.20 ***        -0.14 ***\n",
      "                                (0.00)           (0.00)   \n",
      "as.factor(income_group)5        -0.31 ***        -0.18 ***\n",
      "                                (0.00)           (0.01)   \n",
      "total_z_income_exposure                          -0.11 ***\n",
      "                                                 (0.00)   \n",
      "----------------------------------------------------------\n",
      "AIC                       10851620.04      10849278.91    \n",
      "R^2                              0.01             0.02    \n",
      "Max. R^2                         1.00             1.00    \n",
      "Num. events                 451594           451594       \n",
      "Num. obs.                   451594           451594       \n",
      "Missings                         0                0       \n",
      "PH test                          0.18             0.00    \n",
      "==========================================================\n",
      "*** p < 0.001; ** p < 0.01; * p < 0.05\n"
     ]
    }
   ],
   "source": [
    "m1 = coxph(Surv(age_death, status) ~ rank_absolute_exposure18 + as.factor(income_group), data = t[niteration == 9])\n",
    "m2 = coxph(Surv(age_death, status) ~ rank_absolute_exposure18 + as.factor(income_group) +  total_z_income_exposure, data = t[niteration == 9])\n",
    "\n",
    "cat(screenreg(list(m1, m2)))"
   ]
  },
  {
   "cell_type": "code",
   "execution_count": 127,
   "metadata": {},
   "outputs": [
    {
     "name": "stdout",
     "output_type": "stream",
     "text": [
      "\n",
      "==========================================================\n",
      "                          Model 1          Model 2        \n",
      "----------------------------------------------------------\n",
      "rank_slope_exposure18           -0.04 *          -0.01    \n",
      "                                (0.02)           (0.02)   \n",
      "as.factor(income_group)2        -0.08 ***        -0.04 ***\n",
      "                                (0.00)           (0.00)   \n",
      "as.factor(income_group)3        -0.15 ***        -0.09 ***\n",
      "                                (0.00)           (0.00)   \n",
      "as.factor(income_group)4        -0.23 ***        -0.13 ***\n",
      "                                (0.00)           (0.00)   \n",
      "as.factor(income_group)5        -0.33 ***        -0.17 ***\n",
      "                                (0.00)           (0.01)   \n",
      "total_z_income_exposure                          -0.12 ***\n",
      "                                                 (0.00)   \n",
      "----------------------------------------------------------\n",
      "AIC                       10867827.75      10865294.78    \n",
      "R^2                              0.01             0.02    \n",
      "Max. R^2                         1.00             1.00    \n",
      "Num. events                 452236           452236       \n",
      "Num. obs.                   452236           452236       \n",
      "Missings                         0                0       \n",
      "PH test                          0.06             0.00    \n",
      "==========================================================\n",
      "*** p < 0.001; ** p < 0.01; * p < 0.05\n"
     ]
    }
   ],
   "source": [
    "m1 = coxph(Surv(age_death, status) ~ rank_slope_exposure18 + as.factor(income_group), data = t[niteration == 11])\n",
    "m2 = coxph(Surv(age_death, status) ~ rank_slope_exposure18 + as.factor(income_group) +  total_z_income_exposure, data = t[niteration == 11])\n",
    "\n",
    "cat(screenreg(list(m1, m2)))"
   ]
  },
  {
   "cell_type": "code",
   "execution_count": 97,
   "metadata": {},
   "outputs": [
    {
     "name": "stdout",
     "output_type": "stream",
     "text": [
      "\n",
      "==========================================================\n",
      "                          Model 1          Model 2        \n",
      "----------------------------------------------------------\n",
      "rank_absolute_exposure18        -1.18 ***         0.26 ***\n",
      "                                (0.03)           (0.04)   \n",
      "as.factor(income_group)2        -0.06 ***        -0.06 ***\n",
      "                                (0.00)           (0.00)   \n",
      "as.factor(income_group)3        -0.12 ***        -0.10 ***\n",
      "                                (0.00)           (0.00)   \n",
      "as.factor(income_group)4        -0.18 ***        -0.15 ***\n",
      "                                (0.00)           (0.00)   \n",
      "as.factor(income_group)5        -0.24 ***        -0.20 ***\n",
      "                                (0.00)           (0.00)   \n",
      "total_z_income_exposure                          -0.12 ***\n",
      "                                                 (0.00)   \n",
      "----------------------------------------------------------\n",
      "AIC                       10849816.95      10847781.59    \n",
      "R^2                              0.01             0.02    \n",
      "Max. R^2                         1.00             1.00    \n",
      "Num. events                 451557           451557       \n",
      "Num. obs.                   451557           451557       \n",
      "Missings                         0                0       \n",
      "PH test                          0.00             0.00    \n",
      "==========================================================\n",
      "*** p < 0.001; ** p < 0.01; * p < 0.05\n"
     ]
    }
   ],
   "source": [
    "m1 = coxph(Surv(age_death, status) ~ rank_absolute_exposure18 + as.factor(income_group), data = t[iteration == 3])\n",
    "m2 = coxph(Surv(age_death, status) ~ rank_absolute_exposure18 + as.factor(income_group) +  total_z_income_exposure, data = t[iteration == 3])\n",
    "\n",
    "cat(screenreg(list(m1, m2)))"
   ]
  },
  {
   "cell_type": "code",
   "execution_count": 98,
   "metadata": {},
   "outputs": [
    {
     "name": "stdout",
     "output_type": "stream",
     "text": [
      "\n",
      "==========================================================\n",
      "                          Model 1          Model 2        \n",
      "----------------------------------------------------------\n",
      "rank_absolute_exposure18        -1.06 ***        -0.01    \n",
      "                                (0.03)           (0.04)   \n",
      "as.factor(income_group)2        -0.05 ***        -0.04 ***\n",
      "                                (0.00)           (0.00)   \n",
      "as.factor(income_group)3        -0.10 ***        -0.10 ***\n",
      "                                (0.00)           (0.00)   \n",
      "as.factor(income_group)4        -0.16 ***        -0.16 ***\n",
      "                                (0.00)           (0.00)   \n",
      "as.factor(income_group)5        -0.21 ***        -0.20 ***\n",
      "                                (0.00)           (0.00)   \n",
      "total_z_income_exposure                          -0.11 ***\n",
      "                                                 (0.00)   \n",
      "----------------------------------------------------------\n",
      "AIC                       10837194.40      10835440.56    \n",
      "R^2                              0.01             0.01    \n",
      "Max. R^2                         1.00             1.00    \n",
      "Num. events                 451008           451008       \n",
      "Num. obs.                   451008           451008       \n",
      "Missings                         0                0       \n",
      "PH test                          0.06             0.00    \n",
      "==========================================================\n",
      "*** p < 0.001; ** p < 0.01; * p < 0.05\n"
     ]
    }
   ],
   "source": [
    "m1 = coxph(Surv(age_death, status) ~ rank_absolute_exposure18 + as.factor(income_group), data = t[iteration == 4])\n",
    "m2 = coxph(Surv(age_death, status) ~ rank_absolute_exposure18 + as.factor(income_group) +  total_z_income_exposure, data = t[iteration == 4])\n",
    "\n",
    "cat(screenreg(list(m1, m2)))"
   ]
  },
  {
   "cell_type": "code",
   "execution_count": 99,
   "metadata": {},
   "outputs": [
    {
     "name": "stdout",
     "output_type": "stream",
     "text": [
      "\n",
      "==========================================================\n",
      "                          Model 1          Model 2        \n",
      "----------------------------------------------------------\n",
      "rank_slope_exposure18            0.03            -0.00    \n",
      "                                (0.02)           (0.02)   \n",
      "as.factor(income_group)2        -0.07 ***        -0.05 ***\n",
      "                                (0.00)           (0.00)   \n",
      "as.factor(income_group)3        -0.13 ***        -0.09 ***\n",
      "                                (0.00)           (0.00)   \n",
      "as.factor(income_group)4        -0.20 ***        -0.14 ***\n",
      "                                (0.00)           (0.00)   \n",
      "as.factor(income_group)5        -0.30 ***        -0.17 ***\n",
      "                                (0.00)           (0.01)   \n",
      "total_z_income_exposure                          -0.12 ***\n",
      "                                                 (0.00)   \n",
      "----------------------------------------------------------\n",
      "AIC                       10847589.32      10845065.70    \n",
      "R^2                              0.01             0.02    \n",
      "Max. R^2                         1.00             1.00    \n",
      "Num. events                 451427           451427       \n",
      "Num. obs.                   451427           451427       \n",
      "Missings                         0                0       \n",
      "PH test                          0.74             0.00    \n",
      "==========================================================\n",
      "*** p < 0.001; ** p < 0.01; * p < 0.05\n"
     ]
    }
   ],
   "source": [
    "m1 = coxph(Surv(age_death, status) ~ rank_slope_exposure18 + as.factor(income_group), data = t[iteration == 5])\n",
    "m2 = coxph(Surv(age_death, status) ~ rank_slope_exposure18 + as.factor(income_group) +  total_z_income_exposure, data = t[iteration == 5])\n",
    "\n",
    "cat(screenreg(list(m1, m2)))"
   ]
  },
  {
   "cell_type": "code",
   "execution_count": 100,
   "metadata": {},
   "outputs": [
    {
     "name": "stdout",
     "output_type": "stream",
     "text": [
      "\n",
      "==========================================================\n",
      "                          Model 1          Model 2        \n",
      "----------------------------------------------------------\n",
      "rank_slope_exposure18           -0.02            -0.02    \n",
      "                                (0.03)           (0.03)   \n",
      "as.factor(income_group)2        -0.05 ***        -0.05 ***\n",
      "                                (0.00)           (0.00)   \n",
      "as.factor(income_group)3        -0.10 ***        -0.10 ***\n",
      "                                (0.00)           (0.00)   \n",
      "as.factor(income_group)4        -0.16 ***        -0.16 ***\n",
      "                                (0.00)           (0.00)   \n",
      "as.factor(income_group)5        -0.21 ***        -0.20 ***\n",
      "                                (0.00)           (0.00)   \n",
      "total_z_income_exposure                          -0.11 ***\n",
      "                                                 (0.00)   \n",
      "----------------------------------------------------------\n",
      "AIC                       10832460.23      10831911.23    \n",
      "R^2                              0.01             0.01    \n",
      "Max. R^2                         1.00             1.00    \n",
      "Num. events                 450756           450756       \n",
      "Num. obs.                   450756           450756       \n",
      "Missings                         0                0       \n",
      "PH test                          0.00             0.00    \n",
      "==========================================================\n",
      "*** p < 0.001; ** p < 0.01; * p < 0.05\n"
     ]
    }
   ],
   "source": [
    "m1 = coxph(Surv(age_death, status) ~ rank_slope_exposure18 + as.factor(income_group), data = t[iteration == 6])\n",
    "m2 = coxph(Surv(age_death, status) ~ rank_slope_exposure18 + as.factor(income_group) +  total_z_income_exposure, data = t[iteration == 6])\n",
    "\n",
    "cat(screenreg(list(m1, m2)))"
   ]
  },
  {
   "cell_type": "code",
   "execution_count": 25,
   "metadata": {},
   "outputs": [
    {
     "data": {
      "text/html": [
       "0"
      ],
      "text/latex": [
       "0"
      ],
      "text/markdown": [
       "0"
      ],
      "text/plain": [
       "[1] 0"
      ]
     },
     "metadata": {},
     "output_type": "display_data"
    }
   ],
   "source": [
    "# average number of county changes (residential moves)\n",
    "mean(t$nmoves)"
   ]
  },
  {
   "cell_type": "code",
   "execution_count": 26,
   "metadata": {},
   "outputs": [
    {
     "data": {
      "text/html": [
       "<style>\n",
       ".list-inline {list-style: none; margin:0; padding: 0}\n",
       ".list-inline>li {display: inline-block}\n",
       ".list-inline>li:not(:last-child)::after {content: \"\\00b7\"; padding: 0 .5ex}\n",
       "</style>\n",
       "<ol class=list-inline><li>'iteration'</li><li>'replicate'</li><li>'model_time'</li><li>'id'</li><li>'fertility_control'</li><li>'parent_id'</li><li>'generation'</li><li>'birthdate'</li><li>'age_death'</li><li>'income_group'</li><li>'income'</li><li>'parent_income_group'</li><li>'parent_income'</li><li>'rank'</li><li>'parent_rank_difference'</li><li>'income_group_mobility'</li><li>'county'</li><li>'nkids'</li><li>'nmoves'</li><li>'nmoves_kid'</li><li>'smoker'</li><li>'parent_smoker'</li><li>'county_mean_income'</li><li>'county_median_income'</li><li>'county_gini'</li><li>'county_rank_correlation'</li><li>'county_rank_slope'</li><li>'county_rank_absolute'</li><li>'total_rank_slope_exposure'</li><li>'rank_slope_exposure18'</li><li>'total_rank_absolute_exposure'</li><li>'rank_absolute_exposure18'</li><li>'total_rank_cor_exposure'</li><li>'rank_cor_exposure18'</li><li>'total_z_income_exposure'</li><li>'z_income_exposure30'</li><li>'niteration'</li><li>'nreplicate'</li><li>'move_decision_rate'</li><li>'prob_move_random'</li><li>'use_rank_slope'</li></ol>\n"
      ],
      "text/latex": [
       "\\begin{enumerate*}\n",
       "\\item 'iteration'\n",
       "\\item 'replicate'\n",
       "\\item 'model\\_time'\n",
       "\\item 'id'\n",
       "\\item 'fertility\\_control'\n",
       "\\item 'parent\\_id'\n",
       "\\item 'generation'\n",
       "\\item 'birthdate'\n",
       "\\item 'age\\_death'\n",
       "\\item 'income\\_group'\n",
       "\\item 'income'\n",
       "\\item 'parent\\_income\\_group'\n",
       "\\item 'parent\\_income'\n",
       "\\item 'rank'\n",
       "\\item 'parent\\_rank\\_difference'\n",
       "\\item 'income\\_group\\_mobility'\n",
       "\\item 'county'\n",
       "\\item 'nkids'\n",
       "\\item 'nmoves'\n",
       "\\item 'nmoves\\_kid'\n",
       "\\item 'smoker'\n",
       "\\item 'parent\\_smoker'\n",
       "\\item 'county\\_mean\\_income'\n",
       "\\item 'county\\_median\\_income'\n",
       "\\item 'county\\_gini'\n",
       "\\item 'county\\_rank\\_correlation'\n",
       "\\item 'county\\_rank\\_slope'\n",
       "\\item 'county\\_rank\\_absolute'\n",
       "\\item 'total\\_rank\\_slope\\_exposure'\n",
       "\\item 'rank\\_slope\\_exposure18'\n",
       "\\item 'total\\_rank\\_absolute\\_exposure'\n",
       "\\item 'rank\\_absolute\\_exposure18'\n",
       "\\item 'total\\_rank\\_cor\\_exposure'\n",
       "\\item 'rank\\_cor\\_exposure18'\n",
       "\\item 'total\\_z\\_income\\_exposure'\n",
       "\\item 'z\\_income\\_exposure30'\n",
       "\\item 'niteration'\n",
       "\\item 'nreplicate'\n",
       "\\item 'move\\_decision\\_rate'\n",
       "\\item 'prob\\_move\\_random'\n",
       "\\item 'use\\_rank\\_slope'\n",
       "\\end{enumerate*}\n"
      ],
      "text/markdown": [
       "1. 'iteration'\n",
       "2. 'replicate'\n",
       "3. 'model_time'\n",
       "4. 'id'\n",
       "5. 'fertility_control'\n",
       "6. 'parent_id'\n",
       "7. 'generation'\n",
       "8. 'birthdate'\n",
       "9. 'age_death'\n",
       "10. 'income_group'\n",
       "11. 'income'\n",
       "12. 'parent_income_group'\n",
       "13. 'parent_income'\n",
       "14. 'rank'\n",
       "15. 'parent_rank_difference'\n",
       "16. 'income_group_mobility'\n",
       "17. 'county'\n",
       "18. 'nkids'\n",
       "19. 'nmoves'\n",
       "20. 'nmoves_kid'\n",
       "21. 'smoker'\n",
       "22. 'parent_smoker'\n",
       "23. 'county_mean_income'\n",
       "24. 'county_median_income'\n",
       "25. 'county_gini'\n",
       "26. 'county_rank_correlation'\n",
       "27. 'county_rank_slope'\n",
       "28. 'county_rank_absolute'\n",
       "29. 'total_rank_slope_exposure'\n",
       "30. 'rank_slope_exposure18'\n",
       "31. 'total_rank_absolute_exposure'\n",
       "32. 'rank_absolute_exposure18'\n",
       "33. 'total_rank_cor_exposure'\n",
       "34. 'rank_cor_exposure18'\n",
       "35. 'total_z_income_exposure'\n",
       "36. 'z_income_exposure30'\n",
       "37. 'niteration'\n",
       "38. 'nreplicate'\n",
       "39. 'move_decision_rate'\n",
       "40. 'prob_move_random'\n",
       "41. 'use_rank_slope'\n",
       "\n",
       "\n"
      ],
      "text/plain": [
       " [1] \"iteration\"                    \"replicate\"                   \n",
       " [3] \"model_time\"                   \"id\"                          \n",
       " [5] \"fertility_control\"            \"parent_id\"                   \n",
       " [7] \"generation\"                   \"birthdate\"                   \n",
       " [9] \"age_death\"                    \"income_group\"                \n",
       "[11] \"income\"                       \"parent_income_group\"         \n",
       "[13] \"parent_income\"                \"rank\"                        \n",
       "[15] \"parent_rank_difference\"       \"income_group_mobility\"       \n",
       "[17] \"county\"                       \"nkids\"                       \n",
       "[19] \"nmoves\"                       \"nmoves_kid\"                  \n",
       "[21] \"smoker\"                       \"parent_smoker\"               \n",
       "[23] \"county_mean_income\"           \"county_median_income\"        \n",
       "[25] \"county_gini\"                  \"county_rank_correlation\"     \n",
       "[27] \"county_rank_slope\"            \"county_rank_absolute\"        \n",
       "[29] \"total_rank_slope_exposure\"    \"rank_slope_exposure18\"       \n",
       "[31] \"total_rank_absolute_exposure\" \"rank_absolute_exposure18\"    \n",
       "[33] \"total_rank_cor_exposure\"      \"rank_cor_exposure18\"         \n",
       "[35] \"total_z_income_exposure\"      \"z_income_exposure30\"         \n",
       "[37] \"niteration\"                   \"nreplicate\"                  \n",
       "[39] \"move_decision_rate\"           \"prob_move_random\"            \n",
       "[41] \"use_rank_slope\"              "
      ]
     },
     "metadata": {},
     "output_type": "display_data"
    }
   ],
   "source": [
    "names(m)"
   ]
  },
  {
   "cell_type": "code",
   "execution_count": 80,
   "metadata": {},
   "outputs": [
    {
     "data": {
      "text/html": [
       "<table class=\"dataframe\">\n",
       "<caption>A matrix: 8 × 8 of type dbl</caption>\n",
       "<thead>\n",
       "\t<tr><th></th><th scope=col>rank_absolute_exposure18</th><th scope=col>rank_slope_exposure18</th><th scope=col>county_rank_slope</th><th scope=col>parent_rank_difference</th><th scope=col>income</th><th scope=col>county_mean_income</th><th scope=col>age_death</th><th scope=col>total_z_income_exposure</th></tr>\n",
       "</thead>\n",
       "<tbody>\n",
       "\t<tr><th scope=row>rank_absolute_exposure18</th><td> 1.00000000</td><td>-0.58808107</td><td>-0.36494191</td><td> 0.21648696</td><td> 0.16437461</td><td> 0.7961243</td><td> 0.07363204</td><td> 0.85209201</td></tr>\n",
       "\t<tr><th scope=row>rank_slope_exposure18</th><td>-0.58808107</td><td> 1.00000000</td><td> 0.43158104</td><td>-0.06956797</td><td>-0.05183537</td><td>-0.2404439</td><td>-0.01857546</td><td>-0.23613630</td></tr>\n",
       "\t<tr><th scope=row>county_rank_slope</th><td>-0.36494191</td><td> 0.43158104</td><td> 1.00000000</td><td>-0.06903061</td><td>-0.04624647</td><td>-0.2115122</td><td>-0.02231119</td><td>-0.22990051</td></tr>\n",
       "\t<tr><th scope=row>parent_rank_difference</th><td> 0.21648696</td><td>-0.06956797</td><td>-0.06903061</td><td> 1.00000000</td><td> 0.75027048</td><td> 0.2315235</td><td> 0.14755655</td><td> 0.23260229</td></tr>\n",
       "\t<tr><th scope=row>income</th><td> 0.16437461</td><td>-0.05183537</td><td>-0.04624647</td><td> 0.75027048</td><td> 1.00000000</td><td> 0.2028128</td><td> 0.06229670</td><td> 0.19530794</td></tr>\n",
       "\t<tr><th scope=row>county_mean_income</th><td> 0.79612431</td><td>-0.24044387</td><td>-0.21151215</td><td> 0.23152347</td><td> 0.20281282</td><td> 1.0000000</td><td> 0.08146770</td><td> 0.92330384</td></tr>\n",
       "\t<tr><th scope=row>age_death</th><td> 0.07363204</td><td>-0.01857546</td><td>-0.02231119</td><td> 0.14755655</td><td> 0.06229670</td><td> 0.0814677</td><td> 1.00000000</td><td> 0.08860652</td></tr>\n",
       "\t<tr><th scope=row>total_z_income_exposure</th><td> 0.85209201</td><td>-0.23613630</td><td>-0.22990051</td><td> 0.23260229</td><td> 0.19530794</td><td> 0.9233038</td><td> 0.08860652</td><td> 1.00000000</td></tr>\n",
       "</tbody>\n",
       "</table>\n"
      ],
      "text/latex": [
       "A matrix: 8 × 8 of type dbl\n",
       "\\begin{tabular}{r|llllllll}\n",
       "  & rank\\_absolute\\_exposure18 & rank\\_slope\\_exposure18 & county\\_rank\\_slope & parent\\_rank\\_difference & income & county\\_mean\\_income & age\\_death & total\\_z\\_income\\_exposure\\\\\n",
       "\\hline\n",
       "\trank\\_absolute\\_exposure18 &  1.00000000 & -0.58808107 & -0.36494191 &  0.21648696 &  0.16437461 &  0.7961243 &  0.07363204 &  0.85209201\\\\\n",
       "\trank\\_slope\\_exposure18 & -0.58808107 &  1.00000000 &  0.43158104 & -0.06956797 & -0.05183537 & -0.2404439 & -0.01857546 & -0.23613630\\\\\n",
       "\tcounty\\_rank\\_slope & -0.36494191 &  0.43158104 &  1.00000000 & -0.06903061 & -0.04624647 & -0.2115122 & -0.02231119 & -0.22990051\\\\\n",
       "\tparent\\_rank\\_difference &  0.21648696 & -0.06956797 & -0.06903061 &  1.00000000 &  0.75027048 &  0.2315235 &  0.14755655 &  0.23260229\\\\\n",
       "\tincome &  0.16437461 & -0.05183537 & -0.04624647 &  0.75027048 &  1.00000000 &  0.2028128 &  0.06229670 &  0.19530794\\\\\n",
       "\tcounty\\_mean\\_income &  0.79612431 & -0.24044387 & -0.21151215 &  0.23152347 &  0.20281282 &  1.0000000 &  0.08146770 &  0.92330384\\\\\n",
       "\tage\\_death &  0.07363204 & -0.01857546 & -0.02231119 &  0.14755655 &  0.06229670 &  0.0814677 &  1.00000000 &  0.08860652\\\\\n",
       "\ttotal\\_z\\_income\\_exposure &  0.85209201 & -0.23613630 & -0.22990051 &  0.23260229 &  0.19530794 &  0.9233038 &  0.08860652 &  1.00000000\\\\\n",
       "\\end{tabular}\n"
      ],
      "text/markdown": [
       "\n",
       "A matrix: 8 × 8 of type dbl\n",
       "\n",
       "| <!--/--> | rank_absolute_exposure18 | rank_slope_exposure18 | county_rank_slope | parent_rank_difference | income | county_mean_income | age_death | total_z_income_exposure |\n",
       "|---|---|---|---|---|---|---|---|---|\n",
       "| rank_absolute_exposure18 |  1.00000000 | -0.58808107 | -0.36494191 |  0.21648696 |  0.16437461 |  0.7961243 |  0.07363204 |  0.85209201 |\n",
       "| rank_slope_exposure18 | -0.58808107 |  1.00000000 |  0.43158104 | -0.06956797 | -0.05183537 | -0.2404439 | -0.01857546 | -0.23613630 |\n",
       "| county_rank_slope | -0.36494191 |  0.43158104 |  1.00000000 | -0.06903061 | -0.04624647 | -0.2115122 | -0.02231119 | -0.22990051 |\n",
       "| parent_rank_difference |  0.21648696 | -0.06956797 | -0.06903061 |  1.00000000 |  0.75027048 |  0.2315235 |  0.14755655 |  0.23260229 |\n",
       "| income |  0.16437461 | -0.05183537 | -0.04624647 |  0.75027048 |  1.00000000 |  0.2028128 |  0.06229670 |  0.19530794 |\n",
       "| county_mean_income |  0.79612431 | -0.24044387 | -0.21151215 |  0.23152347 |  0.20281282 |  1.0000000 |  0.08146770 |  0.92330384 |\n",
       "| age_death |  0.07363204 | -0.01857546 | -0.02231119 |  0.14755655 |  0.06229670 |  0.0814677 |  1.00000000 |  0.08860652 |\n",
       "| total_z_income_exposure |  0.85209201 | -0.23613630 | -0.22990051 |  0.23260229 |  0.19530794 |  0.9233038 |  0.08860652 |  1.00000000 |\n",
       "\n"
      ],
      "text/plain": [
       "                         rank_absolute_exposure18 rank_slope_exposure18\n",
       "rank_absolute_exposure18  1.00000000              -0.58808107          \n",
       "rank_slope_exposure18    -0.58808107               1.00000000          \n",
       "county_rank_slope        -0.36494191               0.43158104          \n",
       "parent_rank_difference    0.21648696              -0.06956797          \n",
       "income                    0.16437461              -0.05183537          \n",
       "county_mean_income        0.79612431              -0.24044387          \n",
       "age_death                 0.07363204              -0.01857546          \n",
       "total_z_income_exposure   0.85209201              -0.23613630          \n",
       "                         county_rank_slope parent_rank_difference income     \n",
       "rank_absolute_exposure18 -0.36494191        0.21648696             0.16437461\n",
       "rank_slope_exposure18     0.43158104       -0.06956797            -0.05183537\n",
       "county_rank_slope         1.00000000       -0.06903061            -0.04624647\n",
       "parent_rank_difference   -0.06903061        1.00000000             0.75027048\n",
       "income                   -0.04624647        0.75027048             1.00000000\n",
       "county_mean_income       -0.21151215        0.23152347             0.20281282\n",
       "age_death                -0.02231119        0.14755655             0.06229670\n",
       "total_z_income_exposure  -0.22990051        0.23260229             0.19530794\n",
       "                         county_mean_income age_death   total_z_income_exposure\n",
       "rank_absolute_exposure18  0.7961243          0.07363204  0.85209201            \n",
       "rank_slope_exposure18    -0.2404439         -0.01857546 -0.23613630            \n",
       "county_rank_slope        -0.2115122         -0.02231119 -0.22990051            \n",
       "parent_rank_difference    0.2315235          0.14755655  0.23260229            \n",
       "income                    0.2028128          0.06229670  0.19530794            \n",
       "county_mean_income        1.0000000          0.08146770  0.92330384            \n",
       "age_death                 0.0814677          1.00000000  0.08860652            \n",
       "total_z_income_exposure   0.9233038          0.08860652  1.00000000            "
      ]
     },
     "metadata": {},
     "output_type": "display_data"
    }
   ],
   "source": [
    "cor(t[iteration == 1, .(rank_absolute_exposure18, rank_slope_exposure18, county_rank_slope, parent_rank_difference, income, \n",
    "    county_mean_income, age_death, total_z_income_exposure)])"
   ]
  },
  {
   "cell_type": "code",
   "execution_count": 28,
   "metadata": {},
   "outputs": [],
   "source": [
    "# function to run metafor\n",
    "coxModel = function(data, formulas, replicate_column = \"nreplicate\") {\n",
    "\n",
    "    output = list()\n",
    "    for (i in seq_along(formulas)) {\n",
    "        yi = NULL\n",
    "        sei = NULL\n",
    "        for (j in unique(data[[replicate_column]])) {\n",
    "            temp = copy(data[get(replicate_column) == j])\n",
    "            model = coxph(formulas[[i]], data = temp)\n",
    "            yi = c(yi, model$coefficients[1])\n",
    "            sei = c(sei, sqrt(model$var[1]))\n",
    "        }\n",
    "        output[[i]] = metafor::rma(yi = yi, sei = sei)\n",
    "    } \n",
    "    return(output)  \n",
    "}\n"
   ]
  },
  {
   "cell_type": "code",
   "execution_count": 39,
   "metadata": {},
   "outputs": [],
   "source": [
    "# survival model \n",
    "treatment = \"rank_absolute_exposure18\"\n",
    "covariates = c(\"lincome\", \"as.factor(income_group)\", \"lcounty_income\", \"total_z_income_exposure\", \"parent_rank_difference\", \"smoker\")\n",
    "f = list()\n",
    "f[[length(f)+1]] = formula(paste0(\"Surv(age_death, status) ~ \", treatment))\n",
    "f[[length(f)+1]] = formula(paste0(\"Surv(age_death, status) ~ \", treatment, \"+\",  paste0(covariates[c(1,6)], collapse = \"+\")))\n",
    "f[[length(f)+1]] = formula(paste0(\"Surv(age_death, status) ~ \", treatment, \"+\", paste0(covariates[2], collapse = \"+\")))\n",
    "f[[length(f)+1]] = formula(paste0(\"Surv(age_death, status) ~ \", treatment, \"+\", paste0(covariates[c(1,3, 5)], collapse = \"+\")))\n",
    "f[[length(f)+1]] = formula(paste0(\"Surv(age_death, status) ~ \", treatment, \"+\", paste0(covariates[c(2,3)], collapse = \"+\")))\n",
    "f[[length(f)+1]] = formula(paste0(\"Surv(age_death, status) ~ \", treatment, \"+\", paste0(covariates[c(1,4)], collapse = \"+\")))\n",
    "f[[length(f)+1]] = formula(paste0(\"Surv(age_death, status) ~ \", treatment, \"+\",  paste0(covariates[c(1,5)], collapse = \"+\")))\n",
    "f[[length(f)+1]] = formula(paste0(\"Surv(age_death, status) ~ \", treatment, \"+\",  paste0(covariates[c(2:6)], collapse = \"+\")))"
   ]
  },
  {
   "cell_type": "code",
   "execution_count": 45,
   "metadata": {},
   "outputs": [],
   "source": [
    "test = coxModel(t[age_death > 18], f)"
   ]
  },
  {
   "cell_type": "code",
   "execution_count": 46,
   "metadata": {},
   "outputs": [
    {
     "data": {
      "text/html": [
       "8"
      ],
      "text/latex": [
       "8"
      ],
      "text/markdown": [
       "8"
      ],
      "text/plain": [
       "[1] 8"
      ]
     },
     "metadata": {},
     "output_type": "display_data"
    },
    {
     "data": {
      "text/plain": [
       "Surv(age_death, status) ~ rank_absolute_exposure18 + as.factor(income_group) + \n",
       "    lcounty_income + total_z_income_exposure + parent_rank_difference + \n",
       "    smoker"
      ]
     },
     "metadata": {},
     "output_type": "display_data"
    },
    {
     "data": {
      "text/plain": [
       "\n",
       "Random-Effects Model (k = 30; tau^2 estimator: REML)\n",
       "\n",
       "tau^2 (estimated amount of total heterogeneity): 0 (SE = 0.0308)\n",
       "tau (square root of estimated tau^2 value):      0\n",
       "I^2 (total heterogeneity / total variability):   0.00%\n",
       "H^2 (total variability / sampling variability):  1.00\n",
       "\n",
       "Test for Heterogeneity:\n",
       "Q(df = 29) = 19.5449, p-val = 0.9065\n",
       "\n",
       "Model Results:\n",
       "\n",
       "estimate      se    zval    pval   ci.lb   ci.ub \n",
       "  0.1624  0.0629  2.5814  0.0098  0.0391  0.2857  ** \n",
       "\n",
       "---\n",
       "Signif. codes:  0 '***' 0.001 '**' 0.01 '*' 0.05 '.' 0.1 ' ' 1\n"
      ]
     },
     "metadata": {},
     "output_type": "display_data"
    }
   ],
   "source": [
    "length(f)\n",
    "f[[8]]\n",
    "test[[8]]\n"
   ]
  },
  {
   "cell_type": "code",
   "execution_count": null,
   "metadata": {},
   "outputs": [],
   "source": [
    "t = m[niteration == 2]\n",
    "t[, lincome := logIncome(income)]\n",
    "t[, lcounty_income := logIncome(county_mean_income)]\n",
    "t[, status := 1] # there is no censoring\n",
    "# t[, individual_income_mobility := abs(income_group_mobility)]\n",
    "# t = t[age_death > 18]\n",
    "mean(t$age_death)\n",
    "\n",
    "treatment = \"rank_slope_exposure18\"\n",
    "covariates = c(\"lincome\", \"as.factor(income_group)\", \"lcounty_income\", \"total_z_income_exposure\", \"parent_rank_difference\", \"smoker\")\n",
    "f = list()\n",
    "f[[length(f)+1]] = formula(paste0(\"Surv(age_death, status) ~ \", treatment))\n",
    "f[[length(f)+1]] = formula(paste0(\"Surv(age_death, status) ~ \", treatment, \"+\",  paste0(covariates[c(1,6)], collapse = \"+\")))\n",
    "f[[length(f)+1]] = formula(paste0(\"Surv(age_death, status) ~ \", treatment, \"+\", paste0(covariates[2], collapse = \"+\")))\n",
    "f[[length(f)+1]] = formula(paste0(\"Surv(age_death, status) ~ \", treatment, \"+\", paste0(covariates[c(1,3, 5)], collapse = \"+\")))\n",
    "f[[length(f)+1]] = formula(paste0(\"Surv(age_death, status) ~ \", treatment, \"+\", paste0(covariates[c(2,3)], collapse = \"+\")))\n",
    "f[[length(f)+1]] = formula(paste0(\"Surv(age_death, status) ~ \", treatment, \"+\", paste0(covariates[c(1,4)], collapse = \"+\")))\n",
    "f[[length(f)+1]] = formula(paste0(\"Surv(age_death, status) ~ \", treatment, \"+\",  paste0(covariates[c(1,5)], collapse = \"+\")))\n",
    "f[[length(f)+1]] = formula(paste0(\"Surv(age_death, status) ~ \", treatment, \"+\",  paste0(covariates[c(2:6)], collapse = \"+\")))"
   ]
  },
  {
   "cell_type": "code",
   "execution_count": null,
   "metadata": {},
   "outputs": [],
   "source": [
    "\n",
    "\n",
    "models = list()\n",
    "for (i in seq_along(f)) {\n",
    "    print(paste0(\"::::::::: Running model \", i))\n",
    "    models[[i]] = coxph(f[[i]], data = t)\n",
    "\n",
    "}"
   ]
  },
  {
   "cell_type": "code",
   "execution_count": 58,
   "metadata": {},
   "outputs": [
    {
     "data": {
      "text/html": [
       "0.285653068713859"
      ],
      "text/latex": [
       "0.285653068713859"
      ],
      "text/markdown": [
       "0.285653068713859"
      ],
      "text/plain": [
       "[1] 0.2856531"
      ]
     },
     "metadata": {},
     "output_type": "display_data"
    }
   ],
   "source": []
  },
  {
   "cell_type": "code",
   "execution_count": 59,
   "metadata": {},
   "outputs": [
    {
     "data": {
      "text/plain": [
       "Call:\n",
       "coxph(formula = f[[i]], data = t)\n",
       "\n",
       "  n= 9166, number of events= 9166 \n",
       "\n",
       "                            coef exp(coef) se(coef)      z Pr(>|z|)  \n",
       "rank_absolute_exposure18 -0.7082    0.4925   0.2857 -2.479   0.0132 *\n",
       "---\n",
       "Signif. codes:  0 '***' 0.001 '**' 0.01 '*' 0.05 '.' 0.1 ' ' 1\n",
       "\n",
       "                         exp(coef) exp(-coef) lower .95 upper .95\n",
       "rank_absolute_exposure18    0.4925       2.03    0.2814    0.8621\n",
       "\n",
       "Concordance= 0.51  (se = 0.004 )\n",
       "Likelihood ratio test= 6.18  on 1 df,   p=0.01\n",
       "Wald test            = 6.15  on 1 df,   p=0.01\n",
       "Score (logrank) test = 6.15  on 1 df,   p=0.01\n"
      ]
     },
     "metadata": {},
     "output_type": "display_data"
    }
   ],
   "source": [
    "summary(models[[1]])\n"
   ]
  },
  {
   "cell_type": "code",
   "execution_count": 39,
   "metadata": {},
   "outputs": [
    {
     "name": "stdout",
     "output_type": "stream",
     "text": [
      "\n",
      "==============================================================================================================================================\n",
      "                          Model 1      Model 2        Model 3        Model 4        Model 5        Model 6        Model 7        Model 8      \n",
      "----------------------------------------------------------------------------------------------------------------------------------------------\n",
      "rank_absolute_exposure18      -0.71 *      -0.59 *        -0.42          -0.27          -0.31           0.12          -0.36          -0.38    \n",
      "                              (0.29)       (0.29)         (0.29)         (0.29)         (0.29)         (0.30)         (0.29)         (0.29)   \n",
      "lincome                                    -0.03 ***                      0.01                         -0.01           0.01                   \n",
      "                                           (0.01)                        (0.01)                        (0.01)         (0.01)                  \n",
      "smokerTRUE                                  0.03                                                                                              \n",
      "                                           (0.03)                                                                                             \n",
      "as.factor(income_group)2                                  -0.10 **                      -0.07 *                                               \n",
      "                                                          (0.03)                        (0.03)                                                \n",
      "as.factor(income_group)3                                  -0.08 *                       -0.04                                                 \n",
      "                                                          (0.03)                        (0.03)                                                \n",
      "as.factor(income_group)4                                  -0.18 ***                     -0.11 **                                              \n",
      "                                                          (0.03)                        (0.04)                                                \n",
      "as.factor(income_group)5                                  -0.26 ***                     -0.13 **                                              \n",
      "                                                          (0.03)                        (0.04)                                                \n",
      "lcounty_income                                                           -0.13 ***      -0.16 ***                                             \n",
      "                                                                         (0.03)         (0.03)                                                \n",
      "parent_rank_difference                                                   -0.27 ***                                    -0.39 ***      -0.33 ***\n",
      "                                                                         (0.06)                                       (0.05)         (0.04)   \n",
      "total_z_income_exposure                                                                                -0.16 ***                              \n",
      "                                                                                                       (0.02)                                 \n",
      "----------------------------------------------------------------------------------------------------------------------------------------------\n",
      "AIC                       148922.32    148899.24      148861.81      148827.03      148841.89      148797.68      148840.65      148841.60    \n",
      "R^2                            0.00         0.00           0.01           0.01           0.01           0.01           0.01           0.01    \n",
      "Max. R^2                       1.00         1.00           1.00           1.00           1.00           1.00           1.00           1.00    \n",
      "Num. events                 9166         9166           9166           9166           9166           9166           9166           9166       \n",
      "Num. obs.                   9166         9166           9166           9166           9166           9166           9166           9166       \n",
      "Missings                       0            0              0              0              0              0              0              0       \n",
      "PH test                        0.29         0.42           0.88           0.00           0.76           0.37           0.02           0.18    \n",
      "==============================================================================================================================================\n",
      "*** p < 0.001; ** p < 0.01; * p < 0.05\n"
     ]
    }
   ],
   "source": [
    "cat(screenreg(models))"
   ]
  },
  {
   "cell_type": "markdown",
   "metadata": {},
   "source": [
    "# Exposure relative income mobility -> Mortality risk = 0.0, exposure until 18 years old"
   ]
  },
  {
   "cell_type": "code",
   "execution_count": 84,
   "metadata": {},
   "outputs": [
    {
     "data": {
      "text/html": [
       "78.3671424401527"
      ],
      "text/latex": [
       "78.3671424401527"
      ],
      "text/markdown": [
       "78.3671424401527"
      ],
      "text/plain": [
       "[1] 78.36714"
      ]
     },
     "metadata": {},
     "output_type": "display_data"
    }
   ],
   "source": [
    "t = m[niteration == 3]\n",
    "t[, lincome := logIncome(income)]\n",
    "t[, lcounty_income := logIncome(county_mean_income)]\n",
    "t[, status := 1] # there is no censoring\n",
    "# t[, individual_income_mobility := abs(income_group_mobility)]\n",
    "mean(t$age_death)"
   ]
  },
  {
   "cell_type": "code",
   "execution_count": 85,
   "metadata": {},
   "outputs": [
    {
     "name": "stdout",
     "output_type": "stream",
     "text": [
      "[1] \"::::::::: Running model 1\"\n",
      "[1] \"::::::::: Running model 2\"\n",
      "[1] \"::::::::: Running model 3\"\n",
      "[1] \"::::::::: Running model 4\"\n",
      "[1] \"::::::::: Running model 5\"\n",
      "[1] \"::::::::: Running model 6\"\n",
      "[1] \"::::::::: Running model 7\"\n",
      "[1] \"::::::::: Running model 8\"\n"
     ]
    }
   ],
   "source": [
    "# survival model \n",
    "treatment = \"rank_slope_exposure18\"\n",
    "covariates = c(\"lincome\", \"as.factor(income_group)\", \"lcounty_income\", \"total_z_income_exposure\", \"parent_rank_difference\", \"smoker\")\n",
    "f = list()\n",
    "f[[length(f)+1]] = formula(paste0(\"Surv(age_death, status) ~ \", treatment))\n",
    "f[[length(f)+1]] = formula(paste0(\"Surv(age_death, status) ~ \", treatment, \"+\",  paste0(covariates[1], collapse = \"+\")))\n",
    "f[[length(f)+1]] = formula(paste0(\"Surv(age_death, status) ~ \", treatment, \"+\", paste0(covariates[2], collapse = \"+\")))\n",
    "f[[length(f)+1]] = formula(paste0(\"Surv(age_death, status) ~ \", treatment, \"+\", paste0(covariates[c(1,3, 5)], collapse = \"+\")))\n",
    "f[[length(f)+1]] = formula(paste0(\"Surv(age_death, status) ~ \", treatment, \"+\", paste0(covariates[c(2,3)], collapse = \"+\")))\n",
    "f[[length(f)+1]] = formula(paste0(\"Surv(age_death, status) ~ \", treatment, \"+\", paste0(covariates[c(1,4)], collapse = \"+\")))\n",
    "f[[length(f)+1]] = formula(paste0(\"Surv(age_death, status) ~ \", treatment, \"+\",  paste0(covariates[c(1,5)], collapse = \"+\")))\n",
    "f[[length(f)+1]] = formula(paste0(\"Surv(age_death, status) ~ \", treatment, \"+\",  paste0(covariates[c(1,5, 3)], collapse = \"+\")))\n",
    "\n",
    "models = list()\n",
    "for (i in seq_along(f)) {\n",
    "    print(paste0(\"::::::::: Running model \", i))\n",
    "    models[[i]] = coxph(f[[i]], data = t)\n",
    "\n",
    "}"
   ]
  },
  {
   "cell_type": "code",
   "execution_count": 86,
   "metadata": {},
   "outputs": [
    {
     "name": "stdout",
     "output_type": "stream",
     "text": [
      "\n",
      "========================================================================================================================================================\n",
      "                          Model 1         Model 2         Model 3         Model 4         Model 5         Model 6         Model 7         Model 8       \n",
      "--------------------------------------------------------------------------------------------------------------------------------------------------------\n",
      "rank_slope_exposure18           0.17 ***        0.14 ***        0.10 ***        0.08 **         0.08 **         0.05            0.09 **         0.08 ** \n",
      "                               (0.03)          (0.03)          (0.03)          (0.03)          (0.03)          (0.03)          (0.03)          (0.03)   \n",
      "lincome                                        -0.04 ***                        0.01 ***                       -0.02 ***        0.01 ***        0.01 ***\n",
      "                                               (0.00)                          (0.00)                          (0.00)          (0.00)          (0.00)   \n",
      "as.factor(income_group)2                                       -0.07 ***                       -0.05 ***                                                \n",
      "                                                               (0.01)                          (0.01)                                                   \n",
      "as.factor(income_group)3                                       -0.13 ***                       -0.10 ***                                                \n",
      "                                                               (0.01)                          (0.01)                                                   \n",
      "as.factor(income_group)4                                       -0.20 ***                       -0.15 ***                                                \n",
      "                                                               (0.01)                          (0.01)                                                   \n",
      "as.factor(income_group)5                                       -0.30 ***                       -0.20 ***                                                \n",
      "                                                               (0.01)                          (0.01)                                                   \n",
      "lcounty_income                                                                 -0.11 ***       -0.15 ***                                       -0.11 ***\n",
      "                                                                               (0.01)          (0.01)                                          (0.01)   \n",
      "parent_rank_difference                                                         -0.37 ***                                       -0.47 ***       -0.37 ***\n",
      "                                                                               (0.01)                                          (0.01)          (0.01)   \n",
      "total_z_income_exposure                                                                                        -0.14 ***                                \n",
      "                                                                                                               (0.00)                                   \n",
      "--------------------------------------------------------------------------------------------------------------------------------------------------------\n",
      "AIC                       6229503.61      6228265.87      6226646.33      6225438.29      6226134.48      6225615.84      6225767.03      6225438.29    \n",
      "R^2                             0.00            0.00            0.01            0.02            0.01            0.01            0.01            0.02    \n",
      "Max. R^2                        1.00            1.00            1.00            1.00            1.00            1.00            1.00            1.00    \n",
      "Num. events                270647          270647          270647          270647          270647          270647          270647          270647       \n",
      "Num. obs.                  270647          270647          270647          270647          270647          270647          270647          270647       \n",
      "Missings                        0               0               0               0               0               0               0               0       \n",
      "PH test                         0.63            0.79            0.65            0.00            0.17            0.00            0.00            0.00    \n",
      "========================================================================================================================================================\n",
      "*** p < 0.001; ** p < 0.01; * p < 0.05\n"
     ]
    }
   ],
   "source": [
    "cat(screenreg(models))"
   ]
  }
 ],
 "metadata": {
  "interpreter": {
   "hash": "ecf5722fdaf1897a315d257d89d94520bfcaa453217d5becf09b39e73618b0de"
  },
  "kernelspec": {
   "display_name": "R",
   "language": "R",
   "name": "ir"
  },
  "language_info": {
   "codemirror_mode": "r",
   "file_extension": ".r",
   "mimetype": "text/x-r-source",
   "name": "R",
   "pygments_lexer": "r",
   "version": "4.1.0"
  },
  "orig_nbformat": 4
 },
 "nbformat": 4,
 "nbformat_minor": 2
}
