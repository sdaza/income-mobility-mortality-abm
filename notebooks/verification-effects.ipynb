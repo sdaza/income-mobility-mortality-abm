{
 "cells": [
  {
   "cell_type": "markdown",
   "metadata": {},
   "source": [
    "# Verification of mortality effects\n",
    "\n",
    "- Parameter variation `VerificationEFfects` in Anylogic\n",
    "- 90 replicates per iteration or scenario"
   ]
  },
  {
   "cell_type": "code",
   "execution_count": 444,
   "metadata": {},
   "outputs": [],
   "source": [
    "library(data.table)\n",
    "library(xtable)\n",
    "library(survival)\n",
    "library(texreg)\n",
    "library(fmsb)\n",
    "source(\"../src/utils.R\")"
   ]
  },
  {
   "cell_type": "code",
   "execution_count": 463,
   "metadata": {},
   "outputs": [
    {
     "data": {
      "text/html": [
       "79.0256613432159"
      ],
      "text/latex": [
       "79.0256613432159"
      ],
      "text/markdown": [
       "79.0256613432159"
      ],
      "text/plain": [
       "[1] 79.02566"
      ]
     },
     "metadata": {},
     "output_type": "display_data"
    }
   ],
   "source": [
    "# life table verification LE using mortality rates reported by CDC\n",
    "mx = c(567.0,24.3 ,11.6 ,15.5 ,51.5 ,51.5 ,95.6 ,121.0 ,145.4 ,173.8 ,218.4,\n",
    "    313.2 ,488.0 ,736.5 ,1050.2 ,1473.5 ,2206.9 ,3517.8 ,5871.7,13573.6)\n",
    "mx = mx / 100000\n",
    "le = lifetable(mx, ns = c(1, 4, rep(5, 2), 3, 2, rep(5, 14)))\n",
    "le[1, \"ex\"]"
   ]
  },
  {
   "cell_type": "code",
   "execution_count": 446,
   "metadata": {},
   "outputs": [
    {
     "data": {
      "text/plain": [
       "   Min. 1st Qu.  Median    Mean 3rd Qu.    Max. \n",
       "   1.00   23.25   45.50   45.50   67.75   90.00 "
      ]
     },
     "metadata": {},
     "output_type": "display_data"
    }
   ],
   "source": [
    "# read data files\n",
    "m = fread(\"../output/data/mortality-verification-effects.csv\")\n",
    "p = fread(\"../output/data/parameters-verification-effects.csv\")\n",
    "e = fread(\"../output/data/environment-verification-effects.csv\")\n",
    "\n",
    "# select parameters of interest\n",
    "parameters = c(\"mortality_fake_exp_coeff\")\n",
    "setorderv(p, parameters)\n",
    "\n",
    "# redefine iteration and replicate indexes\n",
    "p[, niteration := .GRP, by = parameters]\n",
    "p[, nreplicate := 1:.N, by = niteration]\n",
    "np = p[, c(\"iteration\", \"replicate\", \"niteration\", \"nreplicate\", parameters), with = FALSE]\n",
    "m = merge(m, np, by = c(\"iteration\", \"replicate\"))\n",
    "summary(np[niteration == 3, nreplicate])"
   ]
  },
  {
   "cell_type": "code",
   "execution_count": 447,
   "metadata": {},
   "outputs": [
    {
     "data": {
      "text/html": [
       "0"
      ],
      "text/latex": [
       "0"
      ],
      "text/markdown": [
       "0"
      ],
      "text/plain": [
       "[1] 0"
      ]
     },
     "metadata": {},
     "output_type": "display_data"
    },
    {
     "data": {
      "text/plain": [
       "\n",
       "  20   25   30 \n",
       "3110 3027 3055 "
      ]
     },
     "metadata": {},
     "output_type": "display_data"
    }
   ],
   "source": [
    "anyDuplicated(m[niteration == 1 & nreplicate == 1, id])\n",
    "table(m[niteration == 1 & nreplicate == 1, generation])"
   ]
  },
  {
   "cell_type": "code",
   "execution_count": 448,
   "metadata": {},
   "outputs": [
    {
     "data": {
      "text/plain": [
       "   Min. 1st Qu.  Median    Mean 3rd Qu.    Max. \n",
       " 0.2553  0.3387  0.3590  0.3579  0.3787  0.4621 "
      ]
     },
     "metadata": {},
     "output_type": "display_data"
    }
   ],
   "source": [
    "summary(e$nsi)"
   ]
  },
  {
   "cell_type": "code",
   "execution_count": 449,
   "metadata": {},
   "outputs": [
    {
     "data": {
      "text/html": [
       "76.5993096241622"
      ],
      "text/latex": [
       "76.5993096241622"
      ],
      "text/markdown": [
       "76.5993096241622"
      ],
      "text/plain": [
       "[1] 76.59931"
      ]
     },
     "metadata": {},
     "output_type": "display_data"
    }
   ],
   "source": [
    "mean(m[niteration == 1, age_death])"
   ]
  },
  {
   "cell_type": "code",
   "execution_count": 450,
   "metadata": {},
   "outputs": [
    {
     "data": {
      "text/html": [
       "<table class=\"dataframe\">\n",
       "<caption>A data.table: 6 × 33</caption>\n",
       "<thead>\n",
       "\t<tr><th scope=col>iteration</th><th scope=col>replicate</th><th scope=col>model_time</th><th scope=col>id</th><th scope=col>fertility_control</th><th scope=col>parent_id</th><th scope=col>generation</th><th scope=col>birthdate</th><th scope=col>age_death</th><th scope=col>income_group</th><th scope=col>...</th><th scope=col>county_rank_correlation</th><th scope=col>county_rank_slope</th><th scope=col>total_rank_slope_exposure</th><th scope=col>rank_slope_exposure18</th><th scope=col>total_rank_cor_exposure</th><th scope=col>total_z_income_exposure</th><th scope=col>z_income_exposure30</th><th scope=col>niteration</th><th scope=col>nreplicate</th><th scope=col>mortality_fake_exp_coeff</th></tr>\n",
       "\t<tr><th scope=col>&lt;int&gt;</th><th scope=col>&lt;int&gt;</th><th scope=col>&lt;dbl&gt;</th><th scope=col>&lt;int&gt;</th><th scope=col>&lt;lgl&gt;</th><th scope=col>&lt;dbl&gt;</th><th scope=col>&lt;int&gt;</th><th scope=col>&lt;dbl&gt;</th><th scope=col>&lt;dbl&gt;</th><th scope=col>&lt;int&gt;</th><th scope=col>...</th><th scope=col>&lt;dbl&gt;</th><th scope=col>&lt;dbl&gt;</th><th scope=col>&lt;dbl&gt;</th><th scope=col>&lt;dbl&gt;</th><th scope=col>&lt;dbl&gt;</th><th scope=col>&lt;dbl&gt;</th><th scope=col>&lt;dbl&gt;</th><th scope=col>&lt;int&gt;</th><th scope=col>&lt;int&gt;</th><th scope=col>&lt;dbl&gt;</th></tr>\n",
       "</thead>\n",
       "<tbody>\n",
       "\t<tr><td>1</td><td>1</td><td>556.1525</td><td>71612</td><td>FALSE</td><td>67592</td><td>20</td><td>555.3090</td><td>0</td><td>1</td><td>...</td><td>0.1981626</td><td>0.2907863</td><td>0.2907863</td><td>0</td><td>0.1981626</td><td> 1.4906075</td><td>0</td><td>1</td><td>1</td><td>0</td></tr>\n",
       "\t<tr><td>1</td><td>1</td><td>565.4195</td><td>72749</td><td>FALSE</td><td>70910</td><td>20</td><td>564.9589</td><td>0</td><td>1</td><td>...</td><td>0.3197768</td><td>0.3602353</td><td>0.3602353</td><td>0</td><td>0.3197768</td><td>-1.3365796</td><td>0</td><td>1</td><td>1</td><td>0</td></tr>\n",
       "\t<tr><td>1</td><td>1</td><td>573.5341</td><td>73709</td><td>FALSE</td><td>69791</td><td>20</td><td>573.5004</td><td>0</td><td>5</td><td>...</td><td>0.1069098</td><td>0.1565108</td><td>0.1565108</td><td>0</td><td>0.1069098</td><td>-0.4839215</td><td>0</td><td>1</td><td>1</td><td>0</td></tr>\n",
       "\t<tr><td>1</td><td>1</td><td>583.4157</td><td>74831</td><td>FALSE</td><td>71610</td><td>20</td><td>582.7497</td><td>0</td><td>1</td><td>...</td><td>0.2178619</td><td>0.1965774</td><td>0.1965774</td><td>0</td><td>0.2178619</td><td>-0.3419976</td><td>0</td><td>1</td><td>1</td><td>0</td></tr>\n",
       "\t<tr><td>1</td><td>1</td><td>584.0900</td><td>74950</td><td>FALSE</td><td>73152</td><td>20</td><td>583.6599</td><td>0</td><td>1</td><td>...</td><td>0.2698617</td><td>0.2500411</td><td>0.2500411</td><td>0</td><td>0.2698617</td><td>-0.4283472</td><td>0</td><td>1</td><td>1</td><td>0</td></tr>\n",
       "\t<tr><td>1</td><td>1</td><td>586.9844</td><td>75321</td><td>FALSE</td><td>71017</td><td>20</td><td>586.6672</td><td>0</td><td>3</td><td>...</td><td>0.1478664</td><td>0.2195749</td><td>0.2195749</td><td>0</td><td>0.1478664</td><td>-0.6843235</td><td>0</td><td>1</td><td>1</td><td>0</td></tr>\n",
       "</tbody>\n",
       "</table>\n"
      ],
      "text/latex": [
       "A data.table: 6 × 33\n",
       "\\begin{tabular}{lllllllllllllllllllll}\n",
       " iteration & replicate & model\\_time & id & fertility\\_control & parent\\_id & generation & birthdate & age\\_death & income\\_group & ... & county\\_rank\\_correlation & county\\_rank\\_slope & total\\_rank\\_slope\\_exposure & rank\\_slope\\_exposure18 & total\\_rank\\_cor\\_exposure & total\\_z\\_income\\_exposure & z\\_income\\_exposure30 & niteration & nreplicate & mortality\\_fake\\_exp\\_coeff\\\\\n",
       " <int> & <int> & <dbl> & <int> & <lgl> & <dbl> & <int> & <dbl> & <dbl> & <int> & ... & <dbl> & <dbl> & <dbl> & <dbl> & <dbl> & <dbl> & <dbl> & <int> & <int> & <dbl>\\\\\n",
       "\\hline\n",
       "\t 1 & 1 & 556.1525 & 71612 & FALSE & 67592 & 20 & 555.3090 & 0 & 1 & ... & 0.1981626 & 0.2907863 & 0.2907863 & 0 & 0.1981626 &  1.4906075 & 0 & 1 & 1 & 0\\\\\n",
       "\t 1 & 1 & 565.4195 & 72749 & FALSE & 70910 & 20 & 564.9589 & 0 & 1 & ... & 0.3197768 & 0.3602353 & 0.3602353 & 0 & 0.3197768 & -1.3365796 & 0 & 1 & 1 & 0\\\\\n",
       "\t 1 & 1 & 573.5341 & 73709 & FALSE & 69791 & 20 & 573.5004 & 0 & 5 & ... & 0.1069098 & 0.1565108 & 0.1565108 & 0 & 0.1069098 & -0.4839215 & 0 & 1 & 1 & 0\\\\\n",
       "\t 1 & 1 & 583.4157 & 74831 & FALSE & 71610 & 20 & 582.7497 & 0 & 1 & ... & 0.2178619 & 0.1965774 & 0.1965774 & 0 & 0.2178619 & -0.3419976 & 0 & 1 & 1 & 0\\\\\n",
       "\t 1 & 1 & 584.0900 & 74950 & FALSE & 73152 & 20 & 583.6599 & 0 & 1 & ... & 0.2698617 & 0.2500411 & 0.2500411 & 0 & 0.2698617 & -0.4283472 & 0 & 1 & 1 & 0\\\\\n",
       "\t 1 & 1 & 586.9844 & 75321 & FALSE & 71017 & 20 & 586.6672 & 0 & 3 & ... & 0.1478664 & 0.2195749 & 0.2195749 & 0 & 0.1478664 & -0.6843235 & 0 & 1 & 1 & 0\\\\\n",
       "\\end{tabular}\n"
      ],
      "text/markdown": [
       "\n",
       "A data.table: 6 × 33\n",
       "\n",
       "| iteration &lt;int&gt; | replicate &lt;int&gt; | model_time &lt;dbl&gt; | id &lt;int&gt; | fertility_control &lt;lgl&gt; | parent_id &lt;dbl&gt; | generation &lt;int&gt; | birthdate &lt;dbl&gt; | age_death &lt;dbl&gt; | income_group &lt;int&gt; | ... ... | county_rank_correlation &lt;dbl&gt; | county_rank_slope &lt;dbl&gt; | total_rank_slope_exposure &lt;dbl&gt; | rank_slope_exposure18 &lt;dbl&gt; | total_rank_cor_exposure &lt;dbl&gt; | total_z_income_exposure &lt;dbl&gt; | z_income_exposure30 &lt;dbl&gt; | niteration &lt;int&gt; | nreplicate &lt;int&gt; | mortality_fake_exp_coeff &lt;dbl&gt; |\n",
       "|---|---|---|---|---|---|---|---|---|---|---|---|---|---|---|---|---|---|---|---|---|\n",
       "| 1 | 1 | 556.1525 | 71612 | FALSE | 67592 | 20 | 555.3090 | 0 | 1 | ... | 0.1981626 | 0.2907863 | 0.2907863 | 0 | 0.1981626 |  1.4906075 | 0 | 1 | 1 | 0 |\n",
       "| 1 | 1 | 565.4195 | 72749 | FALSE | 70910 | 20 | 564.9589 | 0 | 1 | ... | 0.3197768 | 0.3602353 | 0.3602353 | 0 | 0.3197768 | -1.3365796 | 0 | 1 | 1 | 0 |\n",
       "| 1 | 1 | 573.5341 | 73709 | FALSE | 69791 | 20 | 573.5004 | 0 | 5 | ... | 0.1069098 | 0.1565108 | 0.1565108 | 0 | 0.1069098 | -0.4839215 | 0 | 1 | 1 | 0 |\n",
       "| 1 | 1 | 583.4157 | 74831 | FALSE | 71610 | 20 | 582.7497 | 0 | 1 | ... | 0.2178619 | 0.1965774 | 0.1965774 | 0 | 0.2178619 | -0.3419976 | 0 | 1 | 1 | 0 |\n",
       "| 1 | 1 | 584.0900 | 74950 | FALSE | 73152 | 20 | 583.6599 | 0 | 1 | ... | 0.2698617 | 0.2500411 | 0.2500411 | 0 | 0.2698617 | -0.4283472 | 0 | 1 | 1 | 0 |\n",
       "| 1 | 1 | 586.9844 | 75321 | FALSE | 71017 | 20 | 586.6672 | 0 | 3 | ... | 0.1478664 | 0.2195749 | 0.2195749 | 0 | 0.1478664 | -0.6843235 | 0 | 1 | 1 | 0 |\n",
       "\n"
      ],
      "text/plain": [
       "  iteration replicate model_time id    fertility_control parent_id generation\n",
       "1 1         1         556.1525   71612 FALSE             67592     20        \n",
       "2 1         1         565.4195   72749 FALSE             70910     20        \n",
       "3 1         1         573.5341   73709 FALSE             69791     20        \n",
       "4 1         1         583.4157   74831 FALSE             71610     20        \n",
       "5 1         1         584.0900   74950 FALSE             73152     20        \n",
       "6 1         1         586.9844   75321 FALSE             71017     20        \n",
       "  birthdate age_death income_group ... county_rank_correlation\n",
       "1 555.3090  0         1            ... 0.1981626              \n",
       "2 564.9589  0         1            ... 0.3197768              \n",
       "3 573.5004  0         5            ... 0.1069098              \n",
       "4 582.7497  0         1            ... 0.2178619              \n",
       "5 583.6599  0         1            ... 0.2698617              \n",
       "6 586.6672  0         3            ... 0.1478664              \n",
       "  county_rank_slope total_rank_slope_exposure rank_slope_exposure18\n",
       "1 0.2907863         0.2907863                 0                    \n",
       "2 0.3602353         0.3602353                 0                    \n",
       "3 0.1565108         0.1565108                 0                    \n",
       "4 0.1965774         0.1965774                 0                    \n",
       "5 0.2500411         0.2500411                 0                    \n",
       "6 0.2195749         0.2195749                 0                    \n",
       "  total_rank_cor_exposure total_z_income_exposure z_income_exposure30\n",
       "1 0.1981626                1.4906075              0                  \n",
       "2 0.3197768               -1.3365796              0                  \n",
       "3 0.1069098               -0.4839215              0                  \n",
       "4 0.2178619               -0.3419976              0                  \n",
       "5 0.2698617               -0.4283472              0                  \n",
       "6 0.1478664               -0.6843235              0                  \n",
       "  niteration nreplicate mortality_fake_exp_coeff\n",
       "1 1          1          0                       \n",
       "2 1          1          0                       \n",
       "3 1          1          0                       \n",
       "4 1          1          0                       \n",
       "5 1          1          0                       \n",
       "6 1          1          0                       "
      ]
     },
     "metadata": {},
     "output_type": "display_data"
    }
   ],
   "source": [
    "head(m[age_death == 0])"
   ]
  },
  {
   "cell_type": "code",
   "execution_count": 451,
   "metadata": {},
   "outputs": [
    {
     "data": {
      "text/plain": [
       "\n",
       "  FALSE \n",
       "2520920 "
      ]
     },
     "metadata": {},
     "output_type": "display_data"
    }
   ],
   "source": [
    "table(m$fertility_control)"
   ]
  },
  {
   "cell_type": "markdown",
   "metadata": {},
   "source": [
    "# Exposure relative income mobility -> Mortality risk = 0.0\n",
    "\n",
    "To explore correlation of the data produced by the ABM: \n",
    "\n",
    "- `total_rank_slope_exposure` and `rank_slope_exposure18`: exposure measures of place's rank-rank slopes (relative mobility)\n",
    "- `income_group_mobility`: individual mobilityl, absolute value of (`income_group` - `parent_income_group`)\n",
    "- `total_z_income_exposure`: exposure of standardized income"
   ]
  },
  {
   "cell_type": "code",
   "execution_count": 452,
   "metadata": {},
   "outputs": [
    {
     "data": {
      "text/html": [
       "76.5993096241622"
      ],
      "text/latex": [
       "76.5993096241622"
      ],
      "text/markdown": [
       "76.5993096241622"
      ],
      "text/plain": [
       "[1] 76.59931"
      ]
     },
     "metadata": {},
     "output_type": "display_data"
    }
   ],
   "source": [
    "t = m[niteration == 1]\n",
    "t[, lincome := logIncome(income)]\n",
    "t[, lcounty_income := logIncome(county_mean_income)]\n",
    "t[, status := 1] # there is no censoring\n",
    "t[, individual_income_mobility := abs(income_group_mobility)]\n",
    "mean(t$age_death)"
   ]
  },
  {
   "cell_type": "code",
   "execution_count": 453,
   "metadata": {},
   "outputs": [
    {
     "data": {
      "text/plain": [
       "\n",
       "     0      1      2      3      4 \n",
       "232452 302884 176116  86818  31423 "
      ]
     },
     "metadata": {},
     "output_type": "display_data"
    }
   ],
   "source": [
    "# just an indicator of change\n",
    "table(t$individual_income_mobility)"
   ]
  },
  {
   "cell_type": "code",
   "execution_count": 454,
   "metadata": {},
   "outputs": [
    {
     "data": {
      "text/html": [
       "2.35176263991621"
      ],
      "text/latex": [
       "2.35176263991621"
      ],
      "text/markdown": [
       "2.35176263991621"
      ],
      "text/plain": [
       "[1] 2.351763"
      ]
     },
     "metadata": {},
     "output_type": "display_data"
    }
   ],
   "source": [
    "# average number of county changes (residential moves)\n",
    "mean(t$nmoves)"
   ]
  },
  {
   "cell_type": "code",
   "execution_count": 455,
   "metadata": {},
   "outputs": [
    {
     "data": {
      "text/html": [
       "<table class=\"dataframe\">\n",
       "<caption>A matrix: 9 × 9 of type dbl</caption>\n",
       "<thead>\n",
       "\t<tr><th></th><th scope=col>total_rank_slope_exposure</th><th scope=col>rank_slope_exposure18</th><th scope=col>county_rank_slope</th><th scope=col>individual_income_mobility</th><th scope=col>income</th><th scope=col>county_mean_income</th><th scope=col>smoker</th><th scope=col>age_death</th><th scope=col>total_z_income_exposure</th></tr>\n",
       "</thead>\n",
       "<tbody>\n",
       "\t<tr><th scope=row>total_rank_slope_exposure</th><td> 1.00000000</td><td> 0.55139191</td><td> 0.620336542</td><td>-0.04670284</td><td>-0.02514040</td><td>-0.04993939</td><td> 0.01697095</td><td>-0.011084899</td><td>-0.05044790</td></tr>\n",
       "\t<tr><th scope=row>rank_slope_exposure18</th><td> 0.55139191</td><td> 1.00000000</td><td> 0.109379817</td><td> 0.01191604</td><td>-0.01992163</td><td>-0.02932892</td><td> 0.02947758</td><td> 0.137941495</td><td>-0.03271842</td></tr>\n",
       "\t<tr><th scope=row>county_rank_slope</th><td> 0.62033654</td><td> 0.10937982</td><td> 1.000000000</td><td>-0.02440658</td><td>-0.01537423</td><td>-0.03972620</td><td> 0.01098335</td><td>-0.006668863</td><td>-0.03415695</td></tr>\n",
       "\t<tr><th scope=row>individual_income_mobility</th><td>-0.04670284</td><td> 0.01191604</td><td>-0.024406582</td><td> 1.00000000</td><td> 0.14191149</td><td> 0.11026488</td><td>-0.03570979</td><td> 0.072102745</td><td> 0.08341970</td></tr>\n",
       "\t<tr><th scope=row>income</th><td>-0.02514040</td><td>-0.01992163</td><td>-0.015374227</td><td> 0.14191149</td><td> 1.00000000</td><td> 0.47059282</td><td>-0.15164755</td><td> 0.099264313</td><td> 0.37977934</td></tr>\n",
       "\t<tr><th scope=row>county_mean_income</th><td>-0.04993939</td><td>-0.02932892</td><td>-0.039726199</td><td> 0.11026488</td><td> 0.47059282</td><td> 1.00000000</td><td>-0.12939268</td><td> 0.103481953</td><td> 0.78237204</td></tr>\n",
       "\t<tr><th scope=row>smoker</th><td> 0.01697095</td><td> 0.02947758</td><td> 0.010983353</td><td>-0.03570979</td><td>-0.15164755</td><td>-0.12939268</td><td> 1.00000000</td><td>-0.216448196</td><td>-0.13310991</td></tr>\n",
       "\t<tr><th scope=row>age_death</th><td>-0.01108490</td><td> 0.13794149</td><td>-0.006668863</td><td> 0.07210275</td><td> 0.09926431</td><td> 0.10348195</td><td>-0.21644820</td><td> 1.000000000</td><td> 0.12530725</td></tr>\n",
       "\t<tr><th scope=row>total_z_income_exposure</th><td>-0.05044790</td><td>-0.03271842</td><td>-0.034156947</td><td> 0.08341970</td><td> 0.37977934</td><td> 0.78237204</td><td>-0.13310991</td><td> 0.125307255</td><td> 1.00000000</td></tr>\n",
       "</tbody>\n",
       "</table>\n"
      ],
      "text/latex": [
       "A matrix: 9 × 9 of type dbl\n",
       "\\begin{tabular}{r|lllllllll}\n",
       "  & total\\_rank\\_slope\\_exposure & rank\\_slope\\_exposure18 & county\\_rank\\_slope & individual\\_income\\_mobility & income & county\\_mean\\_income & smoker & age\\_death & total\\_z\\_income\\_exposure\\\\\n",
       "\\hline\n",
       "\ttotal\\_rank\\_slope\\_exposure &  1.00000000 &  0.55139191 &  0.620336542 & -0.04670284 & -0.02514040 & -0.04993939 &  0.01697095 & -0.011084899 & -0.05044790\\\\\n",
       "\trank\\_slope\\_exposure18 &  0.55139191 &  1.00000000 &  0.109379817 &  0.01191604 & -0.01992163 & -0.02932892 &  0.02947758 &  0.137941495 & -0.03271842\\\\\n",
       "\tcounty\\_rank\\_slope &  0.62033654 &  0.10937982 &  1.000000000 & -0.02440658 & -0.01537423 & -0.03972620 &  0.01098335 & -0.006668863 & -0.03415695\\\\\n",
       "\tindividual\\_income\\_mobility & -0.04670284 &  0.01191604 & -0.024406582 &  1.00000000 &  0.14191149 &  0.11026488 & -0.03570979 &  0.072102745 &  0.08341970\\\\\n",
       "\tincome & -0.02514040 & -0.01992163 & -0.015374227 &  0.14191149 &  1.00000000 &  0.47059282 & -0.15164755 &  0.099264313 &  0.37977934\\\\\n",
       "\tcounty\\_mean\\_income & -0.04993939 & -0.02932892 & -0.039726199 &  0.11026488 &  0.47059282 &  1.00000000 & -0.12939268 &  0.103481953 &  0.78237204\\\\\n",
       "\tsmoker &  0.01697095 &  0.02947758 &  0.010983353 & -0.03570979 & -0.15164755 & -0.12939268 &  1.00000000 & -0.216448196 & -0.13310991\\\\\n",
       "\tage\\_death & -0.01108490 &  0.13794149 & -0.006668863 &  0.07210275 &  0.09926431 &  0.10348195 & -0.21644820 &  1.000000000 &  0.12530725\\\\\n",
       "\ttotal\\_z\\_income\\_exposure & -0.05044790 & -0.03271842 & -0.034156947 &  0.08341970 &  0.37977934 &  0.78237204 & -0.13310991 &  0.125307255 &  1.00000000\\\\\n",
       "\\end{tabular}\n"
      ],
      "text/markdown": [
       "\n",
       "A matrix: 9 × 9 of type dbl\n",
       "\n",
       "| <!--/--> | total_rank_slope_exposure | rank_slope_exposure18 | county_rank_slope | individual_income_mobility | income | county_mean_income | smoker | age_death | total_z_income_exposure |\n",
       "|---|---|---|---|---|---|---|---|---|---|\n",
       "| total_rank_slope_exposure |  1.00000000 |  0.55139191 |  0.620336542 | -0.04670284 | -0.02514040 | -0.04993939 |  0.01697095 | -0.011084899 | -0.05044790 |\n",
       "| rank_slope_exposure18 |  0.55139191 |  1.00000000 |  0.109379817 |  0.01191604 | -0.01992163 | -0.02932892 |  0.02947758 |  0.137941495 | -0.03271842 |\n",
       "| county_rank_slope |  0.62033654 |  0.10937982 |  1.000000000 | -0.02440658 | -0.01537423 | -0.03972620 |  0.01098335 | -0.006668863 | -0.03415695 |\n",
       "| individual_income_mobility | -0.04670284 |  0.01191604 | -0.024406582 |  1.00000000 |  0.14191149 |  0.11026488 | -0.03570979 |  0.072102745 |  0.08341970 |\n",
       "| income | -0.02514040 | -0.01992163 | -0.015374227 |  0.14191149 |  1.00000000 |  0.47059282 | -0.15164755 |  0.099264313 |  0.37977934 |\n",
       "| county_mean_income | -0.04993939 | -0.02932892 | -0.039726199 |  0.11026488 |  0.47059282 |  1.00000000 | -0.12939268 |  0.103481953 |  0.78237204 |\n",
       "| smoker |  0.01697095 |  0.02947758 |  0.010983353 | -0.03570979 | -0.15164755 | -0.12939268 |  1.00000000 | -0.216448196 | -0.13310991 |\n",
       "| age_death | -0.01108490 |  0.13794149 | -0.006668863 |  0.07210275 |  0.09926431 |  0.10348195 | -0.21644820 |  1.000000000 |  0.12530725 |\n",
       "| total_z_income_exposure | -0.05044790 | -0.03271842 | -0.034156947 |  0.08341970 |  0.37977934 |  0.78237204 | -0.13310991 |  0.125307255 |  1.00000000 |\n",
       "\n"
      ],
      "text/plain": [
       "                           total_rank_slope_exposure rank_slope_exposure18\n",
       "total_rank_slope_exposure   1.00000000                0.55139191          \n",
       "rank_slope_exposure18       0.55139191                1.00000000          \n",
       "county_rank_slope           0.62033654                0.10937982          \n",
       "individual_income_mobility -0.04670284                0.01191604          \n",
       "income                     -0.02514040               -0.01992163          \n",
       "county_mean_income         -0.04993939               -0.02932892          \n",
       "smoker                      0.01697095                0.02947758          \n",
       "age_death                  -0.01108490                0.13794149          \n",
       "total_z_income_exposure    -0.05044790               -0.03271842          \n",
       "                           county_rank_slope individual_income_mobility\n",
       "total_rank_slope_exposure   0.620336542      -0.04670284               \n",
       "rank_slope_exposure18       0.109379817       0.01191604               \n",
       "county_rank_slope           1.000000000      -0.02440658               \n",
       "individual_income_mobility -0.024406582       1.00000000               \n",
       "income                     -0.015374227       0.14191149               \n",
       "county_mean_income         -0.039726199       0.11026488               \n",
       "smoker                      0.010983353      -0.03570979               \n",
       "age_death                  -0.006668863       0.07210275               \n",
       "total_z_income_exposure    -0.034156947       0.08341970               \n",
       "                           income      county_mean_income smoker     \n",
       "total_rank_slope_exposure  -0.02514040 -0.04993939         0.01697095\n",
       "rank_slope_exposure18      -0.01992163 -0.02932892         0.02947758\n",
       "county_rank_slope          -0.01537423 -0.03972620         0.01098335\n",
       "individual_income_mobility  0.14191149  0.11026488        -0.03570979\n",
       "income                      1.00000000  0.47059282        -0.15164755\n",
       "county_mean_income          0.47059282  1.00000000        -0.12939268\n",
       "smoker                     -0.15164755 -0.12939268         1.00000000\n",
       "age_death                   0.09926431  0.10348195        -0.21644820\n",
       "total_z_income_exposure     0.37977934  0.78237204        -0.13310991\n",
       "                           age_death    total_z_income_exposure\n",
       "total_rank_slope_exposure  -0.011084899 -0.05044790            \n",
       "rank_slope_exposure18       0.137941495 -0.03271842            \n",
       "county_rank_slope          -0.006668863 -0.03415695            \n",
       "individual_income_mobility  0.072102745  0.08341970            \n",
       "income                      0.099264313  0.37977934            \n",
       "county_mean_income          0.103481953  0.78237204            \n",
       "smoker                     -0.216448196 -0.13310991            \n",
       "age_death                   1.000000000  0.12530725            \n",
       "total_z_income_exposure     0.125307255  1.00000000            "
      ]
     },
     "metadata": {},
     "output_type": "display_data"
    }
   ],
   "source": [
    "cor(t[, .(total_rank_slope_exposure, rank_slope_exposure18, county_rank_slope, individual_income_mobility, income, \n",
    "    county_mean_income, smoker, age_death, total_z_income_exposure)])"
   ]
  },
  {
   "cell_type": "code",
   "execution_count": 456,
   "metadata": {},
   "outputs": [
    {
     "name": "stdout",
     "output_type": "stream",
     "text": [
      "\n",
      "===============================================================================================================\n",
      "                            Model 1          Model 2          Model 3          Model 4          Model 5        \n",
      "---------------------------------------------------------------------------------------------------------------\n",
      "total_rank_slope_exposure          0.21 ***         0.18 ***         0.10 ***         0.04 *           0.04 *  \n",
      "                                  (0.02)           (0.02)           (0.02)           (0.02)           (0.02)   \n",
      "individual_income_mobility                         -0.03 ***                                                   \n",
      "                                                   (0.00)                                                      \n",
      "lincome                                                             -0.04 ***        -0.02 ***        -0.02 ***\n",
      "                                                                    (0.00)           (0.00)           (0.00)   \n",
      "smokerTRUE                                                           1.00 ***         0.99 ***         0.98 ***\n",
      "                                                                    (0.00)           (0.00)           (0.00)   \n",
      "lcounty_income                                                                       -0.22 ***         0.01 ** \n",
      "                                                                                     (0.00)           (0.00)   \n",
      "total_z_income_exposure                                                                               -0.14 ***\n",
      "                                                                                                      (0.00)   \n",
      "---------------------------------------------------------------------------------------------------------------\n",
      "AIC                         20955964.01      20954846.47      20871148.67      20866321.27      20862728.21    \n",
      "R^2                                0.00             0.00             0.10             0.10             0.11    \n",
      "Max. R^2                           1.00             1.00             1.00             1.00             1.00    \n",
      "Num. events                   829693           829693           829693           829693           829693       \n",
      "Num. obs.                     829693           829693           829693           829693           829693       \n",
      "Missings                           0                0                0                0                0       \n",
      "PH test                            0.00             0.00             0.00             0.00             0.00    \n",
      "===============================================================================================================\n",
      "*** p < 0.001; ** p < 0.01; * p < 0.05\n"
     ]
    }
   ],
   "source": [
    "# survival model \n",
    "m1 = coxph(Surv(age_death, status) ~ total_rank_slope_exposure, data = t)\n",
    "m2 = coxph(Surv(age_death, status) ~ total_rank_slope_exposure + individual_income_mobility, data = t)\n",
    "m3 = coxph(Surv(age_death, status) ~ total_rank_slope_exposure + lincome + smoker, data = t)\n",
    "m4 = coxph(Surv(age_death, status) ~ total_rank_slope_exposure + lincome + smoker + lcounty_income, data = t)\n",
    "m5 = coxph(Surv(age_death, status) ~ total_rank_slope_exposure + lincome + smoker + lcounty_income + total_z_income_exposure, data = t)\n",
    "cat(screenreg(list(m1, m2, m3, m4, m5)))"
   ]
  },
  {
   "cell_type": "markdown",
   "metadata": {},
   "source": [
    "# Exposure relative income mobility -> Mortality risk = 0.3"
   ]
  },
  {
   "cell_type": "code",
   "execution_count": 457,
   "metadata": {},
   "outputs": [
    {
     "data": {
      "text/html": [
       "75.5347027481772"
      ],
      "text/latex": [
       "75.5347027481772"
      ],
      "text/markdown": [
       "75.5347027481772"
      ],
      "text/plain": [
       "[1] 75.5347"
      ]
     },
     "metadata": {},
     "output_type": "display_data"
    }
   ],
   "source": [
    "t = m[niteration == 2]\n",
    "t[, lincome := logIncome(income)]\n",
    "t[, lcounty_income := logIncome(county_mean_income)]\n",
    "t[, status := 1] # there is no censoring\n",
    "t[, individual_income_mobility := abs(income_group_mobility)]\n",
    "mean(t$age_death)"
   ]
  },
  {
   "cell_type": "code",
   "execution_count": 458,
   "metadata": {},
   "outputs": [
    {
     "data": {
      "text/html": [
       "<table class=\"dataframe\">\n",
       "<caption>A matrix: 9 × 9 of type dbl</caption>\n",
       "<thead>\n",
       "\t<tr><th></th><th scope=col>total_rank_slope_exposure</th><th scope=col>rank_slope_exposure18</th><th scope=col>county_rank_slope</th><th scope=col>individual_income_mobility</th><th scope=col>income</th><th scope=col>county_mean_income</th><th scope=col>smoker</th><th scope=col>age_death</th><th scope=col>total_z_income_exposure</th></tr>\n",
       "</thead>\n",
       "<tbody>\n",
       "\t<tr><th scope=row>total_rank_slope_exposure</th><td> 1.00000000</td><td> 0.55673223</td><td> 0.623743470</td><td>-0.04606203</td><td>-0.02868710</td><td>-0.05715794</td><td> 0.013829416</td><td>-0.02496618</td><td>-0.05639704</td></tr>\n",
       "\t<tr><th scope=row>rank_slope_exposure18</th><td> 0.55673223</td><td> 1.00000000</td><td> 0.114364024</td><td> 0.01334984</td><td>-0.02313781</td><td>-0.03472378</td><td> 0.030899671</td><td> 0.13601612</td><td>-0.03811696</td></tr>\n",
       "\t<tr><th scope=row>county_rank_slope</th><td> 0.62374347</td><td> 0.11436402</td><td> 1.000000000</td><td>-0.02337915</td><td>-0.01876888</td><td>-0.04588804</td><td> 0.004737817</td><td>-0.01104675</td><td>-0.03732342</td></tr>\n",
       "\t<tr><th scope=row>individual_income_mobility</th><td>-0.04606203</td><td> 0.01334984</td><td>-0.023379147</td><td> 1.00000000</td><td> 0.13834372</td><td> 0.10820115</td><td>-0.034199867</td><td> 0.07636763</td><td> 0.07985654</td></tr>\n",
       "\t<tr><th scope=row>income</th><td>-0.02868710</td><td>-0.02313781</td><td>-0.018768883</td><td> 0.13834372</td><td> 1.00000000</td><td> 0.46645140</td><td>-0.152995830</td><td> 0.09711124</td><td> 0.37377100</td></tr>\n",
       "\t<tr><th scope=row>county_mean_income</th><td>-0.05715794</td><td>-0.03472378</td><td>-0.045888040</td><td> 0.10820115</td><td> 0.46645140</td><td> 1.00000000</td><td>-0.129658464</td><td> 0.10478049</td><td> 0.77804432</td></tr>\n",
       "\t<tr><th scope=row>smoker</th><td> 0.01382942</td><td> 0.03089967</td><td> 0.004737817</td><td>-0.03419987</td><td>-0.15299583</td><td>-0.12965846</td><td> 1.000000000</td><td>-0.21269315</td><td>-0.13220483</td></tr>\n",
       "\t<tr><th scope=row>age_death</th><td>-0.02496618</td><td> 0.13601612</td><td>-0.011046746</td><td> 0.07636763</td><td> 0.09711124</td><td> 0.10478049</td><td>-0.212693152</td><td> 1.00000000</td><td> 0.12426664</td></tr>\n",
       "\t<tr><th scope=row>total_z_income_exposure</th><td>-0.05639704</td><td>-0.03811696</td><td>-0.037323422</td><td> 0.07985654</td><td> 0.37377100</td><td> 0.77804432</td><td>-0.132204834</td><td> 0.12426664</td><td> 1.00000000</td></tr>\n",
       "</tbody>\n",
       "</table>\n"
      ],
      "text/latex": [
       "A matrix: 9 × 9 of type dbl\n",
       "\\begin{tabular}{r|lllllllll}\n",
       "  & total\\_rank\\_slope\\_exposure & rank\\_slope\\_exposure18 & county\\_rank\\_slope & individual\\_income\\_mobility & income & county\\_mean\\_income & smoker & age\\_death & total\\_z\\_income\\_exposure\\\\\n",
       "\\hline\n",
       "\ttotal\\_rank\\_slope\\_exposure &  1.00000000 &  0.55673223 &  0.623743470 & -0.04606203 & -0.02868710 & -0.05715794 &  0.013829416 & -0.02496618 & -0.05639704\\\\\n",
       "\trank\\_slope\\_exposure18 &  0.55673223 &  1.00000000 &  0.114364024 &  0.01334984 & -0.02313781 & -0.03472378 &  0.030899671 &  0.13601612 & -0.03811696\\\\\n",
       "\tcounty\\_rank\\_slope &  0.62374347 &  0.11436402 &  1.000000000 & -0.02337915 & -0.01876888 & -0.04588804 &  0.004737817 & -0.01104675 & -0.03732342\\\\\n",
       "\tindividual\\_income\\_mobility & -0.04606203 &  0.01334984 & -0.023379147 &  1.00000000 &  0.13834372 &  0.10820115 & -0.034199867 &  0.07636763 &  0.07985654\\\\\n",
       "\tincome & -0.02868710 & -0.02313781 & -0.018768883 &  0.13834372 &  1.00000000 &  0.46645140 & -0.152995830 &  0.09711124 &  0.37377100\\\\\n",
       "\tcounty\\_mean\\_income & -0.05715794 & -0.03472378 & -0.045888040 &  0.10820115 &  0.46645140 &  1.00000000 & -0.129658464 &  0.10478049 &  0.77804432\\\\\n",
       "\tsmoker &  0.01382942 &  0.03089967 &  0.004737817 & -0.03419987 & -0.15299583 & -0.12965846 &  1.000000000 & -0.21269315 & -0.13220483\\\\\n",
       "\tage\\_death & -0.02496618 &  0.13601612 & -0.011046746 &  0.07636763 &  0.09711124 &  0.10478049 & -0.212693152 &  1.00000000 &  0.12426664\\\\\n",
       "\ttotal\\_z\\_income\\_exposure & -0.05639704 & -0.03811696 & -0.037323422 &  0.07985654 &  0.37377100 &  0.77804432 & -0.132204834 &  0.12426664 &  1.00000000\\\\\n",
       "\\end{tabular}\n"
      ],
      "text/markdown": [
       "\n",
       "A matrix: 9 × 9 of type dbl\n",
       "\n",
       "| <!--/--> | total_rank_slope_exposure | rank_slope_exposure18 | county_rank_slope | individual_income_mobility | income | county_mean_income | smoker | age_death | total_z_income_exposure |\n",
       "|---|---|---|---|---|---|---|---|---|---|\n",
       "| total_rank_slope_exposure |  1.00000000 |  0.55673223 |  0.623743470 | -0.04606203 | -0.02868710 | -0.05715794 |  0.013829416 | -0.02496618 | -0.05639704 |\n",
       "| rank_slope_exposure18 |  0.55673223 |  1.00000000 |  0.114364024 |  0.01334984 | -0.02313781 | -0.03472378 |  0.030899671 |  0.13601612 | -0.03811696 |\n",
       "| county_rank_slope |  0.62374347 |  0.11436402 |  1.000000000 | -0.02337915 | -0.01876888 | -0.04588804 |  0.004737817 | -0.01104675 | -0.03732342 |\n",
       "| individual_income_mobility | -0.04606203 |  0.01334984 | -0.023379147 |  1.00000000 |  0.13834372 |  0.10820115 | -0.034199867 |  0.07636763 |  0.07985654 |\n",
       "| income | -0.02868710 | -0.02313781 | -0.018768883 |  0.13834372 |  1.00000000 |  0.46645140 | -0.152995830 |  0.09711124 |  0.37377100 |\n",
       "| county_mean_income | -0.05715794 | -0.03472378 | -0.045888040 |  0.10820115 |  0.46645140 |  1.00000000 | -0.129658464 |  0.10478049 |  0.77804432 |\n",
       "| smoker |  0.01382942 |  0.03089967 |  0.004737817 | -0.03419987 | -0.15299583 | -0.12965846 |  1.000000000 | -0.21269315 | -0.13220483 |\n",
       "| age_death | -0.02496618 |  0.13601612 | -0.011046746 |  0.07636763 |  0.09711124 |  0.10478049 | -0.212693152 |  1.00000000 |  0.12426664 |\n",
       "| total_z_income_exposure | -0.05639704 | -0.03811696 | -0.037323422 |  0.07985654 |  0.37377100 |  0.77804432 | -0.132204834 |  0.12426664 |  1.00000000 |\n",
       "\n"
      ],
      "text/plain": [
       "                           total_rank_slope_exposure rank_slope_exposure18\n",
       "total_rank_slope_exposure   1.00000000                0.55673223          \n",
       "rank_slope_exposure18       0.55673223                1.00000000          \n",
       "county_rank_slope           0.62374347                0.11436402          \n",
       "individual_income_mobility -0.04606203                0.01334984          \n",
       "income                     -0.02868710               -0.02313781          \n",
       "county_mean_income         -0.05715794               -0.03472378          \n",
       "smoker                      0.01382942                0.03089967          \n",
       "age_death                  -0.02496618                0.13601612          \n",
       "total_z_income_exposure    -0.05639704               -0.03811696          \n",
       "                           county_rank_slope individual_income_mobility\n",
       "total_rank_slope_exposure   0.623743470      -0.04606203               \n",
       "rank_slope_exposure18       0.114364024       0.01334984               \n",
       "county_rank_slope           1.000000000      -0.02337915               \n",
       "individual_income_mobility -0.023379147       1.00000000               \n",
       "income                     -0.018768883       0.13834372               \n",
       "county_mean_income         -0.045888040       0.10820115               \n",
       "smoker                      0.004737817      -0.03419987               \n",
       "age_death                  -0.011046746       0.07636763               \n",
       "total_z_income_exposure    -0.037323422       0.07985654               \n",
       "                           income      county_mean_income smoker      \n",
       "total_rank_slope_exposure  -0.02868710 -0.05715794         0.013829416\n",
       "rank_slope_exposure18      -0.02313781 -0.03472378         0.030899671\n",
       "county_rank_slope          -0.01876888 -0.04588804         0.004737817\n",
       "individual_income_mobility  0.13834372  0.10820115        -0.034199867\n",
       "income                      1.00000000  0.46645140        -0.152995830\n",
       "county_mean_income          0.46645140  1.00000000        -0.129658464\n",
       "smoker                     -0.15299583 -0.12965846         1.000000000\n",
       "age_death                   0.09711124  0.10478049        -0.212693152\n",
       "total_z_income_exposure     0.37377100  0.77804432        -0.132204834\n",
       "                           age_death   total_z_income_exposure\n",
       "total_rank_slope_exposure  -0.02496618 -0.05639704            \n",
       "rank_slope_exposure18       0.13601612 -0.03811696            \n",
       "county_rank_slope          -0.01104675 -0.03732342            \n",
       "individual_income_mobility  0.07636763  0.07985654            \n",
       "income                      0.09711124  0.37377100            \n",
       "county_mean_income          0.10478049  0.77804432            \n",
       "smoker                     -0.21269315 -0.13220483            \n",
       "age_death                   1.00000000  0.12426664            \n",
       "total_z_income_exposure     0.12426664  1.00000000            "
      ]
     },
     "metadata": {},
     "output_type": "display_data"
    }
   ],
   "source": [
    "cor(t[, .(total_rank_slope_exposure, rank_slope_exposure18, county_rank_slope, individual_income_mobility, income, \n",
    "    county_mean_income, smoker, age_death, total_z_income_exposure)])"
   ]
  },
  {
   "cell_type": "code",
   "execution_count": 459,
   "metadata": {},
   "outputs": [
    {
     "name": "stdout",
     "output_type": "stream",
     "text": [
      "\n",
      "===============================================================================================================\n",
      "                            Model 1          Model 2          Model 3          Model 4          Model 5        \n",
      "---------------------------------------------------------------------------------------------------------------\n",
      "total_rank_slope_exposure          0.46 ***         0.44 ***         0.40 ***         0.33 ***         0.32 ***\n",
      "                                  (0.02)           (0.02)           (0.02)           (0.02)           (0.02)   \n",
      "individual_income_mobility                         -0.03 ***                                                   \n",
      "                                                   (0.00)                                                      \n",
      "lincome                                                             -0.04 ***        -0.02 ***        -0.02 ***\n",
      "                                                                    (0.00)           (0.00)           (0.00)   \n",
      "smokerTRUE                                                           1.00 ***         0.98 ***         0.97 ***\n",
      "                                                                    (0.00)           (0.00)           (0.00)   \n",
      "lcounty_income                                                                       -0.22 ***        -0.00    \n",
      "                                                                                     (0.00)           (0.00)   \n",
      "total_z_income_exposure                                                                               -0.14 ***\n",
      "                                                                                                      (0.00)   \n",
      "---------------------------------------------------------------------------------------------------------------\n",
      "AIC                         21279519.38      21278308.35      21194845.81      21189732.03      21186263.62    \n",
      "R^2                                0.00             0.00             0.10             0.10             0.11    \n",
      "Max. R^2                           1.00             1.00             1.00             1.00             1.00    \n",
      "Num. events                   841576           841576           841576           841576           841576       \n",
      "Num. obs.                     841576           841576           841576           841576           841576       \n",
      "Missings                           0                0                0                0                0       \n",
      "PH test                            0.00             0.00             0.00             0.00             0.00    \n",
      "===============================================================================================================\n",
      "*** p < 0.001; ** p < 0.01; * p < 0.05\n"
     ]
    }
   ],
   "source": [
    "# survival model \n",
    "m1 = coxph(Surv(age_death, status) ~ total_rank_slope_exposure, data = t)\n",
    "m2 = coxph(Surv(age_death, status) ~ total_rank_slope_exposure + individual_income_mobility, data = t)\n",
    "m3 = coxph(Surv(age_death, status) ~ total_rank_slope_exposure + lincome + smoker, data = t)\n",
    "m4 = coxph(Surv(age_death, status) ~ total_rank_slope_exposure + lincome + smoker + lcounty_income, data = t)\n",
    "m5 = coxph(Surv(age_death, status) ~ total_rank_slope_exposure + lincome + smoker + lcounty_income + total_z_income_exposure, data = t)\n",
    "cat(screenreg(list(m1, m2, m3, m4, m5)))"
   ]
  },
  {
   "cell_type": "markdown",
   "metadata": {},
   "source": [
    "# Exposure relative income mobility -> Mortality risk = 0.5"
   ]
  },
  {
   "cell_type": "code",
   "execution_count": 460,
   "metadata": {},
   "outputs": [
    {
     "data": {
      "text/html": [
       "74.7219387725078"
      ],
      "text/latex": [
       "74.7219387725078"
      ],
      "text/markdown": [
       "74.7219387725078"
      ],
      "text/plain": [
       "[1] 74.72194"
      ]
     },
     "metadata": {},
     "output_type": "display_data"
    }
   ],
   "source": [
    "t = m[niteration == 3]\n",
    "t[, lincome := logIncome(income)]\n",
    "t[, lcounty_income := logIncome(county_mean_income)]\n",
    "t[, status := 1] # there is no censoring\n",
    "t[, individual_income_mobility := abs(income_group_mobility)]\n",
    "mean(t$age_death)"
   ]
  },
  {
   "cell_type": "code",
   "execution_count": 461,
   "metadata": {},
   "outputs": [
    {
     "data": {
      "text/html": [
       "<table class=\"dataframe\">\n",
       "<caption>A matrix: 9 × 9 of type dbl</caption>\n",
       "<thead>\n",
       "\t<tr><th></th><th scope=col>total_rank_slope_exposure</th><th scope=col>rank_slope_exposure18</th><th scope=col>county_rank_slope</th><th scope=col>individual_income_mobility</th><th scope=col>income</th><th scope=col>county_mean_income</th><th scope=col>smoker</th><th scope=col>age_death</th><th scope=col>total_z_income_exposure</th></tr>\n",
       "</thead>\n",
       "<tbody>\n",
       "\t<tr><th scope=row>total_rank_slope_exposure</th><td> 1.00000000</td><td> 0.55596962</td><td> 0.62336887</td><td>-0.04982762</td><td>-0.02517057</td><td>-0.04927179</td><td> 0.01282192</td><td>-0.03447694</td><td>-0.05243803</td></tr>\n",
       "\t<tr><th scope=row>rank_slope_exposure18</th><td> 0.55596962</td><td> 1.00000000</td><td> 0.11103125</td><td> 0.01363719</td><td>-0.01837167</td><td>-0.02591718</td><td> 0.02682990</td><td> 0.13921100</td><td>-0.03056370</td></tr>\n",
       "\t<tr><th scope=row>county_rank_slope</th><td> 0.62336887</td><td> 0.11103125</td><td> 1.00000000</td><td>-0.02693797</td><td>-0.01529911</td><td>-0.03894025</td><td> 0.00886383</td><td>-0.01947163</td><td>-0.03476024</td></tr>\n",
       "\t<tr><th scope=row>individual_income_mobility</th><td>-0.04982762</td><td> 0.01363719</td><td>-0.02693797</td><td> 1.00000000</td><td> 0.14652680</td><td> 0.11826264</td><td>-0.03594378</td><td> 0.07915445</td><td> 0.08916638</td></tr>\n",
       "\t<tr><th scope=row>income</th><td>-0.02517057</td><td>-0.01837167</td><td>-0.01529911</td><td> 0.14652680</td><td> 1.00000000</td><td> 0.47567272</td><td>-0.15176550</td><td> 0.09964285</td><td> 0.38000338</td></tr>\n",
       "\t<tr><th scope=row>county_mean_income</th><td>-0.04927179</td><td>-0.02591718</td><td>-0.03894025</td><td> 0.11826264</td><td> 0.47567272</td><td> 1.00000000</td><td>-0.12988790</td><td> 0.10612685</td><td> 0.77604448</td></tr>\n",
       "\t<tr><th scope=row>smoker</th><td> 0.01282192</td><td> 0.02682990</td><td> 0.00886383</td><td>-0.03594378</td><td>-0.15176550</td><td>-0.12988790</td><td> 1.00000000</td><td>-0.20787721</td><td>-0.13258969</td></tr>\n",
       "\t<tr><th scope=row>age_death</th><td>-0.03447694</td><td> 0.13921100</td><td>-0.01947163</td><td> 0.07915445</td><td> 0.09964285</td><td> 0.10612685</td><td>-0.20787721</td><td> 1.00000000</td><td> 0.12588946</td></tr>\n",
       "\t<tr><th scope=row>total_z_income_exposure</th><td>-0.05243803</td><td>-0.03056370</td><td>-0.03476024</td><td> 0.08916638</td><td> 0.38000338</td><td> 0.77604448</td><td>-0.13258969</td><td> 0.12588946</td><td> 1.00000000</td></tr>\n",
       "</tbody>\n",
       "</table>\n"
      ],
      "text/latex": [
       "A matrix: 9 × 9 of type dbl\n",
       "\\begin{tabular}{r|lllllllll}\n",
       "  & total\\_rank\\_slope\\_exposure & rank\\_slope\\_exposure18 & county\\_rank\\_slope & individual\\_income\\_mobility & income & county\\_mean\\_income & smoker & age\\_death & total\\_z\\_income\\_exposure\\\\\n",
       "\\hline\n",
       "\ttotal\\_rank\\_slope\\_exposure &  1.00000000 &  0.55596962 &  0.62336887 & -0.04982762 & -0.02517057 & -0.04927179 &  0.01282192 & -0.03447694 & -0.05243803\\\\\n",
       "\trank\\_slope\\_exposure18 &  0.55596962 &  1.00000000 &  0.11103125 &  0.01363719 & -0.01837167 & -0.02591718 &  0.02682990 &  0.13921100 & -0.03056370\\\\\n",
       "\tcounty\\_rank\\_slope &  0.62336887 &  0.11103125 &  1.00000000 & -0.02693797 & -0.01529911 & -0.03894025 &  0.00886383 & -0.01947163 & -0.03476024\\\\\n",
       "\tindividual\\_income\\_mobility & -0.04982762 &  0.01363719 & -0.02693797 &  1.00000000 &  0.14652680 &  0.11826264 & -0.03594378 &  0.07915445 &  0.08916638\\\\\n",
       "\tincome & -0.02517057 & -0.01837167 & -0.01529911 &  0.14652680 &  1.00000000 &  0.47567272 & -0.15176550 &  0.09964285 &  0.38000338\\\\\n",
       "\tcounty\\_mean\\_income & -0.04927179 & -0.02591718 & -0.03894025 &  0.11826264 &  0.47567272 &  1.00000000 & -0.12988790 &  0.10612685 &  0.77604448\\\\\n",
       "\tsmoker &  0.01282192 &  0.02682990 &  0.00886383 & -0.03594378 & -0.15176550 & -0.12988790 &  1.00000000 & -0.20787721 & -0.13258969\\\\\n",
       "\tage\\_death & -0.03447694 &  0.13921100 & -0.01947163 &  0.07915445 &  0.09964285 &  0.10612685 & -0.20787721 &  1.00000000 &  0.12588946\\\\\n",
       "\ttotal\\_z\\_income\\_exposure & -0.05243803 & -0.03056370 & -0.03476024 &  0.08916638 &  0.38000338 &  0.77604448 & -0.13258969 &  0.12588946 &  1.00000000\\\\\n",
       "\\end{tabular}\n"
      ],
      "text/markdown": [
       "\n",
       "A matrix: 9 × 9 of type dbl\n",
       "\n",
       "| <!--/--> | total_rank_slope_exposure | rank_slope_exposure18 | county_rank_slope | individual_income_mobility | income | county_mean_income | smoker | age_death | total_z_income_exposure |\n",
       "|---|---|---|---|---|---|---|---|---|---|\n",
       "| total_rank_slope_exposure |  1.00000000 |  0.55596962 |  0.62336887 | -0.04982762 | -0.02517057 | -0.04927179 |  0.01282192 | -0.03447694 | -0.05243803 |\n",
       "| rank_slope_exposure18 |  0.55596962 |  1.00000000 |  0.11103125 |  0.01363719 | -0.01837167 | -0.02591718 |  0.02682990 |  0.13921100 | -0.03056370 |\n",
       "| county_rank_slope |  0.62336887 |  0.11103125 |  1.00000000 | -0.02693797 | -0.01529911 | -0.03894025 |  0.00886383 | -0.01947163 | -0.03476024 |\n",
       "| individual_income_mobility | -0.04982762 |  0.01363719 | -0.02693797 |  1.00000000 |  0.14652680 |  0.11826264 | -0.03594378 |  0.07915445 |  0.08916638 |\n",
       "| income | -0.02517057 | -0.01837167 | -0.01529911 |  0.14652680 |  1.00000000 |  0.47567272 | -0.15176550 |  0.09964285 |  0.38000338 |\n",
       "| county_mean_income | -0.04927179 | -0.02591718 | -0.03894025 |  0.11826264 |  0.47567272 |  1.00000000 | -0.12988790 |  0.10612685 |  0.77604448 |\n",
       "| smoker |  0.01282192 |  0.02682990 |  0.00886383 | -0.03594378 | -0.15176550 | -0.12988790 |  1.00000000 | -0.20787721 | -0.13258969 |\n",
       "| age_death | -0.03447694 |  0.13921100 | -0.01947163 |  0.07915445 |  0.09964285 |  0.10612685 | -0.20787721 |  1.00000000 |  0.12588946 |\n",
       "| total_z_income_exposure | -0.05243803 | -0.03056370 | -0.03476024 |  0.08916638 |  0.38000338 |  0.77604448 | -0.13258969 |  0.12588946 |  1.00000000 |\n",
       "\n"
      ],
      "text/plain": [
       "                           total_rank_slope_exposure rank_slope_exposure18\n",
       "total_rank_slope_exposure   1.00000000                0.55596962          \n",
       "rank_slope_exposure18       0.55596962                1.00000000          \n",
       "county_rank_slope           0.62336887                0.11103125          \n",
       "individual_income_mobility -0.04982762                0.01363719          \n",
       "income                     -0.02517057               -0.01837167          \n",
       "county_mean_income         -0.04927179               -0.02591718          \n",
       "smoker                      0.01282192                0.02682990          \n",
       "age_death                  -0.03447694                0.13921100          \n",
       "total_z_income_exposure    -0.05243803               -0.03056370          \n",
       "                           county_rank_slope individual_income_mobility\n",
       "total_rank_slope_exposure   0.62336887       -0.04982762               \n",
       "rank_slope_exposure18       0.11103125        0.01363719               \n",
       "county_rank_slope           1.00000000       -0.02693797               \n",
       "individual_income_mobility -0.02693797        1.00000000               \n",
       "income                     -0.01529911        0.14652680               \n",
       "county_mean_income         -0.03894025        0.11826264               \n",
       "smoker                      0.00886383       -0.03594378               \n",
       "age_death                  -0.01947163        0.07915445               \n",
       "total_z_income_exposure    -0.03476024        0.08916638               \n",
       "                           income      county_mean_income smoker     \n",
       "total_rank_slope_exposure  -0.02517057 -0.04927179         0.01282192\n",
       "rank_slope_exposure18      -0.01837167 -0.02591718         0.02682990\n",
       "county_rank_slope          -0.01529911 -0.03894025         0.00886383\n",
       "individual_income_mobility  0.14652680  0.11826264        -0.03594378\n",
       "income                      1.00000000  0.47567272        -0.15176550\n",
       "county_mean_income          0.47567272  1.00000000        -0.12988790\n",
       "smoker                     -0.15176550 -0.12988790         1.00000000\n",
       "age_death                   0.09964285  0.10612685        -0.20787721\n",
       "total_z_income_exposure     0.38000338  0.77604448        -0.13258969\n",
       "                           age_death   total_z_income_exposure\n",
       "total_rank_slope_exposure  -0.03447694 -0.05243803            \n",
       "rank_slope_exposure18       0.13921100 -0.03056370            \n",
       "county_rank_slope          -0.01947163 -0.03476024            \n",
       "individual_income_mobility  0.07915445  0.08916638            \n",
       "income                      0.09964285  0.38000338            \n",
       "county_mean_income          0.10612685  0.77604448            \n",
       "smoker                     -0.20787721 -0.13258969            \n",
       "age_death                   1.00000000  0.12588946            \n",
       "total_z_income_exposure     0.12588946  1.00000000            "
      ]
     },
     "metadata": {},
     "output_type": "display_data"
    }
   ],
   "source": [
    "cor(t[, .(total_rank_slope_exposure, rank_slope_exposure18, county_rank_slope, individual_income_mobility, income, \n",
    "    county_mean_income, smoker, age_death, total_z_income_exposure)])"
   ]
  },
  {
   "cell_type": "code",
   "execution_count": 462,
   "metadata": {},
   "outputs": [
    {
     "name": "stdout",
     "output_type": "stream",
     "text": [
      "\n",
      "===============================================================================================================\n",
      "                            Model 1          Model 2          Model 3          Model 4          Model 5        \n",
      "---------------------------------------------------------------------------------------------------------------\n",
      "total_rank_slope_exposure          0.63 ***         0.59 ***         0.57 ***         0.51 ***         0.51 ***\n",
      "                                  (0.02)           (0.02)           (0.02)           (0.02)           (0.02)   \n",
      "individual_income_mobility                         -0.04 ***                                                   \n",
      "                                                   (0.00)                                                      \n",
      "lincome                                                             -0.04 ***        -0.02 ***        -0.02 ***\n",
      "                                                                    (0.00)           (0.00)           (0.00)   \n",
      "smokerTRUE                                                           0.99 ***         0.97 ***         0.96 ***\n",
      "                                                                    (0.00)           (0.00)           (0.00)   \n",
      "lcounty_income                                                                       -0.22 ***        -0.00    \n",
      "                                                                                     (0.00)           (0.00)   \n",
      "total_z_income_exposure                                                                               -0.14 ***\n",
      "                                                                                                      (0.00)   \n",
      "---------------------------------------------------------------------------------------------------------------\n",
      "AIC                         21499383.92      21498056.26      21415039.57      21409773.11      21406227.03    \n",
      "R^2                                0.00             0.00             0.10             0.10             0.11    \n",
      "Max. R^2                           1.00             1.00             1.00             1.00             1.00    \n",
      "Num. events                   849651           849651           849651           849651           849651       \n",
      "Num. obs.                     849651           849651           849651           849651           849651       \n",
      "Missings                           0                0                0                0                0       \n",
      "PH test                            0.00             0.00             0.00             0.00             0.00    \n",
      "===============================================================================================================\n",
      "*** p < 0.001; ** p < 0.01; * p < 0.05\n"
     ]
    }
   ],
   "source": [
    "# survival model \n",
    "m1 = coxph(Surv(age_death, status) ~ total_rank_slope_exposure, data = t)\n",
    "m2 = coxph(Surv(age_death, status) ~ total_rank_slope_exposure + individual_income_mobility, data = t)\n",
    "m3 = coxph(Surv(age_death, status) ~ total_rank_slope_exposure + lincome + smoker, data = t)\n",
    "m4 = coxph(Surv(age_death, status) ~ total_rank_slope_exposure + lincome + smoker + lcounty_income, data = t)\n",
    "m5 = coxph(Surv(age_death, status) ~ total_rank_slope_exposure + lincome + smoker + lcounty_income + total_z_income_exposure, data = t)\n",
    "cat(screenreg(list(m1, m2, m3, m4, m5)))"
   ]
  }
 ],
 "metadata": {
  "interpreter": {
   "hash": "ecf5722fdaf1897a315d257d89d94520bfcaa453217d5becf09b39e73618b0de"
  },
  "kernelspec": {
   "display_name": "R",
   "language": "R",
   "name": "ir"
  },
  "language_info": {
   "codemirror_mode": "r",
   "file_extension": ".r",
   "mimetype": "text/x-r-source",
   "name": "R",
   "pygments_lexer": "r",
   "version": "4.1.0"
  },
  "orig_nbformat": 4
 },
 "nbformat": 4,
 "nbformat_minor": 2
}
