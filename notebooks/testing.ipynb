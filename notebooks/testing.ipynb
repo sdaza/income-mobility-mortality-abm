{
 "cells": [
  {
   "cell_type": "markdown",
   "metadata": {},
   "source": [
    "# Testing"
   ]
  },
  {
   "cell_type": "code",
   "execution_count": 205,
   "metadata": {},
   "outputs": [],
   "source": [
    "options(scipen = 100)\n",
    "library(data.table)\n",
    "\n",
    "# functions\n",
    "table = function (...) base::table(..., useNA = 'ifany')\n",
    "cor = function(...) stats::cor(..., use = \"complete.obs\")\n",
    "perc.rank = function(x) trunc(rank(x)) / length(x)"
   ]
  },
  {
   "cell_type": "code",
   "execution_count": 206,
   "metadata": {},
   "outputs": [],
   "source": [
    "# read data files\n",
    "p = fread(\"../models/MobHealthRecycling/output/testing/parameters-1-1.csv\")\n",
    "m = fread(\"../models/MobHealthRecycling/output/testing/mortality-1-1.csv\")\n",
    "c = fread(\"../models/MobHealthRecycling/output/testing/county-1-1.csv\")\n",
    "e = fread(\"../models/MobHealthRecycling/output/testing/environment-1-1.csv\")\n",
    "mi = fread(\"../models/MobHealthRecycling/output/testing/migration-1-1.csv\")\n",
    "ag = fread(\"../models/MobHealthRecycling/output/testing/agents-1-1.csv\")"
   ]
  },
  {
   "cell_type": "markdown",
   "metadata": {},
   "source": [
    "# Testing exposures"
   ]
  },
  {
   "cell_type": "code",
   "execution_count": 207,
   "metadata": {},
   "outputs": [
    {
     "name": "stdout",
     "output_type": "stream",
     "text": [
      "[1] 48871\n"
     ]
    }
   ],
   "source": [
    "sid = unique(ag$id)[3]\n",
    "print(sid)"
   ]
  },
  {
   "cell_type": "code",
   "execution_count": 208,
   "metadata": {},
   "outputs": [],
   "source": [
    "t = ag[id == sid, .(id, age, prob_income_group, prob_transition, time_exposure, final_transition_probs)]\n",
    "t[, prob_income_group := gsub(\"\\\\[|\\\\]\", \"\", prob_income_group)]\n",
    "t[, prob_transition := gsub(\"\\\\[|\\\\]\", \"\", prob_transition)]\n",
    "t[, paste0(\"i\", 1:5) := tstrsplit(prob_income_group, \",\", fixed = TRUE)]\n",
    "t[, paste0(\"t\", 1:5) := tstrsplit(prob_transition, \",\", fixed = TRUE)]\n",
    "vars = c(paste0(\"i\", 1:5), paste0(\"t\", 1:5))\n",
    "t[, (vars) := lapply(.SD, as.numeric), .SDcols = vars]"
   ]
  },
  {
   "cell_type": "code",
   "execution_count": 209,
   "metadata": {},
   "outputs": [
    {
     "data": {
      "text/html": [
       "1"
      ],
      "text/latex": [
       "1"
      ],
      "text/markdown": [
       "1"
      ],
      "text/plain": [
       "[1] 1"
      ]
     },
     "metadata": {},
     "output_type": "display_data"
    },
    {
     "data": {
      "text/html": [
       "<style>\n",
       ".list-inline {list-style: none; margin:0; padding: 0}\n",
       ".list-inline>li {display: inline-block}\n",
       ".list-inline>li:not(:last-child)::after {content: \"\\00b7\"; padding: 0 .5ex}\n",
       "</style>\n",
       "<ol class=list-inline><li>0.144</li><li>0.16</li><li>0.203</li><li>0.238</li><li>0.255</li></ol>\n"
      ],
      "text/latex": [
       "\\begin{enumerate*}\n",
       "\\item 0.144\n",
       "\\item 0.16\n",
       "\\item 0.203\n",
       "\\item 0.238\n",
       "\\item 0.255\n",
       "\\end{enumerate*}\n"
      ],
      "text/markdown": [
       "1. 0.144\n",
       "2. 0.16\n",
       "3. 0.203\n",
       "4. 0.238\n",
       "5. 0.255\n",
       "\n",
       "\n"
      ],
      "text/plain": [
       "[1] 0.144 0.160 0.203 0.238 0.255"
      ]
     },
     "metadata": {},
     "output_type": "display_data"
    }
   ],
   "source": [
    "check = as.numeric(tstrsplit(gsub(\"\\\\[|\\\\]\", \"\", tail(t, 1)[, .(final_transition_probs)]), \",\", fixed = TRUE))\n",
    "sum(check)\n",
    "check"
   ]
  },
  {
   "cell_type": "code",
   "execution_count": 211,
   "metadata": {},
   "outputs": [
    {
     "name": "stdout",
     "output_type": "stream",
     "text": [
      "[1] \"Difference group 1: 0\"\n",
      "[1] \"Difference group 2: 0\"\n",
      "[1] \"Difference group 3: 0\"\n",
      "[1] \"Difference group 4: 0\"\n",
      "[1] \"Difference group 5: 0\"\n"
     ]
    }
   ],
   "source": [
    "# t[, check1 := apply(.SD, 1, mean), .SDcols = c(\"i2\", \"t2\")]\n",
    "for (i in 1:5) {\n",
    "    w = 0.0\n",
    "    t[, check1 := (get(paste0(\"i\", i)) * w + get(paste0(\"t\", i)) * (1-w))]\n",
    "    print(\n",
    "        paste0(\"Difference group \", i, \": \", \n",
    "            t[time_exposure > 0, weighted.mean(check1, time_exposure)] - check[i]\n",
    "        )\n",
    "    )\n",
    "}"
   ]
  },
  {
   "cell_type": "markdown",
   "metadata": {},
   "source": [
    "# Income measures"
   ]
  },
  {
   "cell_type": "code",
   "execution_count": 212,
   "metadata": {},
   "outputs": [],
   "source": [
    "inc = fread(\"../models/MobHealthRecycling/output/testing/income-1-1.csv\")\n",
    "inc[, kid_income := gsub(\"\\\\[|\\\\]\", \"\", kid_income)]\n",
    "inc[, parent_income := gsub(\"\\\\[|\\\\]\", \"\", parent_income)]\n",
    "sinc = inc[, .(kid = as.numeric(unlist(strsplit(kid_income, ','))), \n",
    "    parent = as.numeric(unlist(strsplit(parent_income, ',')))), \n",
    "    by = .(model_time, county)]\n",
    "sinc = merge(sinc, \n",
    "    inc[, .(model_time, county, rank_slope, rank_absolute, rank_correlation, cohort_size )], \n",
    "    by = c(\"county\", \"model_time\"))"
   ]
  },
  {
   "cell_type": "code",
   "execution_count": 213,
   "metadata": {},
   "outputs": [
    {
     "data": {
      "text/html": [
       "<table class=\"dataframe\">\n",
       "<caption>A data.table: 6 × 8</caption>\n",
       "<thead>\n",
       "\t<tr><th scope=col>county</th><th scope=col>model_time</th><th scope=col>kid</th><th scope=col>parent</th><th scope=col>rank_slope</th><th scope=col>rank_absolute</th><th scope=col>rank_correlation</th><th scope=col>cohort_size</th></tr>\n",
       "\t<tr><th scope=col>&lt;int&gt;</th><th scope=col>&lt;dbl&gt;</th><th scope=col>&lt;dbl&gt;</th><th scope=col>&lt;dbl&gt;</th><th scope=col>&lt;dbl&gt;</th><th scope=col>&lt;dbl&gt;</th><th scope=col>&lt;dbl&gt;</th><th scope=col>&lt;dbl&gt;</th></tr>\n",
       "</thead>\n",
       "<tbody>\n",
       "\t<tr><td>19</td><td>169</td><td>180000</td><td> 66300</td><td>0.3047226</td><td>0.4260768</td><td>0.3047053</td><td>154</td></tr>\n",
       "\t<tr><td>19</td><td>169</td><td>  4030</td><td> 33000</td><td>0.3047226</td><td>0.4260768</td><td>0.3047053</td><td>154</td></tr>\n",
       "\t<tr><td>19</td><td>169</td><td>200600</td><td>100400</td><td>0.3047226</td><td>0.4260768</td><td>0.3047053</td><td>154</td></tr>\n",
       "\t<tr><td>19</td><td>169</td><td>102000</td><td> 38900</td><td>0.3047226</td><td>0.4260768</td><td>0.3047053</td><td>154</td></tr>\n",
       "\t<tr><td>19</td><td>169</td><td> 47700</td><td>269700</td><td>0.3047226</td><td>0.4260768</td><td>0.3047053</td><td>154</td></tr>\n",
       "\t<tr><td>19</td><td>169</td><td>167000</td><td>120000</td><td>0.3047226</td><td>0.4260768</td><td>0.3047053</td><td>154</td></tr>\n",
       "</tbody>\n",
       "</table>\n"
      ],
      "text/latex": [
       "A data.table: 6 × 8\n",
       "\\begin{tabular}{llllllll}\n",
       " county & model\\_time & kid & parent & rank\\_slope & rank\\_absolute & rank\\_correlation & cohort\\_size\\\\\n",
       " <int> & <dbl> & <dbl> & <dbl> & <dbl> & <dbl> & <dbl> & <dbl>\\\\\n",
       "\\hline\n",
       "\t 19 & 169 & 180000 &  66300 & 0.3047226 & 0.4260768 & 0.3047053 & 154\\\\\n",
       "\t 19 & 169 &   4030 &  33000 & 0.3047226 & 0.4260768 & 0.3047053 & 154\\\\\n",
       "\t 19 & 169 & 200600 & 100400 & 0.3047226 & 0.4260768 & 0.3047053 & 154\\\\\n",
       "\t 19 & 169 & 102000 &  38900 & 0.3047226 & 0.4260768 & 0.3047053 & 154\\\\\n",
       "\t 19 & 169 &  47700 & 269700 & 0.3047226 & 0.4260768 & 0.3047053 & 154\\\\\n",
       "\t 19 & 169 & 167000 & 120000 & 0.3047226 & 0.4260768 & 0.3047053 & 154\\\\\n",
       "\\end{tabular}\n"
      ],
      "text/markdown": [
       "\n",
       "A data.table: 6 × 8\n",
       "\n",
       "| county &lt;int&gt; | model_time &lt;dbl&gt; | kid &lt;dbl&gt; | parent &lt;dbl&gt; | rank_slope &lt;dbl&gt; | rank_absolute &lt;dbl&gt; | rank_correlation &lt;dbl&gt; | cohort_size &lt;dbl&gt; |\n",
       "|---|---|---|---|---|---|---|---|\n",
       "| 19 | 169 | 180000 |  66300 | 0.3047226 | 0.4260768 | 0.3047053 | 154 |\n",
       "| 19 | 169 |   4030 |  33000 | 0.3047226 | 0.4260768 | 0.3047053 | 154 |\n",
       "| 19 | 169 | 200600 | 100400 | 0.3047226 | 0.4260768 | 0.3047053 | 154 |\n",
       "| 19 | 169 | 102000 |  38900 | 0.3047226 | 0.4260768 | 0.3047053 | 154 |\n",
       "| 19 | 169 |  47700 | 269700 | 0.3047226 | 0.4260768 | 0.3047053 | 154 |\n",
       "| 19 | 169 | 167000 | 120000 | 0.3047226 | 0.4260768 | 0.3047053 | 154 |\n",
       "\n"
      ],
      "text/plain": [
       "  county model_time kid    parent rank_slope rank_absolute rank_correlation\n",
       "1 19     169        180000  66300 0.3047226  0.4260768     0.3047053       \n",
       "2 19     169          4030  33000 0.3047226  0.4260768     0.3047053       \n",
       "3 19     169        200600 100400 0.3047226  0.4260768     0.3047053       \n",
       "4 19     169        102000  38900 0.3047226  0.4260768     0.3047053       \n",
       "5 19     169         47700 269700 0.3047226  0.4260768     0.3047053       \n",
       "6 19     169        167000 120000 0.3047226  0.4260768     0.3047053       \n",
       "  cohort_size\n",
       "1 154        \n",
       "2 154        \n",
       "3 154        \n",
       "4 154        \n",
       "5 154        \n",
       "6 154        "
      ]
     },
     "metadata": {},
     "output_type": "display_data"
    }
   ],
   "source": [
    "head(sinc)"
   ]
  },
  {
   "cell_type": "code",
   "execution_count": 215,
   "metadata": {},
   "outputs": [],
   "source": [
    "sinc[, kid_rank := perc.rank(kid), .(model_time)]\n",
    "sinc[, parent_rank := perc.rank(parent), .(model_time)]\n",
    "\n",
    "reg = function(kid_income, parent_income, relative = TRUE) {\n",
    "    m = lm(kid_income ~ parent_income)\n",
    "    c = coef(m)\n",
    "    if (relative) { return(c[2])}\n",
    "    else {\n",
    "        return (c[1]  + 0.25 * c[2])\n",
    "    }\n",
    "}\n",
    "\n",
    "sinc[, spearman := cor(kid, parent, method = \"spearman\"), model_time]\n",
    "sinc[, cor_rank := cor(kid_rank, parent_rank), model_time]\n",
    "sinc[, im := reg(kid_rank, parent_rank, TRUE), model_time]\n",
    "sinc[, am := reg(kid_rank, parent_rank, FALSE), model_time]\n",
    "sinc[, order := 1:.N, model_time]\n",
    "sinc = sinc[order == 1]\n"
   ]
  },
  {
   "cell_type": "code",
   "execution_count": 216,
   "metadata": {},
   "outputs": [
    {
     "data": {
      "text/plain": [
       "      Min.    1st Qu.     Median       Mean    3rd Qu.       Max. \n",
       "-0.0013498 -0.0009692 -0.0005325 -0.0004825 -0.0002743  0.0013390 "
      ]
     },
     "metadata": {},
     "output_type": "display_data"
    },
    {
     "data": {
      "text/plain": [
       "      Min.    1st Qu.     Median       Mean    3rd Qu.       Max. \n",
       "-0.0005836 -0.0001081  0.0001567  0.0001576  0.0003648  0.0007455 "
      ]
     },
     "metadata": {},
     "output_type": "display_data"
    },
    {
     "data": {
      "text/plain": [
       "                   Min.                 1st Qu.                  Median \n",
       "-0.00000000000000033307 -0.00000000000000011102  0.00000000000000000000 \n",
       "                   Mean                 3rd Qu.                    Max. \n",
       "-0.00000000000000001883  0.00000000000000006245  0.00000000000000027756 "
      ]
     },
     "metadata": {},
     "output_type": "display_data"
    },
    {
     "data": {
      "text/plain": [
       "      Min.    1st Qu.     Median       Mean    3rd Qu.       Max. \n",
       "-0.0008707 -0.0006046 -0.0003101 -0.0001794  0.0001855  0.0011307 "
      ]
     },
     "metadata": {},
     "output_type": "display_data"
    }
   ],
   "source": [
    "summary(sinc$rank_slope - sinc$im)\n",
    "summary(sinc$rank_absolute - sinc$am)\n",
    "summary(sinc$rank_correlation - sinc$spearman)\n",
    "summary(sinc$rank_correlation - sinc$cor_rank)"
   ]
  },
  {
   "cell_type": "code",
   "execution_count": 217,
   "metadata": {},
   "outputs": [
    {
     "data": {
      "text/html": [
       "0.999948162896446"
      ],
      "text/latex": [
       "0.999948162896446"
      ],
      "text/markdown": [
       "0.999948162896446"
      ],
      "text/plain": [
       "[1] 0.9999482"
      ]
     },
     "metadata": {},
     "output_type": "display_data"
    },
    {
     "data": {
      "text/html": [
       "0.999867955293377"
      ],
      "text/latex": [
       "0.999867955293377"
      ],
      "text/markdown": [
       "0.999867955293377"
      ],
      "text/plain": [
       "[1] 0.999868"
      ]
     },
     "metadata": {},
     "output_type": "display_data"
    },
    {
     "data": {
      "text/html": [
       "1"
      ],
      "text/latex": [
       "1"
      ],
      "text/markdown": [
       "1"
      ],
      "text/plain": [
       "[1] 1"
      ]
     },
     "metadata": {},
     "output_type": "display_data"
    },
    {
     "data": {
      "text/html": [
       "0.999965387455135"
      ],
      "text/latex": [
       "0.999965387455135"
      ],
      "text/markdown": [
       "0.999965387455135"
      ],
      "text/plain": [
       "[1] 0.9999654"
      ]
     },
     "metadata": {},
     "output_type": "display_data"
    }
   ],
   "source": [
    "cor(sinc$rank_slope, sinc$im)\n",
    "cor(sinc$rank_absolute, sinc$am)\n",
    "cor(sinc$rank_correlation, sinc$spearman)\n",
    "cor(sinc$rank_correlation, sinc$cor_rank)"
   ]
  }
 ],
 "metadata": {
  "interpreter": {
   "hash": "ecf5722fdaf1897a315d257d89d94520bfcaa453217d5becf09b39e73618b0de"
  },
  "kernelspec": {
   "display_name": "R",
   "language": "R",
   "name": "ir"
  },
  "language_info": {
   "codemirror_mode": "r",
   "file_extension": ".r",
   "mimetype": "text/x-r-source",
   "name": "R",
   "pygments_lexer": "r",
   "version": "4.1.0"
  },
  "orig_nbformat": 4
 },
 "nbformat": 4,
 "nbformat_minor": 2
}
