{
 "cells": [
  {
   "cell_type": "markdown",
   "metadata": {},
   "source": [
    "# Testing"
   ]
  },
  {
   "cell_type": "code",
   "execution_count": 25,
   "metadata": {},
   "outputs": [],
   "source": [
    "library(data.table)"
   ]
  },
  {
   "cell_type": "code",
   "execution_count": 26,
   "metadata": {},
   "outputs": [],
   "source": [
    "# read data files\n",
    "p = fread(\"../models/MobHealthRecycling/output/testing/parameters-1-1.csv\")\n",
    "m = fread(\"../models/MobHealthRecycling/output/testing/mortality-1-1.csv\")\n",
    "c = fread(\"../models/MobHealthRecycling/output/testing/county-1-1.csv\")\n",
    "e = fread(\"../models/MobHealthRecycling/output/testing/environment-1-1.csv\")\n",
    "mi = fread(\"../models/MobHealthRecycling/output/testing/migration-1-1.csv\")\n",
    "ag = fread(\"../models/MobHealthRecycling/output/testing/agents-1-1.csv\")"
   ]
  },
  {
   "cell_type": "code",
   "execution_count": 28,
   "metadata": {},
   "outputs": [],
   "source": [
    "#mi"
   ]
  },
  {
   "cell_type": "code",
   "execution_count": 29,
   "metadata": {},
   "outputs": [
    {
     "data": {
      "text/html": [
       "<table class=\"dataframe\">\n",
       "<caption>A data.table: 9 × 8</caption>\n",
       "<thead>\n",
       "\t<tr><th scope=col>iteration</th><th scope=col>replicate</th><th scope=col>model_time</th><th scope=col>id</th><th scope=col>age</th><th scope=col>county</th><th scope=col>cz</th><th scope=col>time</th></tr>\n",
       "\t<tr><th scope=col>&lt;int&gt;</th><th scope=col>&lt;int&gt;</th><th scope=col>&lt;dbl&gt;</th><th scope=col>&lt;int&gt;</th><th scope=col>&lt;dbl&gt;</th><th scope=col>&lt;int&gt;</th><th scope=col>&lt;dbl&gt;</th><th scope=col>&lt;dbl&gt;</th></tr>\n",
       "</thead>\n",
       "<tbody>\n",
       "\t<tr><td>1</td><td>1</td><td>259.6219</td><td>32931</td><td>10</td><td>17</td><td>27402</td><td>10.02410</td></tr>\n",
       "\t<tr><td>1</td><td>1</td><td>259.8490</td><td>32931</td><td>10</td><td>21</td><td>13501</td><td>10.25116</td></tr>\n",
       "\t<tr><td>1</td><td>1</td><td>261.2874</td><td>32931</td><td>11</td><td> 6</td><td>28202</td><td>11.68963</td></tr>\n",
       "\t<tr><td>1</td><td>1</td><td>262.1261</td><td>32931</td><td>12</td><td>21</td><td>13501</td><td>12.52827</td></tr>\n",
       "\t<tr><td>1</td><td>1</td><td>262.4128</td><td>32931</td><td>12</td><td> 8</td><td>26703</td><td>12.81494</td></tr>\n",
       "\t<tr><td>1</td><td>1</td><td>263.5470</td><td>32931</td><td>13</td><td>29</td><td> 3101</td><td>13.94915</td></tr>\n",
       "\t<tr><td>1</td><td>1</td><td>264.3022</td><td>32931</td><td>14</td><td>13</td><td>30802</td><td>14.70443</td></tr>\n",
       "\t<tr><td>1</td><td>1</td><td>265.0607</td><td>32931</td><td>15</td><td>23</td><td> 9302</td><td>15.46289</td></tr>\n",
       "\t<tr><td>1</td><td>1</td><td>267.1483</td><td>32931</td><td>17</td><td>10</td><td>36902</td><td>17.55044</td></tr>\n",
       "</tbody>\n",
       "</table>\n"
      ],
      "text/latex": [
       "A data.table: 9 × 8\n",
       "\\begin{tabular}{llllllll}\n",
       " iteration & replicate & model\\_time & id & age & county & cz & time\\\\\n",
       " <int> & <int> & <dbl> & <int> & <dbl> & <int> & <dbl> & <dbl>\\\\\n",
       "\\hline\n",
       "\t 1 & 1 & 259.6219 & 32931 & 10 & 17 & 27402 & 10.02410\\\\\n",
       "\t 1 & 1 & 259.8490 & 32931 & 10 & 21 & 13501 & 10.25116\\\\\n",
       "\t 1 & 1 & 261.2874 & 32931 & 11 &  6 & 28202 & 11.68963\\\\\n",
       "\t 1 & 1 & 262.1261 & 32931 & 12 & 21 & 13501 & 12.52827\\\\\n",
       "\t 1 & 1 & 262.4128 & 32931 & 12 &  8 & 26703 & 12.81494\\\\\n",
       "\t 1 & 1 & 263.5470 & 32931 & 13 & 29 &  3101 & 13.94915\\\\\n",
       "\t 1 & 1 & 264.3022 & 32931 & 14 & 13 & 30802 & 14.70443\\\\\n",
       "\t 1 & 1 & 265.0607 & 32931 & 15 & 23 &  9302 & 15.46289\\\\\n",
       "\t 1 & 1 & 267.1483 & 32931 & 17 & 10 & 36902 & 17.55044\\\\\n",
       "\\end{tabular}\n"
      ],
      "text/markdown": [
       "\n",
       "A data.table: 9 × 8\n",
       "\n",
       "| iteration &lt;int&gt; | replicate &lt;int&gt; | model_time &lt;dbl&gt; | id &lt;int&gt; | age &lt;dbl&gt; | county &lt;int&gt; | cz &lt;dbl&gt; | time &lt;dbl&gt; |\n",
       "|---|---|---|---|---|---|---|---|\n",
       "| 1 | 1 | 259.6219 | 32931 | 10 | 17 | 27402 | 10.02410 |\n",
       "| 1 | 1 | 259.8490 | 32931 | 10 | 21 | 13501 | 10.25116 |\n",
       "| 1 | 1 | 261.2874 | 32931 | 11 |  6 | 28202 | 11.68963 |\n",
       "| 1 | 1 | 262.1261 | 32931 | 12 | 21 | 13501 | 12.52827 |\n",
       "| 1 | 1 | 262.4128 | 32931 | 12 |  8 | 26703 | 12.81494 |\n",
       "| 1 | 1 | 263.5470 | 32931 | 13 | 29 |  3101 | 13.94915 |\n",
       "| 1 | 1 | 264.3022 | 32931 | 14 | 13 | 30802 | 14.70443 |\n",
       "| 1 | 1 | 265.0607 | 32931 | 15 | 23 |  9302 | 15.46289 |\n",
       "| 1 | 1 | 267.1483 | 32931 | 17 | 10 | 36902 | 17.55044 |\n",
       "\n"
      ],
      "text/plain": [
       "  iteration replicate model_time id    age county cz    time    \n",
       "1 1         1         259.6219   32931 10  17     27402 10.02410\n",
       "2 1         1         259.8490   32931 10  21     13501 10.25116\n",
       "3 1         1         261.2874   32931 11   6     28202 11.68963\n",
       "4 1         1         262.1261   32931 12  21     13501 12.52827\n",
       "5 1         1         262.4128   32931 12   8     26703 12.81494\n",
       "6 1         1         263.5470   32931 13  29      3101 13.94915\n",
       "7 1         1         264.3022   32931 14  13     30802 14.70443\n",
       "8 1         1         265.0607   32931 15  23      9302 15.46289\n",
       "9 1         1         267.1483   32931 17  10     36902 17.55044"
      ]
     },
     "metadata": {},
     "output_type": "display_data"
    }
   ],
   "source": [
    "mi[id == 32931 & age < 19]"
   ]
  },
  {
   "cell_type": "code",
   "execution_count": 31,
   "metadata": {},
   "outputs": [],
   "source": [
    "t = ag[id == 32931, .(id, age, time_exposure)]"
   ]
  },
  {
   "cell_type": "code",
   "execution_count": null,
   "metadata": {},
   "outputs": [],
   "source": []
  },
  {
   "cell_type": "code",
   "execution_count": 18,
   "metadata": {},
   "outputs": [
    {
     "data": {
      "text/plain": [
       "   Min. 1st Qu.  Median    Mean 3rd Qu.    Max. \n",
       "     60      80     120     120     160     180 "
      ]
     },
     "metadata": {},
     "output_type": "display_data"
    }
   ],
   "source": [
    "summary(c$model_time)\n"
   ]
  },
  {
   "cell_type": "code",
   "execution_count": 15,
   "metadata": {},
   "outputs": [
    {
     "data": {
      "text/plain": [
       "   Min. 1st Qu.  Median    Mean 3rd Qu.    Max. \n",
       "-0.1267  0.1701  0.2359  0.2262  0.2960  0.4629 "
      ]
     },
     "metadata": {},
     "output_type": "display_data"
    }
   ],
   "source": [
    "summary(c$rank_slope)\n"
   ]
  },
  {
   "cell_type": "code",
   "execution_count": null,
   "metadata": {},
   "outputs": [],
   "source": []
  }
 ],
 "metadata": {
  "interpreter": {
   "hash": "ecf5722fdaf1897a315d257d89d94520bfcaa453217d5becf09b39e73618b0de"
  },
  "kernelspec": {
   "display_name": "R",
   "language": "R",
   "name": "ir"
  },
  "language_info": {
   "codemirror_mode": "r",
   "file_extension": ".r",
   "mimetype": "text/x-r-source",
   "name": "R",
   "pygments_lexer": "r",
   "version": "4.1.0"
  },
  "orig_nbformat": 4
 },
 "nbformat": 4,
 "nbformat_minor": 2
}
