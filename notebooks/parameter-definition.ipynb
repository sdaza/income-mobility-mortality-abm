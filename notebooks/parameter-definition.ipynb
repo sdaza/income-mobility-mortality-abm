{
 "cells": [
  {
   "cell_type": "markdown",
   "metadata": {},
   "source": [
    "# Define parameters\n",
    "## Smoking"
   ]
  },
  {
   "cell_type": "code",
   "execution_count": 67,
   "metadata": {},
   "outputs": [],
   "source": [
    "library(data.table)\n",
    "library(survey)\n",
    "library(xtable)\n",
    "library(reldist)\n",
    "source(\"../src/utils.R\")"
   ]
  },
  {
   "cell_type": "code",
   "execution_count": 68,
   "metadata": {},
   "outputs": [
    {
     "data": {
      "text/html": [
       "<table class=\"dataframe\">\n",
       "<caption>A data.table: 6 × 2</caption>\n",
       "<thead>\n",
       "\t<tr><th scope=col>income_group</th><th scope=col>smoking_prop</th></tr>\n",
       "\t<tr><th scope=col>&lt;dbl&gt;</th><th scope=col>&lt;dbl&gt;</th></tr>\n",
       "</thead>\n",
       "<tbody>\n",
       "\t<tr><td>1</td><td>0.28693056</td></tr>\n",
       "\t<tr><td>2</td><td>0.22298422</td></tr>\n",
       "\t<tr><td>3</td><td>0.15587096</td></tr>\n",
       "\t<tr><td>4</td><td>0.10864730</td></tr>\n",
       "\t<tr><td>5</td><td>0.05414104</td></tr>\n",
       "\t<tr><td>9</td><td>0.16516696</td></tr>\n",
       "</tbody>\n",
       "</table>\n"
      ],
      "text/latex": [
       "A data.table: 6 × 2\n",
       "\\begin{tabular}{ll}\n",
       " income\\_group & smoking\\_prop\\\\\n",
       " <dbl> & <dbl>\\\\\n",
       "\\hline\n",
       "\t 1 & 0.28693056\\\\\n",
       "\t 2 & 0.22298422\\\\\n",
       "\t 3 & 0.15587096\\\\\n",
       "\t 4 & 0.10864730\\\\\n",
       "\t 5 & 0.05414104\\\\\n",
       "\t 9 & 0.16516696\\\\\n",
       "\\end{tabular}\n"
      ],
      "text/markdown": [
       "\n",
       "A data.table: 6 × 2\n",
       "\n",
       "| income_group &lt;dbl&gt; | smoking_prop &lt;dbl&gt; |\n",
       "|---|---|\n",
       "| 1 | 0.28693056 |\n",
       "| 2 | 0.22298422 |\n",
       "| 3 | 0.15587096 |\n",
       "| 4 | 0.10864730 |\n",
       "| 5 | 0.05414104 |\n",
       "| 9 | 0.16516696 |\n",
       "\n"
      ],
      "text/plain": [
       "  income_group smoking_prop\n",
       "1 1            0.28693056  \n",
       "2 2            0.22298422  \n",
       "3 3            0.15587096  \n",
       "4 4            0.10864730  \n",
       "5 5            0.05414104  \n",
       "6 9            0.16516696  "
      ]
     },
     "metadata": {},
     "output_type": "display_data"
    }
   ],
   "source": [
    "# read NHIS 2019\n",
    "h = fread(\"../data/health_survey_adults.csv\")\n",
    "setnames(h, names(h), tolower(names(h)))\n",
    "setnames(h, \"wtfa_a\", \"wt\")\n",
    "\n",
    "# define smoking variables\n",
    "# table(h$smkev_a)\n",
    "# table(h$smknow_a)\n",
    "# table(h$srvy_yr)\n",
    "\n",
    "h[, smoking := 0]\n",
    "h[smkev_a == 1 & smknow_a %in% c(1, 2), smoking := 1]\n",
    "h[smkev_a %in% c(7, 8, 9), smoking := NA]\n",
    "h[smknow_a %in% c(7, 8), smoking := NA]\n",
    "# table(h$smoking)\n",
    "\n",
    "# gender\n",
    "# table(h$sex_a)\n",
    "h[sex_a != 7, sex := ifelse(sex_a == 1, 1, 0)]\n",
    "\n",
    "# age groups\n",
    "# summary(h$agep_a)\n",
    "h[, age_group := ifelse(agep_a >= 30 & agep_a <= 50, 1, 0)]\n",
    "h[age_group == 1, income_group := cut(faminctc_a, breaks = quantile(faminctc_a,\n",
    "    probs = 0:5/5),\n",
    "    labels = 1:5, right = TRUE, include.lowest = TRUE)]\n",
    "h[, income_group := as.numeric(as.character(income_group))]\n",
    "# table(h$income_group)\n",
    "\n",
    "# hist(h[faminctc_a < quantile(h$faminctc_a, 0.33), faminctc_a])\n",
    "# gini(h$faminctc_a)\n",
    "# table(h[age_group == 1, income_group ])\n",
    "\n",
    "# select only respondets between 30 and 50\n",
    "s = h[age_group == 1]\n",
    "# dim(s)\n",
    "setorder(s, income_group )\n",
    "\n",
    "# total_smoking = weighted.mean(s[!is.na(smoking), smoking], s[!is.na(smoking), wt])\n",
    "\n",
    "design = svydesign(ids= ~ hhx, weights = ~wt, data=s)\n",
    "tab = s[, .(smoking_prop = weighted.mean(smoking, wt, na.rm = TRUE)), income_group ][!is.na(income_group )]\n",
    "total = data.table(income_group   = 9,  smoking_prop = total_smoking)\n",
    "tab = rbind(tab, total)\n",
    "setorder(tab, income_group)\n",
    "tab\n",
    "\n",
    "saveRDS(tab, \"../output/data/smoking_dist_nhis2019.rds\")"
   ]
  },
  {
   "cell_type": "markdown",
   "metadata": {},
   "source": [
    "### Logistic model to get baseline income group coefficients\n"
   ]
  },
  {
   "cell_type": "code",
   "execution_count": 69,
   "metadata": {},
   "outputs": [
    {
     "data": {
      "text/plain": [
       "\n",
       "Call:\n",
       "svyglm(formula = smoking ~ -1 + as.factor(income_group), design = design, \n",
       "    family = quasibinomial)\n",
       "\n",
       "Survey design:\n",
       "svydesign(ids = ~hhx, weights = ~wt, data = s)\n",
       "\n",
       "Coefficients:\n",
       "                         Estimate Std. Error t value Pr(>|t|)    \n",
       "as.factor(income_group)1 -0.91034    0.05813  -15.66   <2e-16 ***\n",
       "as.factor(income_group)2 -1.24836    0.06128  -20.37   <2e-16 ***\n",
       "as.factor(income_group)3 -1.68928    0.08370  -20.18   <2e-16 ***\n",
       "as.factor(income_group)4 -2.10463    0.08668  -24.28   <2e-16 ***\n",
       "as.factor(income_group)5 -2.86050    0.11734  -24.38   <2e-16 ***\n",
       "---\n",
       "Signif. codes:  0 '***' 0.001 '**' 0.01 '*' 0.05 '.' 0.1 ' ' 1\n",
       "\n",
       "(Dispersion parameter for quasibinomial family taken to be 0.9945759)\n",
       "\n",
       "Number of Fisher Scoring iterations: 5\n"
      ]
     },
     "metadata": {},
     "output_type": "display_data"
    }
   ],
   "source": [
    "\n",
    "m = svyglm(smoking ~ -1 + as.factor(income_group), design = design, family = quasibinomial)\n",
    "summary(m)"
   ]
  },
  {
   "cell_type": "markdown",
   "metadata": {},
   "source": [
    "####  Scale coefficients\n"
   ]
  },
  {
   "cell_type": "code",
   "execution_count": 70,
   "metadata": {},
   "outputs": [
    {
     "data": {
      "text/html": [
       "<style>\n",
       ".list-inline {list-style: none; margin:0; padding: 0}\n",
       ".list-inline>li {display: inline-block}\n",
       ".list-inline>li:not(:last-child)::after {content: \"\\00b7\"; padding: 0 .5ex}\n",
       "</style>\n",
       "<ol class=list-inline><li>0.29</li><li>0.22</li><li>0.16</li><li>0.11</li><li>0.05</li></ol>\n"
      ],
      "text/latex": [
       "\\begin{enumerate*}\n",
       "\\item 0.29\n",
       "\\item 0.22\n",
       "\\item 0.16\n",
       "\\item 0.11\n",
       "\\item 0.05\n",
       "\\end{enumerate*}\n"
      ],
      "text/markdown": [
       "1. 0.29\n",
       "2. 0.22\n",
       "3. 0.16\n",
       "4. 0.11\n",
       "5. 0.05\n",
       "\n",
       "\n"
      ],
      "text/plain": [
       "[1] 0.29 0.22 0.16 0.11 0.05"
      ]
     },
     "metadata": {},
     "output_type": "display_data"
    },
    {
     "data": {
      "text/html": [
       "0.17"
      ],
      "text/latex": [
       "0.17"
      ],
      "text/markdown": [
       "0.17"
      ],
      "text/plain": [
       "[1] 0.17"
      ]
     },
     "metadata": {},
     "output_type": "display_data"
    }
   ],
   "source": [
    "\n",
    "# original distribution\n",
    "coeff = as.vector(coef(m))\n",
    "prop = NULL\n",
    "eprop = NULL\n",
    "nprop = NULL\n",
    "\n",
    "for (i in seq_along(coeff)) {\n",
    "    prop[i] = exp(coeff[i]) / (1 + exp(coeff[i]))\n",
    "}\n",
    "(org_coeff = round(prop, 2))\n",
    "round(mean(prop), 2)\n"
   ]
  },
  {
   "cell_type": "code",
   "execution_count": 30,
   "metadata": {},
   "outputs": [
    {
     "data": {
      "text/html": [
       "<style>\n",
       ".list-inline {list-style: none; margin:0; padding: 0}\n",
       ".list-inline>li {display: inline-block}\n",
       ".list-inline>li:not(:last-child)::after {content: \"\\00b7\"; padding: 0 .5ex}\n",
       "</style>\n",
       "<ol class=list-inline><li>0.37</li><li>0.3</li><li>0.21</li><li>0.15</li><li>0.08</li></ol>\n"
      ],
      "text/latex": [
       "\\begin{enumerate*}\n",
       "\\item 0.37\n",
       "\\item 0.3\n",
       "\\item 0.21\n",
       "\\item 0.15\n",
       "\\item 0.08\n",
       "\\end{enumerate*}\n"
      ],
      "text/markdown": [
       "1. 0.37\n",
       "2. 0.3\n",
       "3. 0.21\n",
       "4. 0.15\n",
       "5. 0.08\n",
       "\n",
       "\n"
      ],
      "text/plain": [
       "[1] 0.37 0.30 0.21 0.15 0.08"
      ]
     },
     "metadata": {},
     "output_type": "display_data"
    }
   ],
   "source": [
    "# rank slope effect\n",
    "for (i in seq_along(coeff)) {\n",
    "    eprop[i] = exp(coeff[i] + 0.12/0.086 * 0.28) / (1 + exp(coeff[i] +  0.12/0.086 * 0.28))\n",
    "}\n",
    "# too high smoking prevalence\n",
    "round(eprop, 2)\n"
   ]
  },
  {
   "cell_type": "code",
   "execution_count": 77,
   "metadata": {},
   "outputs": [
    {
     "data": {
      "text/html": [
       "<style>\n",
       ".list-inline {list-style: none; margin:0; padding: 0}\n",
       ".list-inline>li {display: inline-block}\n",
       ".list-inline>li:not(:last-child)::after {content: \"\\00b7\"; padding: 0 .5ex}\n",
       "</style>\n",
       "<ol class=list-inline><li>-1.17433674014455</li><li>-1.54796597521468</li><li>-1.92577561034509</li><li>-2.31509670861989</li><li>-3.11794612245059</li></ol>\n"
      ],
      "text/latex": [
       "\\begin{enumerate*}\n",
       "\\item -1.17433674014455\n",
       "\\item -1.54796597521468\n",
       "\\item -1.92577561034509\n",
       "\\item -2.31509670861989\n",
       "\\item -3.11794612245059\n",
       "\\end{enumerate*}\n"
      ],
      "text/markdown": [
       "1. -1.17433674014455\n",
       "2. -1.54796597521468\n",
       "3. -1.92577561034509\n",
       "4. -2.31509670861989\n",
       "5. -3.11794612245059\n",
       "\n",
       "\n"
      ],
      "text/plain": [
       "[1] -1.174337 -1.547966 -1.925776 -2.315097 -3.117946"
      ]
     },
     "metadata": {},
     "output_type": "display_data"
    }
   ],
   "source": [
    "# adjusted coefficients\n",
    "ncoeff = coeff * c(1.29, 1.24, 1.14, 1.10, 1.09)\n",
    "ncoeff\n"
   ]
  },
  {
   "cell_type": "code",
   "execution_count": null,
   "metadata": {},
   "outputs": [],
   "source": [
    "1.00 & 0.29 & 0.22 & 0.29 \\\\ \n",
    "  2.00 & 0.22 & 0.15 & 0.21 \\\\ \n",
    "  3.00 & 0.16 & 0.11 & 0.16 \\\\ \n",
    "  4.00 & 0.11 & 0.07 & 0.10 \\\\ \n",
    "  5.00 & 0.05 & 0.03 & 0.05 \\\\ \n",
    "  9.00 & 0.17 & 0.11 & 0.16 \\\\ "
   ]
  },
  {
   "cell_type": "code",
   "execution_count": 78,
   "metadata": {},
   "outputs": [
    {
     "data": {
      "text/html": [
       "<style>\n",
       ".list-inline {list-style: none; margin:0; padding: 0}\n",
       ".list-inline>li {display: inline-block}\n",
       ".list-inline>li:not(:last-child)::after {content: \"\\00b7\"; padding: 0 .5ex}\n",
       "</style>\n",
       "<ol class=list-inline><li>0.31</li><li>0.24</li><li>0.18</li><li>0.13</li><li>0.06</li></ol>\n"
      ],
      "text/latex": [
       "\\begin{enumerate*}\n",
       "\\item 0.31\n",
       "\\item 0.24\n",
       "\\item 0.18\n",
       "\\item 0.13\n",
       "\\item 0.06\n",
       "\\end{enumerate*}\n"
      ],
      "text/markdown": [
       "1. 0.31\n",
       "2. 0.24\n",
       "3. 0.18\n",
       "4. 0.13\n",
       "5. 0.06\n",
       "\n",
       "\n"
      ],
      "text/plain": [
       "[1] 0.31 0.24 0.18 0.13 0.06"
      ]
     },
     "metadata": {},
     "output_type": "display_data"
    },
    {
     "data": {
      "text/html": [
       "0.18"
      ],
      "text/latex": [
       "0.18"
      ],
      "text/markdown": [
       "0.18"
      ],
      "text/plain": [
       "[1] 0.18"
      ]
     },
     "metadata": {},
     "output_type": "display_data"
    }
   ],
   "source": [
    "for (i in seq_along(ncoeff)) {\n",
    "    nprop[i] = exp(ncoeff[i] + 0.12/0.086 * 0.28) / (1 + exp(ncoeff[i] +  0.12/0.086 * 0.28))\n",
    "}\n",
    "(adj_coeff = round(nprop, 2))\n",
    "round(mean(nprop), 2)\n"
   ]
  },
  {
   "cell_type": "code",
   "execution_count": 39,
   "metadata": {},
   "outputs": [
    {
     "data": {
      "text/html": [
       "<style>\n",
       ".list-inline {list-style: none; margin:0; padding: 0}\n",
       ".list-inline>li {display: inline-block}\n",
       ".list-inline>li:not(:last-child)::after {content: \"\\00b7\"; padding: 0 .5ex}\n",
       "</style>\n",
       "<ol class=list-inline><li>0</li><li>0</li><li>0</li><li>0</li><li>0</li></ol>\n"
      ],
      "text/latex": [
       "\\begin{enumerate*}\n",
       "\\item 0\n",
       "\\item 0\n",
       "\\item 0\n",
       "\\item 0\n",
       "\\item 0\n",
       "\\end{enumerate*}\n"
      ],
      "text/markdown": [
       "1. 0\n",
       "2. 0\n",
       "3. 0\n",
       "4. 0\n",
       "5. 0\n",
       "\n",
       "\n"
      ],
      "text/plain": [
       "[1] 0 0 0 0 0"
      ]
     },
     "metadata": {},
     "output_type": "display_data"
    }
   ],
   "source": [
    "# comparing prevalences by income group\n",
    "org_coeff - adj_coeff"
   ]
  },
  {
   "cell_type": "code",
   "execution_count": 40,
   "metadata": {},
   "outputs": [
    {
     "data": {
      "text/html": [
       "<style>\n",
       ".list-inline {list-style: none; margin:0; padding: 0}\n",
       ".list-inline>li {display: inline-block}\n",
       ".list-inline>li:not(:last-child)::after {content: \"\\00b7\"; padding: 0 .5ex}\n",
       "</style>\n",
       "<ol class=list-inline><li>0.22</li><li>0.16</li><li>0.11</li><li>0.08</li><li>0.04</li></ol>\n"
      ],
      "text/latex": [
       "\\begin{enumerate*}\n",
       "\\item 0.22\n",
       "\\item 0.16\n",
       "\\item 0.11\n",
       "\\item 0.08\n",
       "\\item 0.04\n",
       "\\end{enumerate*}\n"
      ],
      "text/markdown": [
       "1. 0.22\n",
       "2. 0.16\n",
       "3. 0.11\n",
       "4. 0.08\n",
       "5. 0.04\n",
       "\n",
       "\n"
      ],
      "text/plain": [
       "[1] 0.22 0.16 0.11 0.08 0.04"
      ]
     },
     "metadata": {},
     "output_type": "display_data"
    },
    {
     "data": {
      "text/html": [
       "0.12"
      ],
      "text/latex": [
       "0.12"
      ],
      "text/markdown": [
       "0.12"
      ],
      "text/plain": [
       "[1] 0.12"
      ]
     },
     "metadata": {},
     "output_type": "display_data"
    }
   ],
   "source": [
    "# dis\n",
    "for (i in seq_along(ncoeff)) {\n",
    "    nprop[i] = exp(ncoeff[i] + 0.0/0.086 * 0.28) / (1 + exp(ncoeff[i] +  0.0/0.086 * 0.28))\n",
    "}\n",
    "round(nprop, 2)\n",
    "round(mean(nprop), 2)\n"
   ]
  },
  {
   "cell_type": "code",
   "execution_count": 79,
   "metadata": {},
   "outputs": [
    {
     "name": "stdout",
     "output_type": "stream",
     "text": [
      "{-1.17434,-1.54797,-1.92578,-2.3151,-3.11795}"
     ]
    }
   ],
   "source": [
    "# final coefficients\n",
    "cat(paste0(\"{\", paste0(round(ncoeff, 5), collapse = \",\"), \"}\"))"
   ]
  },
  {
   "cell_type": "code",
   "execution_count": null,
   "metadata": {},
   "outputs": [],
   "source": []
  }
 ],
 "metadata": {
  "kernelspec": {
   "display_name": "R",
   "language": "R",
   "name": "ir"
  },
  "language_info": {
   "codemirror_mode": "r",
   "file_extension": ".r",
   "mimetype": "text/x-r-source",
   "name": "R",
   "pygments_lexer": "r",
   "version": "4.1.0"
  },
  "orig_nbformat": 4
 },
 "nbformat": 4,
 "nbformat_minor": 2
}
