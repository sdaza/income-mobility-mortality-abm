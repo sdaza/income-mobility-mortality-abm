{
 "cells": [
  {
   "cell_type": "markdown",
   "metadata": {},
   "source": [
    "# Verification of mortality effects\n",
    "\n",
    "- Parameter variation `VerificationEFfects` in Anylogic\n",
    "- 90 replicates per iteration or scenario"
   ]
  },
  {
   "cell_type": "code",
   "execution_count": 4,
   "metadata": {},
   "outputs": [],
   "source": [
    "library(data.table)\n",
    "library(xtable)\n",
    "library(survival)\n",
    "library(texreg)\n",
    "#library(metafor)\n",
    "library(ggplot2)\n",
    "#library(simPH)\n",
    "source(\"../src/utils.R\")"
   ]
  },
  {
   "cell_type": "code",
   "execution_count": 5,
   "metadata": {},
   "outputs": [],
   "source": [
    "# read data files\n",
    "m = fread(\"../output/data/mortality-testing-replicates-trans.csv\")\n",
    "p = fread(\"../output/data/parameters-testing-replicates-trans.csv\")\n",
    "e = fread(\"../output/data/environment-testing-replicates-trans.csv\")\n"
   ]
  },
  {
   "cell_type": "code",
   "execution_count": 6,
   "metadata": {},
   "outputs": [
    {
     "data": {
      "text/html": [
       "<table class=\"dataframe\">\n",
       "<caption>A data.table: 6 × 36</caption>\n",
       "<thead>\n",
       "\t<tr><th scope=col>model_date</th><th scope=col>iteration</th><th scope=col>replicate</th><th scope=col>counties</th><th scope=col>people_per_county</th><th scope=col>fertility_adjustment</th><th scope=col>max_generation</th><th scope=col>mortality_cohort_size</th><th scope=col>income_mobility_cohort_size</th><th scope=col>measurement_cohort_window</th><th scope=col>⋯</th><th scope=col>mortality_fake_exp_coeff</th><th scope=col>smoking_rank_slope_exp_coeff</th><th scope=col>smoking_rank_slope_exp_coeff_se</th><th scope=col>smoking_income_coeff</th><th scope=col>smoking_county_income_exp_z</th><th scope=col>smoking_parent_smk_coeff</th><th scope=col>selected_generations</th><th scope=col>county_export_since_generation</th><th scope=col>recurrent_time_county_data</th><th scope=col>recurrent_heavy_computations</th></tr>\n",
       "\t<tr><th scope=col>&lt;chr&gt;</th><th scope=col>&lt;int&gt;</th><th scope=col>&lt;int&gt;</th><th scope=col>&lt;int&gt;</th><th scope=col>&lt;int&gt;</th><th scope=col>&lt;dbl&gt;</th><th scope=col>&lt;int&gt;</th><th scope=col>&lt;dbl&gt;</th><th scope=col>&lt;dbl&gt;</th><th scope=col>&lt;dbl&gt;</th><th scope=col>⋯</th><th scope=col>&lt;dbl&gt;</th><th scope=col>&lt;dbl&gt;</th><th scope=col>&lt;dbl&gt;</th><th scope=col>&lt;chr&gt;</th><th scope=col>&lt;dbl&gt;</th><th scope=col>&lt;dbl&gt;</th><th scope=col>&lt;chr&gt;</th><th scope=col>&lt;dbl&gt;</th><th scope=col>&lt;dbl&gt;</th><th scope=col>&lt;dbl&gt;</th></tr>\n",
       "</thead>\n",
       "<tbody>\n",
       "\t<tr><td>2022-02-14 at 20:13:48 UTC</td><td>1</td><td>1</td><td>30</td><td>100</td><td>2.1</td><td>30</td><td>40</td><td>60</td><td>10</td><td>⋯</td><td>0</td><td>0</td><td>0</td><td>[-1.17434, -1.54797, -1.92578, -2.3151, -3.11795]</td><td>-0.2</td><td>0</td><td>[20, 25, 30]</td><td>20</td><td>20</td><td>10</td></tr>\n",
       "\t<tr><td>2022-02-14 at 20:19:29 UTC</td><td>1</td><td>2</td><td>30</td><td>100</td><td>2.1</td><td>30</td><td>40</td><td>60</td><td>10</td><td>⋯</td><td>0</td><td>0</td><td>0</td><td>[-1.17434, -1.54797, -1.92578, -2.3151, -3.11795]</td><td>-0.2</td><td>0</td><td>[20, 25, 30]</td><td>20</td><td>20</td><td>10</td></tr>\n",
       "\t<tr><td>2022-02-14 at 20:25:14 UTC</td><td>1</td><td>3</td><td>30</td><td>100</td><td>2.1</td><td>30</td><td>40</td><td>60</td><td>10</td><td>⋯</td><td>0</td><td>0</td><td>0</td><td>[-1.17434, -1.54797, -1.92578, -2.3151, -3.11795]</td><td>-0.2</td><td>0</td><td>[20, 25, 30]</td><td>20</td><td>20</td><td>10</td></tr>\n",
       "\t<tr><td>2022-02-14 at 20:30:54 UTC</td><td>1</td><td>4</td><td>30</td><td>100</td><td>2.1</td><td>30</td><td>40</td><td>60</td><td>10</td><td>⋯</td><td>0</td><td>0</td><td>0</td><td>[-1.17434, -1.54797, -1.92578, -2.3151, -3.11795]</td><td>-0.2</td><td>0</td><td>[20, 25, 30]</td><td>20</td><td>20</td><td>10</td></tr>\n",
       "\t<tr><td>2022-02-14 at 20:36:35 UTC</td><td>1</td><td>5</td><td>30</td><td>100</td><td>2.1</td><td>30</td><td>40</td><td>60</td><td>10</td><td>⋯</td><td>0</td><td>0</td><td>0</td><td>[-1.17434, -1.54797, -1.92578, -2.3151, -3.11795]</td><td>-0.2</td><td>0</td><td>[20, 25, 30]</td><td>20</td><td>20</td><td>10</td></tr>\n",
       "\t<tr><td>2022-02-14 at 20:42:00 UTC</td><td>1</td><td>6</td><td>30</td><td>100</td><td>2.1</td><td>30</td><td>40</td><td>60</td><td>10</td><td>⋯</td><td>0</td><td>0</td><td>0</td><td>[-1.17434, -1.54797, -1.92578, -2.3151, -3.11795]</td><td>-0.2</td><td>0</td><td>[20, 25, 30]</td><td>20</td><td>20</td><td>10</td></tr>\n",
       "</tbody>\n",
       "</table>\n"
      ],
      "text/latex": [
       "A data.table: 6 × 36\n",
       "\\begin{tabular}{lllllllllllllllllllll}\n",
       " model\\_date & iteration & replicate & counties & people\\_per\\_county & fertility\\_adjustment & max\\_generation & mortality\\_cohort\\_size & income\\_mobility\\_cohort\\_size & measurement\\_cohort\\_window & ⋯ & mortality\\_fake\\_exp\\_coeff & smoking\\_rank\\_slope\\_exp\\_coeff & smoking\\_rank\\_slope\\_exp\\_coeff\\_se & smoking\\_income\\_coeff & smoking\\_county\\_income\\_exp\\_z & smoking\\_parent\\_smk\\_coeff & selected\\_generations & county\\_export\\_since\\_generation & recurrent\\_time\\_county\\_data & recurrent\\_heavy\\_computations\\\\\n",
       " <chr> & <int> & <int> & <int> & <int> & <dbl> & <int> & <dbl> & <dbl> & <dbl> & ⋯ & <dbl> & <dbl> & <dbl> & <chr> & <dbl> & <dbl> & <chr> & <dbl> & <dbl> & <dbl>\\\\\n",
       "\\hline\n",
       "\t 2022-02-14 at 20:13:48 UTC & 1 & 1 & 30 & 100 & 2.1 & 30 & 40 & 60 & 10 & ⋯ & 0 & 0 & 0 & {[}-1.17434, -1.54797, -1.92578, -2.3151, -3.11795{]} & -0.2 & 0 & {[}20, 25, 30{]} & 20 & 20 & 10\\\\\n",
       "\t 2022-02-14 at 20:19:29 UTC & 1 & 2 & 30 & 100 & 2.1 & 30 & 40 & 60 & 10 & ⋯ & 0 & 0 & 0 & {[}-1.17434, -1.54797, -1.92578, -2.3151, -3.11795{]} & -0.2 & 0 & {[}20, 25, 30{]} & 20 & 20 & 10\\\\\n",
       "\t 2022-02-14 at 20:25:14 UTC & 1 & 3 & 30 & 100 & 2.1 & 30 & 40 & 60 & 10 & ⋯ & 0 & 0 & 0 & {[}-1.17434, -1.54797, -1.92578, -2.3151, -3.11795{]} & -0.2 & 0 & {[}20, 25, 30{]} & 20 & 20 & 10\\\\\n",
       "\t 2022-02-14 at 20:30:54 UTC & 1 & 4 & 30 & 100 & 2.1 & 30 & 40 & 60 & 10 & ⋯ & 0 & 0 & 0 & {[}-1.17434, -1.54797, -1.92578, -2.3151, -3.11795{]} & -0.2 & 0 & {[}20, 25, 30{]} & 20 & 20 & 10\\\\\n",
       "\t 2022-02-14 at 20:36:35 UTC & 1 & 5 & 30 & 100 & 2.1 & 30 & 40 & 60 & 10 & ⋯ & 0 & 0 & 0 & {[}-1.17434, -1.54797, -1.92578, -2.3151, -3.11795{]} & -0.2 & 0 & {[}20, 25, 30{]} & 20 & 20 & 10\\\\\n",
       "\t 2022-02-14 at 20:42:00 UTC & 1 & 6 & 30 & 100 & 2.1 & 30 & 40 & 60 & 10 & ⋯ & 0 & 0 & 0 & {[}-1.17434, -1.54797, -1.92578, -2.3151, -3.11795{]} & -0.2 & 0 & {[}20, 25, 30{]} & 20 & 20 & 10\\\\\n",
       "\\end{tabular}\n"
      ],
      "text/markdown": [
       "\n",
       "A data.table: 6 × 36\n",
       "\n",
       "| model_date &lt;chr&gt; | iteration &lt;int&gt; | replicate &lt;int&gt; | counties &lt;int&gt; | people_per_county &lt;int&gt; | fertility_adjustment &lt;dbl&gt; | max_generation &lt;int&gt; | mortality_cohort_size &lt;dbl&gt; | income_mobility_cohort_size &lt;dbl&gt; | measurement_cohort_window &lt;dbl&gt; | ⋯ ⋯ | mortality_fake_exp_coeff &lt;dbl&gt; | smoking_rank_slope_exp_coeff &lt;dbl&gt; | smoking_rank_slope_exp_coeff_se &lt;dbl&gt; | smoking_income_coeff &lt;chr&gt; | smoking_county_income_exp_z &lt;dbl&gt; | smoking_parent_smk_coeff &lt;dbl&gt; | selected_generations &lt;chr&gt; | county_export_since_generation &lt;dbl&gt; | recurrent_time_county_data &lt;dbl&gt; | recurrent_heavy_computations &lt;dbl&gt; |\n",
       "|---|---|---|---|---|---|---|---|---|---|---|---|---|---|---|---|---|---|---|---|---|\n",
       "| 2022-02-14 at 20:13:48 UTC | 1 | 1 | 30 | 100 | 2.1 | 30 | 40 | 60 | 10 | ⋯ | 0 | 0 | 0 | [-1.17434, -1.54797, -1.92578, -2.3151, -3.11795] | -0.2 | 0 | [20, 25, 30] | 20 | 20 | 10 |\n",
       "| 2022-02-14 at 20:19:29 UTC | 1 | 2 | 30 | 100 | 2.1 | 30 | 40 | 60 | 10 | ⋯ | 0 | 0 | 0 | [-1.17434, -1.54797, -1.92578, -2.3151, -3.11795] | -0.2 | 0 | [20, 25, 30] | 20 | 20 | 10 |\n",
       "| 2022-02-14 at 20:25:14 UTC | 1 | 3 | 30 | 100 | 2.1 | 30 | 40 | 60 | 10 | ⋯ | 0 | 0 | 0 | [-1.17434, -1.54797, -1.92578, -2.3151, -3.11795] | -0.2 | 0 | [20, 25, 30] | 20 | 20 | 10 |\n",
       "| 2022-02-14 at 20:30:54 UTC | 1 | 4 | 30 | 100 | 2.1 | 30 | 40 | 60 | 10 | ⋯ | 0 | 0 | 0 | [-1.17434, -1.54797, -1.92578, -2.3151, -3.11795] | -0.2 | 0 | [20, 25, 30] | 20 | 20 | 10 |\n",
       "| 2022-02-14 at 20:36:35 UTC | 1 | 5 | 30 | 100 | 2.1 | 30 | 40 | 60 | 10 | ⋯ | 0 | 0 | 0 | [-1.17434, -1.54797, -1.92578, -2.3151, -3.11795] | -0.2 | 0 | [20, 25, 30] | 20 | 20 | 10 |\n",
       "| 2022-02-14 at 20:42:00 UTC | 1 | 6 | 30 | 100 | 2.1 | 30 | 40 | 60 | 10 | ⋯ | 0 | 0 | 0 | [-1.17434, -1.54797, -1.92578, -2.3151, -3.11795] | -0.2 | 0 | [20, 25, 30] | 20 | 20 | 10 |\n",
       "\n"
      ],
      "text/plain": [
       "  model_date                 iteration replicate counties people_per_county\n",
       "1 2022-02-14 at 20:13:48 UTC 1         1         30       100              \n",
       "2 2022-02-14 at 20:19:29 UTC 1         2         30       100              \n",
       "3 2022-02-14 at 20:25:14 UTC 1         3         30       100              \n",
       "4 2022-02-14 at 20:30:54 UTC 1         4         30       100              \n",
       "5 2022-02-14 at 20:36:35 UTC 1         5         30       100              \n",
       "6 2022-02-14 at 20:42:00 UTC 1         6         30       100              \n",
       "  fertility_adjustment max_generation mortality_cohort_size\n",
       "1 2.1                  30             40                   \n",
       "2 2.1                  30             40                   \n",
       "3 2.1                  30             40                   \n",
       "4 2.1                  30             40                   \n",
       "5 2.1                  30             40                   \n",
       "6 2.1                  30             40                   \n",
       "  income_mobility_cohort_size measurement_cohort_window <U+22EF>       \n",
       "1 60                          10                        <U+22EF>\n",
       "2 60                          10                        <U+22EF>\n",
       "3 60                          10                        <U+22EF>\n",
       "4 60                          10                        <U+22EF>\n",
       "5 60                          10                        <U+22EF>\n",
       "6 60                          10                        <U+22EF>\n",
       "  mortality_fake_exp_coeff smoking_rank_slope_exp_coeff\n",
       "1 0                        0                           \n",
       "2 0                        0                           \n",
       "3 0                        0                           \n",
       "4 0                        0                           \n",
       "5 0                        0                           \n",
       "6 0                        0                           \n",
       "  smoking_rank_slope_exp_coeff_se\n",
       "1 0                              \n",
       "2 0                              \n",
       "3 0                              \n",
       "4 0                              \n",
       "5 0                              \n",
       "6 0                              \n",
       "  smoking_income_coeff                              smoking_county_income_exp_z\n",
       "1 [-1.17434, -1.54797, -1.92578, -2.3151, -3.11795] -0.2                       \n",
       "2 [-1.17434, -1.54797, -1.92578, -2.3151, -3.11795] -0.2                       \n",
       "3 [-1.17434, -1.54797, -1.92578, -2.3151, -3.11795] -0.2                       \n",
       "4 [-1.17434, -1.54797, -1.92578, -2.3151, -3.11795] -0.2                       \n",
       "5 [-1.17434, -1.54797, -1.92578, -2.3151, -3.11795] -0.2                       \n",
       "6 [-1.17434, -1.54797, -1.92578, -2.3151, -3.11795] -0.2                       \n",
       "  smoking_parent_smk_coeff selected_generations county_export_since_generation\n",
       "1 0                        [20, 25, 30]         20                            \n",
       "2 0                        [20, 25, 30]         20                            \n",
       "3 0                        [20, 25, 30]         20                            \n",
       "4 0                        [20, 25, 30]         20                            \n",
       "5 0                        [20, 25, 30]         20                            \n",
       "6 0                        [20, 25, 30]         20                            \n",
       "  recurrent_time_county_data recurrent_heavy_computations\n",
       "1 20                         10                          \n",
       "2 20                         10                          \n",
       "3 20                         10                          \n",
       "4 20                         10                          \n",
       "5 20                         10                          \n",
       "6 20                         10                          "
      ]
     },
     "metadata": {},
     "output_type": "display_data"
    }
   ],
   "source": [
    "head(p)"
   ]
  },
  {
   "cell_type": "code",
   "execution_count": 7,
   "metadata": {},
   "outputs": [
    {
     "name": "stdout",
     "output_type": "stream",
     "text": [
      "character(0)\n"
     ]
    }
   ],
   "source": [
    "sp = varyingParameters(p, \"model_date\")\n",
    "parameters = names(sp)[!names(sp) %in% c(\"iteration\", \"replicate\")]\n",
    "print(parameters)"
   ]
  },
  {
   "cell_type": "code",
   "execution_count": 6,
   "metadata": {},
   "outputs": [],
   "source": [
    "# redefine iteration and replicate indexes\n",
    "# sp[, niteration := .GRP, by = parameters]\n",
    "# sp[, nreplicate := 1:.N, by = niteration]\n",
    "# np = sp[, c(\"iteration\", \"replicate\", \"niteration\", \"nreplicate\", parameters), with = FALSE]\n",
    "# m = merge(m, np, by = c(\"iteration\", \"replicate\"))\n",
    "# summary(np[niteration == 3, nreplicate])\n",
    "# unique(np[, c(\"niteration\", parameters), with = FALSE])"
   ]
  },
  {
   "cell_type": "code",
   "execution_count": 10,
   "metadata": {},
   "outputs": [
    {
     "data": {
      "text/html": [
       "78.2005980501178"
      ],
      "text/latex": [
       "78.2005980501178"
      ],
      "text/markdown": [
       "78.2005980501178"
      ],
      "text/plain": [
       "[1] 78.2006"
      ]
     },
     "metadata": {},
     "output_type": "display_data"
    }
   ],
   "source": [
    "mean(m[, age_death])"
   ]
  },
  {
   "cell_type": "markdown",
   "metadata": {},
   "source": [
    "# Exposure upward income mobility -> Mortality risk = 0.0, exposure until 18 years old\n",
    "\n",
    "To explore correlation of the data produced by the ABM: \n",
    "\n",
    "- `total_rank_slope_exposure` and `rank_slope_exposure18`: exposure measures of place's rank-rank slopes (relative mobility)\n",
    "- `income_group_mobility`: individual mobilityl, absolute value of (`income_group` - `parent_income_group`)\n",
    "- `total_z_income_exposure`: exposure of standardized income"
   ]
  },
  {
   "cell_type": "code",
   "execution_count": 8,
   "metadata": {},
   "outputs": [
    {
     "data": {
      "text/html": [
       "<style>\n",
       ".list-inline {list-style: none; margin:0; padding: 0}\n",
       ".list-inline>li {display: inline-block}\n",
       ".list-inline>li:not(:last-child)::after {content: \"\\00b7\"; padding: 0 .5ex}\n",
       "</style>\n",
       "<ol class=list-inline><li>'iteration'</li><li>'replicate'</li><li>'model_time'</li><li>'id'</li><li>'fertility_control'</li><li>'parent_id'</li><li>'generation'</li><li>'birthdate'</li><li>'age_death'</li><li>'income_group'</li><li>'income'</li><li>'parent_income_group'</li><li>'parent_income'</li><li>'rank'</li><li>'parent_rank_difference'</li><li>'income_group_mobility'</li><li>'county'</li><li>'nkids'</li><li>'nmoves'</li><li>'nmoves_kid'</li><li>'smoker'</li><li>'parent_smoker'</li><li>'county_mean_income'</li><li>'county_median_income'</li><li>'county_gini'</li><li>'county_rank_correlation'</li><li>'county_rank_slope'</li><li>'county_rank_absolute'</li><li>'total_rank_slope_exposure'</li><li>'rank_slope_exposure18'</li><li>'total_rank_absolute_exposure'</li><li>'rank_absolute_exposure18'</li><li>'total_rank_cor_exposure'</li><li>'rank_cor_exposure18'</li><li>'total_z_income_exposure'</li><li>'z_income_exposure30'</li></ol>\n"
      ],
      "text/latex": [
       "\\begin{enumerate*}\n",
       "\\item 'iteration'\n",
       "\\item 'replicate'\n",
       "\\item 'model\\_time'\n",
       "\\item 'id'\n",
       "\\item 'fertility\\_control'\n",
       "\\item 'parent\\_id'\n",
       "\\item 'generation'\n",
       "\\item 'birthdate'\n",
       "\\item 'age\\_death'\n",
       "\\item 'income\\_group'\n",
       "\\item 'income'\n",
       "\\item 'parent\\_income\\_group'\n",
       "\\item 'parent\\_income'\n",
       "\\item 'rank'\n",
       "\\item 'parent\\_rank\\_difference'\n",
       "\\item 'income\\_group\\_mobility'\n",
       "\\item 'county'\n",
       "\\item 'nkids'\n",
       "\\item 'nmoves'\n",
       "\\item 'nmoves\\_kid'\n",
       "\\item 'smoker'\n",
       "\\item 'parent\\_smoker'\n",
       "\\item 'county\\_mean\\_income'\n",
       "\\item 'county\\_median\\_income'\n",
       "\\item 'county\\_gini'\n",
       "\\item 'county\\_rank\\_correlation'\n",
       "\\item 'county\\_rank\\_slope'\n",
       "\\item 'county\\_rank\\_absolute'\n",
       "\\item 'total\\_rank\\_slope\\_exposure'\n",
       "\\item 'rank\\_slope\\_exposure18'\n",
       "\\item 'total\\_rank\\_absolute\\_exposure'\n",
       "\\item 'rank\\_absolute\\_exposure18'\n",
       "\\item 'total\\_rank\\_cor\\_exposure'\n",
       "\\item 'rank\\_cor\\_exposure18'\n",
       "\\item 'total\\_z\\_income\\_exposure'\n",
       "\\item 'z\\_income\\_exposure30'\n",
       "\\end{enumerate*}\n"
      ],
      "text/markdown": [
       "1. 'iteration'\n",
       "2. 'replicate'\n",
       "3. 'model_time'\n",
       "4. 'id'\n",
       "5. 'fertility_control'\n",
       "6. 'parent_id'\n",
       "7. 'generation'\n",
       "8. 'birthdate'\n",
       "9. 'age_death'\n",
       "10. 'income_group'\n",
       "11. 'income'\n",
       "12. 'parent_income_group'\n",
       "13. 'parent_income'\n",
       "14. 'rank'\n",
       "15. 'parent_rank_difference'\n",
       "16. 'income_group_mobility'\n",
       "17. 'county'\n",
       "18. 'nkids'\n",
       "19. 'nmoves'\n",
       "20. 'nmoves_kid'\n",
       "21. 'smoker'\n",
       "22. 'parent_smoker'\n",
       "23. 'county_mean_income'\n",
       "24. 'county_median_income'\n",
       "25. 'county_gini'\n",
       "26. 'county_rank_correlation'\n",
       "27. 'county_rank_slope'\n",
       "28. 'county_rank_absolute'\n",
       "29. 'total_rank_slope_exposure'\n",
       "30. 'rank_slope_exposure18'\n",
       "31. 'total_rank_absolute_exposure'\n",
       "32. 'rank_absolute_exposure18'\n",
       "33. 'total_rank_cor_exposure'\n",
       "34. 'rank_cor_exposure18'\n",
       "35. 'total_z_income_exposure'\n",
       "36. 'z_income_exposure30'\n",
       "\n",
       "\n"
      ],
      "text/plain": [
       " [1] \"iteration\"                    \"replicate\"                   \n",
       " [3] \"model_time\"                   \"id\"                          \n",
       " [5] \"fertility_control\"            \"parent_id\"                   \n",
       " [7] \"generation\"                   \"birthdate\"                   \n",
       " [9] \"age_death\"                    \"income_group\"                \n",
       "[11] \"income\"                       \"parent_income_group\"         \n",
       "[13] \"parent_income\"                \"rank\"                        \n",
       "[15] \"parent_rank_difference\"       \"income_group_mobility\"       \n",
       "[17] \"county\"                       \"nkids\"                       \n",
       "[19] \"nmoves\"                       \"nmoves_kid\"                  \n",
       "[21] \"smoker\"                       \"parent_smoker\"               \n",
       "[23] \"county_mean_income\"           \"county_median_income\"        \n",
       "[25] \"county_gini\"                  \"county_rank_correlation\"     \n",
       "[27] \"county_rank_slope\"            \"county_rank_absolute\"        \n",
       "[29] \"total_rank_slope_exposure\"    \"rank_slope_exposure18\"       \n",
       "[31] \"total_rank_absolute_exposure\" \"rank_absolute_exposure18\"    \n",
       "[33] \"total_rank_cor_exposure\"      \"rank_cor_exposure18\"         \n",
       "[35] \"total_z_income_exposure\"      \"z_income_exposure30\"         "
      ]
     },
     "metadata": {},
     "output_type": "display_data"
    }
   ],
   "source": [
    "names(m)"
   ]
  },
  {
   "cell_type": "code",
   "execution_count": 9,
   "metadata": {},
   "outputs": [
    {
     "data": {
      "text/html": [
       "78.2433973856016"
      ],
      "text/latex": [
       "78.2433973856016"
      ],
      "text/markdown": [
       "78.2433973856016"
      ],
      "text/plain": [
       "[1] 78.2434"
      ]
     },
     "metadata": {},
     "output_type": "display_data"
    }
   ],
   "source": [
    "t = copy(m)\n",
    "t[, lincome := logIncome(income)]\n",
    "t[, lcounty_income := logIncome(county_mean_income)]\n",
    "t[, lparent_income := logIncome(parent_income)]\n",
    "t[, status := 1] # there is no censoring\n",
    "# t[, individual_income_mobility := abs(income_group_mobility)]\n",
    "# t = t[age_death > 18]\n",
    "mean(t$age_death)"
   ]
  },
  {
   "cell_type": "code",
   "execution_count": 10,
   "metadata": {},
   "outputs": [
    {
     "data": {
      "text/html": [
       "<table class=\"dataframe\">\n",
       "<caption>A matrix: 9 × 9 of type dbl</caption>\n",
       "<thead>\n",
       "\t<tr><th></th><th scope=col>rank_absolute_exposure18</th><th scope=col>rank_slope_exposure18</th><th scope=col>county_rank_slope</th><th scope=col>county_rank_absolute</th><th scope=col>lincome</th><th scope=col>lparent_income</th><th scope=col>lcounty_income</th><th scope=col>age_death</th><th scope=col>total_z_income_exposure</th></tr>\n",
       "</thead>\n",
       "<tbody>\n",
       "\t<tr><th scope=row>rank_absolute_exposure18</th><td> 1.00000000</td><td>-0.422589842</td><td>-0.074610120</td><td> 0.38185603</td><td> 0.165305459</td><td>0.198423561</td><td> 0.355262707</td><td>0.032292585</td><td> 0.494220754</td></tr>\n",
       "\t<tr><th scope=row>rank_slope_exposure18</th><td>-0.42258984</td><td> 1.000000000</td><td> 0.105349028</td><td>-0.07604939</td><td>-0.009034334</td><td>0.008367936</td><td>-0.027376791</td><td>0.000491412</td><td>-0.005440631</td></tr>\n",
       "\t<tr><th scope=row>county_rank_slope</th><td>-0.07461012</td><td> 0.105349028</td><td> 1.000000000</td><td>-0.44863911</td><td> 0.018386076</td><td>0.005164088</td><td>-0.003157142</td><td>0.003132192</td><td> 0.007240271</td></tr>\n",
       "\t<tr><th scope=row>county_rank_absolute</th><td> 0.38185603</td><td>-0.076049386</td><td>-0.448639106</td><td> 1.00000000</td><td> 0.273318812</td><td>0.122779960</td><td> 0.667430614</td><td>0.036094493</td><td> 0.539151895</td></tr>\n",
       "\t<tr><th scope=row>lincome</th><td> 0.16530546</td><td>-0.009034334</td><td> 0.018386076</td><td> 0.27331881</td><td> 1.000000000</td><td>0.128581290</td><td> 0.378781122</td><td>0.024293927</td><td> 0.319685741</td></tr>\n",
       "\t<tr><th scope=row>lparent_income</th><td> 0.19842356</td><td> 0.008367936</td><td> 0.005164088</td><td> 0.12277996</td><td> 0.128581290</td><td>1.000000000</td><td> 0.163881781</td><td>0.014222177</td><td> 0.206034685</td></tr>\n",
       "\t<tr><th scope=row>lcounty_income</th><td> 0.35526271</td><td>-0.027376791</td><td>-0.003157142</td><td> 0.66743061</td><td> 0.378781122</td><td>0.163881781</td><td> 1.000000000</td><td>0.055114929</td><td> 0.818067388</td></tr>\n",
       "\t<tr><th scope=row>age_death</th><td> 0.03229258</td><td> 0.000491412</td><td> 0.003132192</td><td> 0.03609449</td><td> 0.024293927</td><td>0.014222177</td><td> 0.055114929</td><td>1.000000000</td><td> 0.077444006</td></tr>\n",
       "\t<tr><th scope=row>total_z_income_exposure</th><td> 0.49422075</td><td>-0.005440631</td><td> 0.007240271</td><td> 0.53915189</td><td> 0.319685741</td><td>0.206034685</td><td> 0.818067388</td><td>0.077444006</td><td> 1.000000000</td></tr>\n",
       "</tbody>\n",
       "</table>\n"
      ],
      "text/latex": [
       "A matrix: 9 × 9 of type dbl\n",
       "\\begin{tabular}{r|lllllllll}\n",
       "  & rank\\_absolute\\_exposure18 & rank\\_slope\\_exposure18 & county\\_rank\\_slope & county\\_rank\\_absolute & lincome & lparent\\_income & lcounty\\_income & age\\_death & total\\_z\\_income\\_exposure\\\\\n",
       "\\hline\n",
       "\trank\\_absolute\\_exposure18 &  1.00000000 & -0.422589842 & -0.074610120 &  0.38185603 &  0.165305459 & 0.198423561 &  0.355262707 & 0.032292585 &  0.494220754\\\\\n",
       "\trank\\_slope\\_exposure18 & -0.42258984 &  1.000000000 &  0.105349028 & -0.07604939 & -0.009034334 & 0.008367936 & -0.027376791 & 0.000491412 & -0.005440631\\\\\n",
       "\tcounty\\_rank\\_slope & -0.07461012 &  0.105349028 &  1.000000000 & -0.44863911 &  0.018386076 & 0.005164088 & -0.003157142 & 0.003132192 &  0.007240271\\\\\n",
       "\tcounty\\_rank\\_absolute &  0.38185603 & -0.076049386 & -0.448639106 &  1.00000000 &  0.273318812 & 0.122779960 &  0.667430614 & 0.036094493 &  0.539151895\\\\\n",
       "\tlincome &  0.16530546 & -0.009034334 &  0.018386076 &  0.27331881 &  1.000000000 & 0.128581290 &  0.378781122 & 0.024293927 &  0.319685741\\\\\n",
       "\tlparent\\_income &  0.19842356 &  0.008367936 &  0.005164088 &  0.12277996 &  0.128581290 & 1.000000000 &  0.163881781 & 0.014222177 &  0.206034685\\\\\n",
       "\tlcounty\\_income &  0.35526271 & -0.027376791 & -0.003157142 &  0.66743061 &  0.378781122 & 0.163881781 &  1.000000000 & 0.055114929 &  0.818067388\\\\\n",
       "\tage\\_death &  0.03229258 &  0.000491412 &  0.003132192 &  0.03609449 &  0.024293927 & 0.014222177 &  0.055114929 & 1.000000000 &  0.077444006\\\\\n",
       "\ttotal\\_z\\_income\\_exposure &  0.49422075 & -0.005440631 &  0.007240271 &  0.53915189 &  0.319685741 & 0.206034685 &  0.818067388 & 0.077444006 &  1.000000000\\\\\n",
       "\\end{tabular}\n"
      ],
      "text/markdown": [
       "\n",
       "A matrix: 9 × 9 of type dbl\n",
       "\n",
       "| <!--/--> | rank_absolute_exposure18 | rank_slope_exposure18 | county_rank_slope | county_rank_absolute | lincome | lparent_income | lcounty_income | age_death | total_z_income_exposure |\n",
       "|---|---|---|---|---|---|---|---|---|---|\n",
       "| rank_absolute_exposure18 |  1.00000000 | -0.422589842 | -0.074610120 |  0.38185603 |  0.165305459 | 0.198423561 |  0.355262707 | 0.032292585 |  0.494220754 |\n",
       "| rank_slope_exposure18 | -0.42258984 |  1.000000000 |  0.105349028 | -0.07604939 | -0.009034334 | 0.008367936 | -0.027376791 | 0.000491412 | -0.005440631 |\n",
       "| county_rank_slope | -0.07461012 |  0.105349028 |  1.000000000 | -0.44863911 |  0.018386076 | 0.005164088 | -0.003157142 | 0.003132192 |  0.007240271 |\n",
       "| county_rank_absolute |  0.38185603 | -0.076049386 | -0.448639106 |  1.00000000 |  0.273318812 | 0.122779960 |  0.667430614 | 0.036094493 |  0.539151895 |\n",
       "| lincome |  0.16530546 | -0.009034334 |  0.018386076 |  0.27331881 |  1.000000000 | 0.128581290 |  0.378781122 | 0.024293927 |  0.319685741 |\n",
       "| lparent_income |  0.19842356 |  0.008367936 |  0.005164088 |  0.12277996 |  0.128581290 | 1.000000000 |  0.163881781 | 0.014222177 |  0.206034685 |\n",
       "| lcounty_income |  0.35526271 | -0.027376791 | -0.003157142 |  0.66743061 |  0.378781122 | 0.163881781 |  1.000000000 | 0.055114929 |  0.818067388 |\n",
       "| age_death |  0.03229258 |  0.000491412 |  0.003132192 |  0.03609449 |  0.024293927 | 0.014222177 |  0.055114929 | 1.000000000 |  0.077444006 |\n",
       "| total_z_income_exposure |  0.49422075 | -0.005440631 |  0.007240271 |  0.53915189 |  0.319685741 | 0.206034685 |  0.818067388 | 0.077444006 |  1.000000000 |\n",
       "\n"
      ],
      "text/plain": [
       "                         rank_absolute_exposure18 rank_slope_exposure18\n",
       "rank_absolute_exposure18  1.00000000              -0.422589842         \n",
       "rank_slope_exposure18    -0.42258984               1.000000000         \n",
       "county_rank_slope        -0.07461012               0.105349028         \n",
       "county_rank_absolute      0.38185603              -0.076049386         \n",
       "lincome                   0.16530546              -0.009034334         \n",
       "lparent_income            0.19842356               0.008367936         \n",
       "lcounty_income            0.35526271              -0.027376791         \n",
       "age_death                 0.03229258               0.000491412         \n",
       "total_z_income_exposure   0.49422075              -0.005440631         \n",
       "                         county_rank_slope county_rank_absolute lincome     \n",
       "rank_absolute_exposure18 -0.074610120       0.38185603           0.165305459\n",
       "rank_slope_exposure18     0.105349028      -0.07604939          -0.009034334\n",
       "county_rank_slope         1.000000000      -0.44863911           0.018386076\n",
       "county_rank_absolute     -0.448639106       1.00000000           0.273318812\n",
       "lincome                   0.018386076       0.27331881           1.000000000\n",
       "lparent_income            0.005164088       0.12277996           0.128581290\n",
       "lcounty_income           -0.003157142       0.66743061           0.378781122\n",
       "age_death                 0.003132192       0.03609449           0.024293927\n",
       "total_z_income_exposure   0.007240271       0.53915189           0.319685741\n",
       "                         lparent_income lcounty_income age_death  \n",
       "rank_absolute_exposure18 0.198423561     0.355262707   0.032292585\n",
       "rank_slope_exposure18    0.008367936    -0.027376791   0.000491412\n",
       "county_rank_slope        0.005164088    -0.003157142   0.003132192\n",
       "county_rank_absolute     0.122779960     0.667430614   0.036094493\n",
       "lincome                  0.128581290     0.378781122   0.024293927\n",
       "lparent_income           1.000000000     0.163881781   0.014222177\n",
       "lcounty_income           0.163881781     1.000000000   0.055114929\n",
       "age_death                0.014222177     0.055114929   1.000000000\n",
       "total_z_income_exposure  0.206034685     0.818067388   0.077444006\n",
       "                         total_z_income_exposure\n",
       "rank_absolute_exposure18  0.494220754           \n",
       "rank_slope_exposure18    -0.005440631           \n",
       "county_rank_slope         0.007240271           \n",
       "county_rank_absolute      0.539151895           \n",
       "lincome                   0.319685741           \n",
       "lparent_income            0.206034685           \n",
       "lcounty_income            0.818067388           \n",
       "age_death                 0.077444006           \n",
       "total_z_income_exposure   1.000000000           "
      ]
     },
     "metadata": {},
     "output_type": "display_data"
    }
   ],
   "source": [
    "cor(t[, .(rank_absolute_exposure18, rank_slope_exposure18, county_rank_slope, county_rank_absolute, lincome, lparent_income,\n",
    "    lcounty_income, age_death, total_z_income_exposure)])"
   ]
  },
  {
   "cell_type": "code",
   "execution_count": 11,
   "metadata": {},
   "outputs": [
    {
     "name": "stdout",
     "output_type": "stream",
     "text": [
      "\n",
      "============================================================================================\n",
      "                          Model 1          Model 2          Model 3          Model 4        \n",
      "--------------------------------------------------------------------------------------------\n",
      "rank_absolute_exposure18        -0.82 ***        -0.66 ***        -0.42 ***         0.05    \n",
      "                                (0.03)           (0.03)           (0.03)           (0.03)   \n",
      "as.factor(income_group)2                         -0.02 ***         0.01             0.01    \n",
      "                                                 (0.00)           (0.00)           (0.00)   \n",
      "as.factor(income_group)3                         -0.03 ***         0.00             0.01    \n",
      "                                                 (0.00)           (0.00)           (0.00)   \n",
      "as.factor(income_group)4                         -0.05 ***         0.00             0.01 *  \n",
      "                                                 (0.00)           (0.00)           (0.00)   \n",
      "as.factor(income_group)5                         -0.10 ***        -0.02 **          0.02 ***\n",
      "                                                 (0.00)           (0.01)           (0.00)   \n",
      "lcounty_income                                                    -0.12 ***                 \n",
      "                                                                  (0.00)                    \n",
      "total_z_income_exposure                                                            -0.12 ***\n",
      "                                                                                   (0.00)   \n",
      "--------------------------------------------------------------------------------------------\n",
      "AIC                       13184833.09      13184170.33      13183300.79      13181582.52    \n",
      "R^2                              0.00             0.00             0.00             0.01    \n",
      "Max. R^2                         1.00             1.00             1.00             1.00    \n",
      "Num. events                 540392           540392           540392           540392       \n",
      "Num. obs.                   540392           540392           540392           540392       \n",
      "Missings                         0                0                0                0       \n",
      "PH test                          0.13             0.80             0.62             0.00    \n",
      "============================================================================================\n",
      "*** p < 0.001; ** p < 0.01; * p < 0.05\n"
     ]
    }
   ],
   "source": [
    "m1 = coxph(Surv(age_death, status) ~ rank_absolute_exposure18, data =t)\n",
    "m2 = coxph(Surv(age_death, status) ~ rank_absolute_exposure18 + as.factor(income_group), data = t)\n",
    "m3 = coxph(Surv(age_death, status) ~ rank_absolute_exposure18 +  as.factor(income_group) + lcounty_income, data = t)\n",
    "m4 = coxph(Surv(age_death, status) ~ rank_absolute_exposure18 + as.factor(income_group) + total_z_income_exposure, data = t)\n",
    "cat(screenreg(list(m1, m2, m3, m4)))"
   ]
  },
  {
   "cell_type": "code",
   "execution_count": 16,
   "metadata": {},
   "outputs": [
    {
     "name": "stdout",
     "output_type": "stream",
     "text": [
      "\n",
      "=====================================================================================\n",
      "                          Model 1      Model 2         Model 3         Model 4       \n",
      "-------------------------------------------------------------------------------------\n",
      "rank_slope_exposure18           0.01        -0.00           -0.02           -0.00    \n",
      "                               (0.02)       (0.02)          (0.02)          (0.02)   \n",
      "as.factor(income_group)2                    -0.02 ***        0.01            0.01 *  \n",
      "                                            (0.00)          (0.00)          (0.00)   \n",
      "as.factor(income_group)3                    -0.04 ***       -0.00            0.01    \n",
      "                                            (0.00)          (0.01)          (0.00)   \n",
      "as.factor(income_group)4                    -0.07 ***       -0.00            0.01    \n",
      "                                            (0.00)          (0.01)          (0.01)   \n",
      "as.factor(income_group)5                    -0.13 ***       -0.02 ***        0.02 ** \n",
      "                                            (0.00)          (0.01)          (0.01)   \n",
      "lcounty_income                                              -0.13 ***                \n",
      "                                                            (0.00)                   \n",
      "total_z_income_exposure                                                     -0.11 ***\n",
      "                                                                            (0.00)   \n",
      "-------------------------------------------------------------------------------------\n",
      "AIC                       9570302.59   9569519.82      9568695.62      9567270.08    \n",
      "R^2                             0.00         0.00            0.00            0.01    \n",
      "Max. R^2                        1.00         1.00            1.00            1.00    \n",
      "Num. events                401973       401973          401973          401973       \n",
      "Num. obs.                  401973       401973          401973          401973       \n",
      "Missings                        0            0               0               0       \n",
      "PH test                         0.07         0.28            0.08            0.00    \n",
      "=====================================================================================\n",
      "*** p < 0.001; ** p < 0.01; * p < 0.05\n"
     ]
    }
   ],
   "source": [
    "m1 = coxph(Surv(age_death, status) ~ rank_slope_exposure18, data =t)\n",
    "m2 = coxph(Surv(age_death, status) ~ rank_slope_exposure18 + as.factor(income_group), data = t)\n",
    "m3 = coxph(Surv(age_death, status) ~ rank_slope_exposure18 + as.factor(income_group) + lcounty_income, data = t)\n",
    "m4 = coxph(Surv(age_death, status) ~ rank_slope_exposure18 + as.factor(income_group) + total_z_income_exposure, data = t)\n",
    "cat(screenreg(list(m1, m2, m3, m4)))"
   ]
  }
 ],
 "metadata": {
  "interpreter": {
   "hash": "ecf5722fdaf1897a315d257d89d94520bfcaa453217d5becf09b39e73618b0de"
  },
  "kernelspec": {
   "display_name": "R",
   "language": "R",
   "name": "ir"
  },
  "language_info": {
   "codemirror_mode": "r",
   "file_extension": ".r",
   "mimetype": "text/x-r-source",
   "name": "R",
   "pygments_lexer": "r",
   "version": "4.1.2"
  },
  "orig_nbformat": 4
 },
 "nbformat": 4,
 "nbformat_minor": 2
}
