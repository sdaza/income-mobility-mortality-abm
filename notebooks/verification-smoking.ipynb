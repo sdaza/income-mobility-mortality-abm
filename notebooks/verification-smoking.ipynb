{
 "cells": [
  {
   "cell_type": "markdown",
   "metadata": {},
   "source": [
    "# Smoking prevelance\n",
    "\n",
    "- Parameter variation `VerificationSmoking` in Anylogic"
   ]
  },
  {
   "cell_type": "code",
   "execution_count": 188,
   "metadata": {},
   "outputs": [],
   "source": [
    "library(data.table)\n",
    "library(xtable)\n",
    "source(\"../src/utils.R\")"
   ]
  },
  {
   "cell_type": "code",
   "execution_count": 189,
   "metadata": {},
   "outputs": [],
   "source": [
    "# read data files\n",
    "m = fread(\"../output/data/mortality-verification-smoking.csv\")\n",
    "p = fread(\"../output/data/parameters-verification-smoking.csv\")\n",
    "e = fread(\"../output/data/environment-verification-smoking.csv\")"
   ]
  },
  {
   "cell_type": "code",
   "execution_count": 190,
   "metadata": {},
   "outputs": [],
   "source": [
    "# select parameters of interest\n",
    "parameters = c(\"smoking_rank_slope_exp_coeff\")\n",
    "setorderv(p, parameters)\n",
    "\n",
    "# redefine iteration and replicate indexes\n",
    "p[, niteration := .GRP, by = parameters]\n",
    "p[, nreplicate := 1:.N, by = niteration]\n",
    "np = p[, c(\"iteration\", \"replicate\", \"niteration\", \"nreplicate\", parameters), with = FALSE]"
   ]
  },
  {
   "cell_type": "code",
   "execution_count": 191,
   "metadata": {},
   "outputs": [],
   "source": [
    "# environment data\n",
    "\n",
    "# create columns from arrays\n",
    "vars = paste0(\"income\", 1:5)\n",
    "e = extractColumns(e, \"prop_income_group\", vars)\n",
    "vars = paste0(\"le\", 1:5)\n",
    "e = extractColumns(e, \"le_income_group\",  vars)\n",
    "vars = paste0(\"smoking\",  1:5)\n",
    "e = extractColumns(e, \"smoking_income_group\",  vars)\n",
    "\n",
    "# merge files\n",
    "e = merge(e, np, by = c(\"iteration\", \"replicate\"))\n",
    "setorderv(e, parameters)"
   ]
  },
  {
   "cell_type": "code",
   "execution_count": 192,
   "metadata": {},
   "outputs": [],
   "source": [
    "\n",
    "# create tables with distributions\n",
    "nhis = readRDS(\"../output/data/smoking_dist_nhis2019.rds\")\n",
    "s = melt(e, id.vars = c(\"niteration\", \"nreplicate\"), measure.vars = patterns(\"^smoking[0-9]\"), \n",
    "    value.name = \"smoking_prop\", variable.name = \"income_group\")\n"
   ]
  },
  {
   "cell_type": "code",
   "execution_count": 193,
   "metadata": {},
   "outputs": [
    {
     "name": "stdout",
     "output_type": "stream",
     "text": [
      "[1] \"Population no-treatment 8154\"\n",
      "[1] \"Population treatment 8156\"\n"
     ]
    }
   ],
   "source": [
    "print(paste(\"Population no-treatment\", round(mean(e[niteration == 1, population]), 0)))\n",
    "print(paste(\"Population treatment\", round(mean(e[niteration == 2, population]), 0)))\n",
    "\n",
    "cf = s[niteration == 1, .(smoking_prop_cf = mean(smoking_prop)), income_group]\n",
    "cf[, income_group := as.numeric(gsub(\"[a-z]+\", \"\", income_group))]\n",
    "cf = rbind(cf, data.table(income_group = 9, smoking_prop_cf  = mean(e[niteration == 1, smokers])))\n",
    "\n",
    "trt = s[niteration == 2, .(smoking_prop_trt = mean(smoking_prop)), income_group]\n",
    "trt[, income_group := as.numeric(gsub(\"[a-z]+\", \"\", income_group))]\n",
    "trt = rbind(trt, data.table(income_group = 9, smoking_prop_trt  = mean(e[niteration == 2, smokers])))\n"
   ]
  },
  {
   "cell_type": "code",
   "execution_count": 194,
   "metadata": {},
   "outputs": [
    {
     "name": "stdout",
     "output_type": "stream",
     "text": [
      "% latex table generated in R 4.1.0 by xtable 1.8-4 package\n",
      "% Sun Jan 16 16:10:09 2022\n",
      "\\begin{table}[htp]\n",
      "\\centering\n",
      "\\caption{Proportion smoking by income quintile} \n",
      "\\begin{tabular}{rrrr}\n",
      "  \\hline\n",
      "Income quintile & NHIS 2019 & MIA non-treatment & MIA treatment \\\\ \n",
      "  \\hline\n",
      "1.00 & 0.29 & 0.22 & 0.30 \\\\ \n",
      "  2.00 & 0.22 & 0.16 & 0.22 \\\\ \n",
      "  3.00 & 0.16 & 0.11 & 0.16 \\\\ \n",
      "  4.00 & 0.11 & 0.08 & 0.11 \\\\ \n",
      "  5.00 & 0.05 & 0.03 & 0.05 \\\\ \n",
      "  9.00 & 0.17 & 0.12 & 0.16 \\\\ \n",
      "   \\hline\n",
      "\\end{tabular}\n",
      "\\end{table}\n"
     ]
    }
   ],
   "source": [
    "tab = Reduce(function(...) merge(..., all = TRUE, by = \"income_group\"), list(nhis, cf, trt))\n",
    "setnames(tab, names(tab), \n",
    "    c(\"Income quintile\" , \"NHIS 2019\", \"MIA non-treatment\", \"MIA treatment\"))\n",
    "\n",
    "# latex table \n",
    "print(xtable(tab,\n",
    "    caption = \"Proportion smoking by income quintile\"),\n",
    "    table.placement = \"htp\",\n",
    "    caption.placement = \"top\",\n",
    "    include.rownames  = FALSE\n",
    ")"
   ]
  },
  {
   "cell_type": "code",
   "execution_count": 185,
   "metadata": {},
   "outputs": [
    {
     "data": {
      "text/html": [
       "<table class=\"dataframe\">\n",
       "<caption>A data.table: 5 × 2</caption>\n",
       "<thead>\n",
       "\t<tr><th scope=col>income_group</th><th scope=col>le</th></tr>\n",
       "\t<tr><th scope=col>&lt;int&gt;</th><th scope=col>&lt;dbl&gt;</th></tr>\n",
       "</thead>\n",
       "<tbody>\n",
       "\t<tr><td>1</td><td>75.84344</td></tr>\n",
       "\t<tr><td>2</td><td>77.29613</td></tr>\n",
       "\t<tr><td>3</td><td>78.69346</td></tr>\n",
       "\t<tr><td>4</td><td>79.90480</td></tr>\n",
       "\t<tr><td>5</td><td>81.89833</td></tr>\n",
       "</tbody>\n",
       "</table>\n"
      ],
      "text/latex": [
       "A data.table: 5 × 2\n",
       "\\begin{tabular}{ll}\n",
       " income\\_group & le\\\\\n",
       " <int> & <dbl>\\\\\n",
       "\\hline\n",
       "\t 1 & 75.84344\\\\\n",
       "\t 2 & 77.29613\\\\\n",
       "\t 3 & 78.69346\\\\\n",
       "\t 4 & 79.90480\\\\\n",
       "\t 5 & 81.89833\\\\\n",
       "\\end{tabular}\n"
      ],
      "text/markdown": [
       "\n",
       "A data.table: 5 × 2\n",
       "\n",
       "| income_group &lt;int&gt; | le &lt;dbl&gt; |\n",
       "|---|---|\n",
       "| 1 | 75.84344 |\n",
       "| 2 | 77.29613 |\n",
       "| 3 | 78.69346 |\n",
       "| 4 | 79.90480 |\n",
       "| 5 | 81.89833 |\n",
       "\n"
      ],
      "text/plain": [
       "  income_group le      \n",
       "1 1            75.84344\n",
       "2 2            77.29613\n",
       "3 3            78.69346\n",
       "4 4            79.90480\n",
       "5 5            81.89833"
      ]
     },
     "metadata": {},
     "output_type": "display_data"
    }
   ],
   "source": [
    "# le by smoking \n",
    "l = m[age > 40, .(le = mean(age)), .(smoker, income_group)]\n",
    "setorder(l, income_group, smoker)\n",
    "sl = m[age > 40, .(le = mean(age)), income_group]\n",
    "setorder(sl, income_group)\n",
    "sl"
   ]
  },
  {
   "cell_type": "code",
   "execution_count": 173,
   "metadata": {},
   "outputs": [],
   "source": [
    "m = merge(m, np, by = c(\"iteration\", \"replicate\"))\n"
   ]
  },
  {
   "cell_type": "code",
   "execution_count": 187,
   "metadata": {},
   "outputs": [
    {
     "data": {
      "text/html": [
       "<table class=\"dataframe\">\n",
       "<caption>A data.table: 2 × 2</caption>\n",
       "<thead>\n",
       "\t<tr><th scope=col>niteration</th><th scope=col>le</th></tr>\n",
       "\t<tr><th scope=col>&lt;int&gt;</th><th scope=col>&lt;dbl&gt;</th></tr>\n",
       "</thead>\n",
       "<tbody>\n",
       "\t<tr><td>1</td><td>76.54328</td></tr>\n",
       "\t<tr><td>2</td><td>75.98216</td></tr>\n",
       "</tbody>\n",
       "</table>\n"
      ],
      "text/latex": [
       "A data.table: 2 × 2\n",
       "\\begin{tabular}{ll}\n",
       " niteration & le\\\\\n",
       " <int> & <dbl>\\\\\n",
       "\\hline\n",
       "\t 1 & 76.54328\\\\\n",
       "\t 2 & 75.98216\\\\\n",
       "\\end{tabular}\n"
      ],
      "text/markdown": [
       "\n",
       "A data.table: 2 × 2\n",
       "\n",
       "| niteration &lt;int&gt; | le &lt;dbl&gt; |\n",
       "|---|---|\n",
       "| 1 | 76.54328 |\n",
       "| 2 | 75.98216 |\n",
       "\n"
      ],
      "text/plain": [
       "  niteration le      \n",
       "1 1          76.54328\n",
       "2 2          75.98216"
      ]
     },
     "metadata": {},
     "output_type": "display_data"
    },
    {
     "data": {
      "text/html": [
       "<table class=\"dataframe\">\n",
       "<caption>A data.table: 2 × 2</caption>\n",
       "<thead>\n",
       "\t<tr><th scope=col>niteration</th><th scope=col>le</th></tr>\n",
       "\t<tr><th scope=col>&lt;int&gt;</th><th scope=col>&lt;dbl&gt;</th></tr>\n",
       "</thead>\n",
       "<tbody>\n",
       "\t<tr><td>1</td><td>80.23798</td></tr>\n",
       "\t<tr><td>2</td><td>79.81572</td></tr>\n",
       "</tbody>\n",
       "</table>\n"
      ],
      "text/latex": [
       "A data.table: 2 × 2\n",
       "\\begin{tabular}{ll}\n",
       " niteration & le\\\\\n",
       " <int> & <dbl>\\\\\n",
       "\\hline\n",
       "\t 1 & 80.23798\\\\\n",
       "\t 2 & 79.81572\\\\\n",
       "\\end{tabular}\n"
      ],
      "text/markdown": [
       "\n",
       "A data.table: 2 × 2\n",
       "\n",
       "| niteration &lt;int&gt; | le &lt;dbl&gt; |\n",
       "|---|---|\n",
       "| 1 | 80.23798 |\n",
       "| 2 | 79.81572 |\n",
       "\n"
      ],
      "text/plain": [
       "  niteration le      \n",
       "1 1          80.23798\n",
       "2 2          79.81572"
      ]
     },
     "metadata": {},
     "output_type": "display_data"
    },
    {
     "data": {
      "text/html": [
       "<table class=\"dataframe\">\n",
       "<caption>A data.table: 2 × 2</caption>\n",
       "<thead>\n",
       "\t<tr><th scope=col>niteration</th><th scope=col>le</th></tr>\n",
       "\t<tr><th scope=col>&lt;int&gt;</th><th scope=col>&lt;dbl&gt;</th></tr>\n",
       "</thead>\n",
       "<tbody>\n",
       "\t<tr><td>1</td><td>14.96036</td></tr>\n",
       "\t<tr><td>2</td><td>14.72121</td></tr>\n",
       "</tbody>\n",
       "</table>\n"
      ],
      "text/latex": [
       "A data.table: 2 × 2\n",
       "\\begin{tabular}{ll}\n",
       " niteration & le\\\\\n",
       " <int> & <dbl>\\\\\n",
       "\\hline\n",
       "\t 1 & 14.96036\\\\\n",
       "\t 2 & 14.72121\\\\\n",
       "\\end{tabular}\n"
      ],
      "text/markdown": [
       "\n",
       "A data.table: 2 × 2\n",
       "\n",
       "| niteration &lt;int&gt; | le &lt;dbl&gt; |\n",
       "|---|---|\n",
       "| 1 | 14.96036 |\n",
       "| 2 | 14.72121 |\n",
       "\n"
      ],
      "text/plain": [
       "  niteration le      \n",
       "1 1          14.96036\n",
       "2 2          14.72121"
      ]
     },
     "metadata": {},
     "output_type": "display_data"
    }
   ],
   "source": [
    "m[, .(le = mean(age)), niteration]\n",
    "m[age > 50, .(le = mean(age)), niteration]\n",
    "m[age < 30, .(le = mean(age)), niteration]\n",
    "\n"
   ]
  },
  {
   "cell_type": "code",
   "execution_count": 182,
   "metadata": {},
   "outputs": [
    {
     "data": {
      "text/html": [
       "10.7923709062873"
      ],
      "text/latex": [
       "10.7923709062873"
      ],
      "text/markdown": [
       "10.7923709062873"
      ],
      "text/plain": [
       "[1] 10.79237"
      ]
     },
     "metadata": {},
     "output_type": "display_data"
    },
    {
     "data": {
      "text/html": [
       "0.231417854523272"
      ],
      "text/latex": [
       "0.231417854523272"
      ],
      "text/markdown": [
       "0.231417854523272"
      ],
      "text/plain": [
       "[1] 0.2314179"
      ]
     },
     "metadata": {},
     "output_type": "display_data"
    },
    {
     "data": {
      "text/html": [
       "0.897295324617104"
      ],
      "text/latex": [
       "0.897295324617104"
      ],
      "text/markdown": [
       "0.897295324617104"
      ],
      "text/plain": [
       "[1] 0.8972953"
      ]
     },
     "metadata": {},
     "output_type": "display_data"
    }
   ],
   "source": [
    "diff(m[, .(le = mean(age)), .(smoker)]$le[c(2, 1)])\n",
    "\n",
    "# exploring some values\n",
    "a = mean(e[niteration == 1, le5])\n",
    "b = mean(e[niteration == 2, le5])\n",
    "a - b\n",
    "\n",
    "a = mean(e[niteration == 1, le1])\n",
    "b = mean(e[niteration == 2, le1])\n",
    "a - b"
   ]
  },
  {
   "cell_type": "markdown",
   "metadata": {},
   "source": [
    "# Income measures"
   ]
  },
  {
   "cell_type": "code",
   "execution_count": 212,
   "metadata": {},
   "outputs": [],
   "source": [
    "inc = fread(\"../models/MobHealthRecycling/output/testing/income-1-1.csv\")\n",
    "inc[, kid_income := gsub(\"\\\\[|\\\\]\", \"\", kid_income)]\n",
    "inc[, parent_income := gsub(\"\\\\[|\\\\]\", \"\", parent_income)]\n",
    "sinc = inc[, .(kid = as.numeric(unlist(strsplit(kid_income, ','))), \n",
    "    parent = as.numeric(unlist(strsplit(parent_income, ',')))), \n",
    "    by = .(model_time, county)]\n",
    "sinc = merge(sinc, \n",
    "    inc[, .(model_time, county, rank_slope, rank_absolute, rank_correlation, cohort_size )], \n",
    "    by = c(\"county\", \"model_time\"))"
   ]
  },
  {
   "cell_type": "code",
   "execution_count": 213,
   "metadata": {},
   "outputs": [
    {
     "data": {
      "text/html": [
       "<table class=\"dataframe\">\n",
       "<caption>A data.table: 6 × 8</caption>\n",
       "<thead>\n",
       "\t<tr><th scope=col>county</th><th scope=col>model_time</th><th scope=col>kid</th><th scope=col>parent</th><th scope=col>rank_slope</th><th scope=col>rank_absolute</th><th scope=col>rank_correlation</th><th scope=col>cohort_size</th></tr>\n",
       "\t<tr><th scope=col>&lt;int&gt;</th><th scope=col>&lt;dbl&gt;</th><th scope=col>&lt;dbl&gt;</th><th scope=col>&lt;dbl&gt;</th><th scope=col>&lt;dbl&gt;</th><th scope=col>&lt;dbl&gt;</th><th scope=col>&lt;dbl&gt;</th><th scope=col>&lt;dbl&gt;</th></tr>\n",
       "</thead>\n",
       "<tbody>\n",
       "\t<tr><td>19</td><td>169</td><td>180000</td><td> 66300</td><td>0.3047226</td><td>0.4260768</td><td>0.3047053</td><td>154</td></tr>\n",
       "\t<tr><td>19</td><td>169</td><td>  4030</td><td> 33000</td><td>0.3047226</td><td>0.4260768</td><td>0.3047053</td><td>154</td></tr>\n",
       "\t<tr><td>19</td><td>169</td><td>200600</td><td>100400</td><td>0.3047226</td><td>0.4260768</td><td>0.3047053</td><td>154</td></tr>\n",
       "\t<tr><td>19</td><td>169</td><td>102000</td><td> 38900</td><td>0.3047226</td><td>0.4260768</td><td>0.3047053</td><td>154</td></tr>\n",
       "\t<tr><td>19</td><td>169</td><td> 47700</td><td>269700</td><td>0.3047226</td><td>0.4260768</td><td>0.3047053</td><td>154</td></tr>\n",
       "\t<tr><td>19</td><td>169</td><td>167000</td><td>120000</td><td>0.3047226</td><td>0.4260768</td><td>0.3047053</td><td>154</td></tr>\n",
       "</tbody>\n",
       "</table>\n"
      ],
      "text/latex": [
       "A data.table: 6 × 8\n",
       "\\begin{tabular}{llllllll}\n",
       " county & model\\_time & kid & parent & rank\\_slope & rank\\_absolute & rank\\_correlation & cohort\\_size\\\\\n",
       " <int> & <dbl> & <dbl> & <dbl> & <dbl> & <dbl> & <dbl> & <dbl>\\\\\n",
       "\\hline\n",
       "\t 19 & 169 & 180000 &  66300 & 0.3047226 & 0.4260768 & 0.3047053 & 154\\\\\n",
       "\t 19 & 169 &   4030 &  33000 & 0.3047226 & 0.4260768 & 0.3047053 & 154\\\\\n",
       "\t 19 & 169 & 200600 & 100400 & 0.3047226 & 0.4260768 & 0.3047053 & 154\\\\\n",
       "\t 19 & 169 & 102000 &  38900 & 0.3047226 & 0.4260768 & 0.3047053 & 154\\\\\n",
       "\t 19 & 169 &  47700 & 269700 & 0.3047226 & 0.4260768 & 0.3047053 & 154\\\\\n",
       "\t 19 & 169 & 167000 & 120000 & 0.3047226 & 0.4260768 & 0.3047053 & 154\\\\\n",
       "\\end{tabular}\n"
      ],
      "text/markdown": [
       "\n",
       "A data.table: 6 × 8\n",
       "\n",
       "| county &lt;int&gt; | model_time &lt;dbl&gt; | kid &lt;dbl&gt; | parent &lt;dbl&gt; | rank_slope &lt;dbl&gt; | rank_absolute &lt;dbl&gt; | rank_correlation &lt;dbl&gt; | cohort_size &lt;dbl&gt; |\n",
       "|---|---|---|---|---|---|---|---|\n",
       "| 19 | 169 | 180000 |  66300 | 0.3047226 | 0.4260768 | 0.3047053 | 154 |\n",
       "| 19 | 169 |   4030 |  33000 | 0.3047226 | 0.4260768 | 0.3047053 | 154 |\n",
       "| 19 | 169 | 200600 | 100400 | 0.3047226 | 0.4260768 | 0.3047053 | 154 |\n",
       "| 19 | 169 | 102000 |  38900 | 0.3047226 | 0.4260768 | 0.3047053 | 154 |\n",
       "| 19 | 169 |  47700 | 269700 | 0.3047226 | 0.4260768 | 0.3047053 | 154 |\n",
       "| 19 | 169 | 167000 | 120000 | 0.3047226 | 0.4260768 | 0.3047053 | 154 |\n",
       "\n"
      ],
      "text/plain": [
       "  county model_time kid    parent rank_slope rank_absolute rank_correlation\n",
       "1 19     169        180000  66300 0.3047226  0.4260768     0.3047053       \n",
       "2 19     169          4030  33000 0.3047226  0.4260768     0.3047053       \n",
       "3 19     169        200600 100400 0.3047226  0.4260768     0.3047053       \n",
       "4 19     169        102000  38900 0.3047226  0.4260768     0.3047053       \n",
       "5 19     169         47700 269700 0.3047226  0.4260768     0.3047053       \n",
       "6 19     169        167000 120000 0.3047226  0.4260768     0.3047053       \n",
       "  cohort_size\n",
       "1 154        \n",
       "2 154        \n",
       "3 154        \n",
       "4 154        \n",
       "5 154        \n",
       "6 154        "
      ]
     },
     "metadata": {},
     "output_type": "display_data"
    }
   ],
   "source": [
    "head(sinc)"
   ]
  },
  {
   "cell_type": "code",
   "execution_count": 215,
   "metadata": {},
   "outputs": [],
   "source": [
    "sinc[, kid_rank := perc.rank(kid), .(model_time)]\n",
    "sinc[, parent_rank := perc.rank(parent), .(model_time)]\n",
    "\n",
    "reg = function(kid_income, parent_income, relative = TRUE) {\n",
    "    m = lm(kid_income ~ parent_income)\n",
    "    c = coef(m)\n",
    "    if (relative) { return(c[2])}\n",
    "    else {\n",
    "        return (c[1]  + 0.25 * c[2])\n",
    "    }\n",
    "}\n",
    "\n",
    "sinc[, spearman := cor(kid, parent, method = \"spearman\"), model_time]\n",
    "sinc[, cor_rank := cor(kid_rank, parent_rank), model_time]\n",
    "sinc[, im := reg(kid_rank, parent_rank, TRUE), model_time]\n",
    "sinc[, am := reg(kid_rank, parent_rank, FALSE), model_time]\n",
    "sinc[, order := 1:.N, model_time]\n",
    "sinc = sinc[order == 1]\n"
   ]
  },
  {
   "cell_type": "code",
   "execution_count": 216,
   "metadata": {},
   "outputs": [
    {
     "data": {
      "text/plain": [
       "      Min.    1st Qu.     Median       Mean    3rd Qu.       Max. \n",
       "-0.0013498 -0.0009692 -0.0005325 -0.0004825 -0.0002743  0.0013390 "
      ]
     },
     "metadata": {},
     "output_type": "display_data"
    },
    {
     "data": {
      "text/plain": [
       "      Min.    1st Qu.     Median       Mean    3rd Qu.       Max. \n",
       "-0.0005836 -0.0001081  0.0001567  0.0001576  0.0003648  0.0007455 "
      ]
     },
     "metadata": {},
     "output_type": "display_data"
    },
    {
     "data": {
      "text/plain": [
       "                   Min.                 1st Qu.                  Median \n",
       "-0.00000000000000033307 -0.00000000000000011102  0.00000000000000000000 \n",
       "                   Mean                 3rd Qu.                    Max. \n",
       "-0.00000000000000001883  0.00000000000000006245  0.00000000000000027756 "
      ]
     },
     "metadata": {},
     "output_type": "display_data"
    },
    {
     "data": {
      "text/plain": [
       "      Min.    1st Qu.     Median       Mean    3rd Qu.       Max. \n",
       "-0.0008707 -0.0006046 -0.0003101 -0.0001794  0.0001855  0.0011307 "
      ]
     },
     "metadata": {},
     "output_type": "display_data"
    }
   ],
   "source": [
    "summary(sinc$rank_slope - sinc$im)\n",
    "summary(sinc$rank_absolute - sinc$am)\n",
    "summary(sinc$rank_correlation - sinc$spearman)\n",
    "summary(sinc$rank_correlation - sinc$cor_rank)"
   ]
  },
  {
   "cell_type": "code",
   "execution_count": 217,
   "metadata": {},
   "outputs": [
    {
     "data": {
      "text/html": [
       "0.999948162896446"
      ],
      "text/latex": [
       "0.999948162896446"
      ],
      "text/markdown": [
       "0.999948162896446"
      ],
      "text/plain": [
       "[1] 0.9999482"
      ]
     },
     "metadata": {},
     "output_type": "display_data"
    },
    {
     "data": {
      "text/html": [
       "0.999867955293377"
      ],
      "text/latex": [
       "0.999867955293377"
      ],
      "text/markdown": [
       "0.999867955293377"
      ],
      "text/plain": [
       "[1] 0.999868"
      ]
     },
     "metadata": {},
     "output_type": "display_data"
    },
    {
     "data": {
      "text/html": [
       "1"
      ],
      "text/latex": [
       "1"
      ],
      "text/markdown": [
       "1"
      ],
      "text/plain": [
       "[1] 1"
      ]
     },
     "metadata": {},
     "output_type": "display_data"
    },
    {
     "data": {
      "text/html": [
       "0.999965387455135"
      ],
      "text/latex": [
       "0.999965387455135"
      ],
      "text/markdown": [
       "0.999965387455135"
      ],
      "text/plain": [
       "[1] 0.9999654"
      ]
     },
     "metadata": {},
     "output_type": "display_data"
    }
   ],
   "source": [
    "cor(sinc$rank_slope, sinc$im)\n",
    "cor(sinc$rank_absolute, sinc$am)\n",
    "cor(sinc$rank_correlation, sinc$spearman)\n",
    "cor(sinc$rank_correlation, sinc$cor_rank)"
   ]
  }
 ],
 "metadata": {
  "interpreter": {
   "hash": "ecf5722fdaf1897a315d257d89d94520bfcaa453217d5becf09b39e73618b0de"
  },
  "kernelspec": {
   "display_name": "R",
   "language": "R",
   "name": "ir"
  },
  "language_info": {
   "codemirror_mode": "r",
   "file_extension": ".r",
   "mimetype": "text/x-r-source",
   "name": "R",
   "pygments_lexer": "r",
   "version": "4.1.0"
  },
  "orig_nbformat": 4
 },
 "nbformat": 4,
 "nbformat_minor": 2
}
