{
 "cells": [
  {
   "cell_type": "markdown",
   "metadata": {},
   "source": [
    "# Smoking prevelance verification"
   ]
  },
  {
   "cell_type": "code",
   "execution_count": 23,
   "metadata": {},
   "outputs": [],
   "source": [
    "library(data.table)\n",
    "library(xtable)\n",
    "source(\"../src/utils.R\")"
   ]
  },
  {
   "cell_type": "code",
   "execution_count": 40,
   "metadata": {},
   "outputs": [],
   "source": [
    "# read data files\n",
    "m = fread(\"../output/data/mortality-verification-smoking.csv\")\n",
    "p = fread(\"../output/data/parameters-verification-smoking.csv\")\n",
    "e = fread(\"../output/data/environment-verification-smoking.csv\")"
   ]
  },
  {
   "cell_type": "code",
   "execution_count": 41,
   "metadata": {},
   "outputs": [
    {
     "data": {
      "text/html": [
       "<style>\n",
       ".list-inline {list-style: none; margin:0; padding: 0}\n",
       ".list-inline>li {display: inline-block}\n",
       ".list-inline>li:not(:last-child)::after {content: \"\\00b7\"; padding: 0 .5ex}\n",
       "</style>\n",
       "<ol class=list-inline><li>60</li><li>34</li></ol>\n"
      ],
      "text/latex": [
       "\\begin{enumerate*}\n",
       "\\item 60\n",
       "\\item 34\n",
       "\\end{enumerate*}\n"
      ],
      "text/markdown": [
       "1. 60\n",
       "2. 34\n",
       "\n",
       "\n"
      ],
      "text/plain": [
       "[1] 60 34"
      ]
     },
     "metadata": {},
     "output_type": "display_data"
    }
   ],
   "source": [
    "# select parameters of interest\n",
    "parameters = c(\"smoking_rank_slope_exp_coeff\")\n",
    "setorderv(p, parameters)\n",
    "\n",
    "# redefine iteration and replicate indexes\n",
    "dim(p)\n",
    "p[, niteration := .GRP, by = parameters]\n",
    "p[, nreplicate := 1:.N, by = niteration]\n",
    "np = p[, c(\"iteration\", \"replicate\", \"niteration\", \"nreplicate\", parameters), with = FALSE]"
   ]
  },
  {
   "cell_type": "code",
   "execution_count": 42,
   "metadata": {},
   "outputs": [
    {
     "data": {
      "text/html": [
       "<style>\n",
       ".list-inline {list-style: none; margin:0; padding: 0}\n",
       ".list-inline>li {display: inline-block}\n",
       ".list-inline>li:not(:last-child)::after {content: \"\\00b7\"; padding: 0 .5ex}\n",
       "</style>\n",
       "<ol class=list-inline><li>'iteration'</li><li>'replicate'</li><li>'model_time'</li><li>'id'</li><li>'parent_id'</li><li>'generation'</li><li>'birthdate'</li><li>'age'</li><li>'income_group'</li><li>'income'</li><li>'parent_income_group'</li><li>'parent_income'</li><li>'county'</li><li>'nkids'</li><li>'nmoves'</li><li>'nmoves_kid'</li><li>'smoker'</li><li>'parent_smoker'</li><li>'county_mean_income'</li><li>'county_median_income'</li><li>'county_gini'</li><li>'county_rank_correlation'</li><li>'county_rank_slope'</li><li>'total_rank_slope_exposure'</li><li>'rank_slope_exposure18'</li><li>'total_rank_cor_exposure'</li><li>'total_z_income_exposure'</li><li>'z_income_exposure30'</li></ol>\n"
      ],
      "text/latex": [
       "\\begin{enumerate*}\n",
       "\\item 'iteration'\n",
       "\\item 'replicate'\n",
       "\\item 'model\\_time'\n",
       "\\item 'id'\n",
       "\\item 'parent\\_id'\n",
       "\\item 'generation'\n",
       "\\item 'birthdate'\n",
       "\\item 'age'\n",
       "\\item 'income\\_group'\n",
       "\\item 'income'\n",
       "\\item 'parent\\_income\\_group'\n",
       "\\item 'parent\\_income'\n",
       "\\item 'county'\n",
       "\\item 'nkids'\n",
       "\\item 'nmoves'\n",
       "\\item 'nmoves\\_kid'\n",
       "\\item 'smoker'\n",
       "\\item 'parent\\_smoker'\n",
       "\\item 'county\\_mean\\_income'\n",
       "\\item 'county\\_median\\_income'\n",
       "\\item 'county\\_gini'\n",
       "\\item 'county\\_rank\\_correlation'\n",
       "\\item 'county\\_rank\\_slope'\n",
       "\\item 'total\\_rank\\_slope\\_exposure'\n",
       "\\item 'rank\\_slope\\_exposure18'\n",
       "\\item 'total\\_rank\\_cor\\_exposure'\n",
       "\\item 'total\\_z\\_income\\_exposure'\n",
       "\\item 'z\\_income\\_exposure30'\n",
       "\\end{enumerate*}\n"
      ],
      "text/markdown": [
       "1. 'iteration'\n",
       "2. 'replicate'\n",
       "3. 'model_time'\n",
       "4. 'id'\n",
       "5. 'parent_id'\n",
       "6. 'generation'\n",
       "7. 'birthdate'\n",
       "8. 'age'\n",
       "9. 'income_group'\n",
       "10. 'income'\n",
       "11. 'parent_income_group'\n",
       "12. 'parent_income'\n",
       "13. 'county'\n",
       "14. 'nkids'\n",
       "15. 'nmoves'\n",
       "16. 'nmoves_kid'\n",
       "17. 'smoker'\n",
       "18. 'parent_smoker'\n",
       "19. 'county_mean_income'\n",
       "20. 'county_median_income'\n",
       "21. 'county_gini'\n",
       "22. 'county_rank_correlation'\n",
       "23. 'county_rank_slope'\n",
       "24. 'total_rank_slope_exposure'\n",
       "25. 'rank_slope_exposure18'\n",
       "26. 'total_rank_cor_exposure'\n",
       "27. 'total_z_income_exposure'\n",
       "28. 'z_income_exposure30'\n",
       "\n",
       "\n"
      ],
      "text/plain": [
       " [1] \"iteration\"                 \"replicate\"                \n",
       " [3] \"model_time\"                \"id\"                       \n",
       " [5] \"parent_id\"                 \"generation\"               \n",
       " [7] \"birthdate\"                 \"age\"                      \n",
       " [9] \"income_group\"              \"income\"                   \n",
       "[11] \"parent_income_group\"       \"parent_income\"            \n",
       "[13] \"county\"                    \"nkids\"                    \n",
       "[15] \"nmoves\"                    \"nmoves_kid\"               \n",
       "[17] \"smoker\"                    \"parent_smoker\"            \n",
       "[19] \"county_mean_income\"        \"county_median_income\"     \n",
       "[21] \"county_gini\"               \"county_rank_correlation\"  \n",
       "[23] \"county_rank_slope\"         \"total_rank_slope_exposure\"\n",
       "[25] \"rank_slope_exposure18\"     \"total_rank_cor_exposure\"  \n",
       "[27] \"total_z_income_exposure\"   \"z_income_exposure30\"      "
      ]
     },
     "metadata": {},
     "output_type": "display_data"
    }
   ],
   "source": [
    "names(m)"
   ]
  },
  {
   "cell_type": "code",
   "execution_count": 43,
   "metadata": {},
   "outputs": [],
   "source": [
    "# environment data\n",
    "\n",
    "# create columns from arrays\n",
    "vars = paste0(\"income\", 1:5)\n",
    "e = extractColumns(e, \"prop_income_group\", vars)\n",
    "vars = paste0(\"le\", 1:5)\n",
    "e = extractColumns(e, \"le_income_group\",  vars)\n",
    "vars = paste0(\"smoking\",  1:5)\n",
    "e = extractColumns(e, \"smoking_income_group\",  vars)\n",
    "\n",
    "# merge files\n",
    "e = merge(e, np, by = c(\"iteration\", \"replicate\"))\n",
    "setorderv(e, parameters)"
   ]
  },
  {
   "cell_type": "code",
   "execution_count": 50,
   "metadata": {},
   "outputs": [],
   "source": [
    "\n",
    "# create tables with distributions\n",
    "nhis = readRDS(\"../output/data/smoking_dist_nhis2019.rds\")\n",
    "setnames(nhis, \"incomeType\", \"income_group\")\n",
    "s = melt(e, id.vars = c(\"niteration\", \"nreplicate\"), measure.vars = patterns(\"^smoking[0-9]\"), \n",
    "    value.name = \"smoking_prop\", variable.name = \"income_group\")\n"
   ]
  },
  {
   "cell_type": "code",
   "execution_count": 51,
   "metadata": {},
   "outputs": [
    {
     "data": {
      "text/html": [
       "8154.53094462541"
      ],
      "text/latex": [
       "8154.53094462541"
      ],
      "text/markdown": [
       "8154.53094462541"
      ],
      "text/plain": [
       "[1] 8154.531"
      ]
     },
     "metadata": {},
     "output_type": "display_data"
    },
    {
     "data": {
      "text/html": [
       "8151.46928104575"
      ],
      "text/latex": [
       "8151.46928104575"
      ],
      "text/markdown": [
       "8151.46928104575"
      ],
      "text/plain": [
       "[1] 8151.469"
      ]
     },
     "metadata": {},
     "output_type": "display_data"
    }
   ],
   "source": [
    "mean(e[niteration == 1, population])\n",
    "mean(e[niteration == 2, population])\n",
    "\n",
    "cf = s[niteration == 1, .(smoking_prop_cf = mean(smoking_prop)), income_group]\n",
    "cf[, income_group := as.numeric(gsub(\"[a-z]+\", \"\", income_group))]\n",
    "cf = rbind(cf, data.table(income_group = 9, smoking_prop_cf  = mean(e[niteration == 1, smokers])))\n",
    "\n",
    "trt = s[niteration == 2, .(smoking_prop_trt = mean(smoking_prop)), income_group]\n",
    "trt[, income_group := as.numeric(gsub(\"[a-z]+\", \"\", income_group))]\n",
    "trt = rbind(trt, data.table(income_group = 9, smoking_prop_trt  = mean(e[niteration == 2, smokers])))\n"
   ]
  },
  {
   "cell_type": "code",
   "execution_count": 52,
   "metadata": {},
   "outputs": [
    {
     "name": "stdout",
     "output_type": "stream",
     "text": [
      "% latex table generated in R 4.1.0 by xtable 1.8-4 package\n",
      "% Fri Jan 14 23:05:21 2022\n",
      "\\begin{table}[htp]\n",
      "\\centering\n",
      "\\caption{Proportion smoking by income quintile} \n",
      "\\begin{tabular}{rrrr}\n",
      "  \\hline\n",
      "Income quintile & NHIS 2019 & MIA non-treatment & MIA treatment \\\\ \n",
      "  \\hline\n",
      "1.00 & 0.29 & 0.20 & 0.27 \\\\ \n",
      "  2.00 & 0.22 & 0.15 & 0.20 \\\\ \n",
      "  3.00 & 0.16 & 0.09 & 0.13 \\\\ \n",
      "  4.00 & 0.11 & 0.06 & 0.09 \\\\ \n",
      "  5.00 & 0.05 & 0.03 & 0.04 \\\\ \n",
      "  9.00 & 0.17 & 0.10 & 0.14 \\\\ \n",
      "   \\hline\n",
      "\\end{tabular}\n",
      "\\end{table}\n"
     ]
    }
   ],
   "source": [
    "tab = Reduce(function(...) merge(..., all = TRUE, by = \"income_group\"), list(nhis, cf, trt))\n",
    "setnames(tab, names(tab), \n",
    "    c(\"Income quintile\" , \"NHIS 2019\", \"MIA non-treatment\", \"MIA treatment\"))\n",
    "\n",
    "# latex table \n",
    "print(xtable(tab,\n",
    "    caption = \"Proportion smoking by income quintile\"),\n",
    "    table.placement = \"htp\",\n",
    "    caption.placement = \"top\",\n",
    "    include.rownames  = FALSE\n",
    ")"
   ]
  },
  {
   "cell_type": "code",
   "execution_count": 62,
   "metadata": {},
   "outputs": [
    {
     "data": {
      "text/html": [
       "<table class=\"dataframe\">\n",
       "<caption>A data.table: 5 × 2</caption>\n",
       "<thead>\n",
       "\t<tr><th scope=col>income_group</th><th scope=col>V1</th></tr>\n",
       "\t<tr><th scope=col>&lt;int&gt;</th><th scope=col>&lt;dbl&gt;</th></tr>\n",
       "</thead>\n",
       "<tbody>\n",
       "\t<tr><td>4</td><td>78.04452</td></tr>\n",
       "\t<tr><td>5</td><td>79.95197</td></tr>\n",
       "\t<tr><td>3</td><td>76.50718</td></tr>\n",
       "\t<tr><td>2</td><td>74.67351</td></tr>\n",
       "\t<tr><td>1</td><td>72.96279</td></tr>\n",
       "</tbody>\n",
       "</table>\n"
      ],
      "text/latex": [
       "A data.table: 5 × 2\n",
       "\\begin{tabular}{ll}\n",
       " income\\_group & V1\\\\\n",
       " <int> & <dbl>\\\\\n",
       "\\hline\n",
       "\t 4 & 78.04452\\\\\n",
       "\t 5 & 79.95197\\\\\n",
       "\t 3 & 76.50718\\\\\n",
       "\t 2 & 74.67351\\\\\n",
       "\t 1 & 72.96279\\\\\n",
       "\\end{tabular}\n"
      ],
      "text/markdown": [
       "\n",
       "A data.table: 5 × 2\n",
       "\n",
       "| income_group &lt;int&gt; | V1 &lt;dbl&gt; |\n",
       "|---|---|\n",
       "| 4 | 78.04452 |\n",
       "| 5 | 79.95197 |\n",
       "| 3 | 76.50718 |\n",
       "| 2 | 74.67351 |\n",
       "| 1 | 72.96279 |\n",
       "\n"
      ],
      "text/plain": [
       "  income_group V1      \n",
       "1 4            78.04452\n",
       "2 5            79.95197\n",
       "3 3            76.50718\n",
       "4 2            74.67351\n",
       "5 1            72.96279"
      ]
     },
     "metadata": {},
     "output_type": "display_data"
    },
    {
     "data": {
      "text/html": [
       "<table class=\"dataframe\">\n",
       "<caption>A data.table: 2 × 2</caption>\n",
       "<thead>\n",
       "\t<tr><th scope=col>smoker</th><th scope=col>V1</th></tr>\n",
       "\t<tr><th scope=col>&lt;lgl&gt;</th><th scope=col>&lt;dbl&gt;</th></tr>\n",
       "</thead>\n",
       "<tbody>\n",
       "\t<tr><td>FALSE</td><td>78.17560</td></tr>\n",
       "\t<tr><td> TRUE</td><td>67.25669</td></tr>\n",
       "</tbody>\n",
       "</table>\n"
      ],
      "text/latex": [
       "A data.table: 2 × 2\n",
       "\\begin{tabular}{ll}\n",
       " smoker & V1\\\\\n",
       " <lgl> & <dbl>\\\\\n",
       "\\hline\n",
       "\t FALSE & 78.17560\\\\\n",
       "\t  TRUE & 67.25669\\\\\n",
       "\\end{tabular}\n"
      ],
      "text/markdown": [
       "\n",
       "A data.table: 2 × 2\n",
       "\n",
       "| smoker &lt;lgl&gt; | V1 &lt;dbl&gt; |\n",
       "|---|---|\n",
       "| FALSE | 78.17560 |\n",
       "|  TRUE | 67.25669 |\n",
       "\n"
      ],
      "text/plain": [
       "  smoker V1      \n",
       "1 FALSE  78.17560\n",
       "2  TRUE  67.25669"
      ]
     },
     "metadata": {},
     "output_type": "display_data"
    },
    {
     "data": {
      "text/html": [
       "-10.9189013690079"
      ],
      "text/latex": [
       "-10.9189013690079"
      ],
      "text/markdown": [
       "-10.9189013690079"
      ],
      "text/plain": [
       "[1] -10.9189"
      ]
     },
     "metadata": {},
     "output_type": "display_data"
    },
    {
     "data": {
      "text/html": [
       "-0.214268183699232"
      ],
      "text/latex": [
       "-0.214268183699232"
      ],
      "text/markdown": [
       "-0.214268183699232"
      ],
      "text/plain": [
       "[1] -0.2142682"
      ]
     },
     "metadata": {},
     "output_type": "display_data"
    },
    {
     "data": {
      "text/html": [
       "-0.821187931897441"
      ],
      "text/latex": [
       "-0.821187931897441"
      ],
      "text/markdown": [
       "-0.821187931897441"
      ],
      "text/plain": [
       "[1] -0.8211879"
      ]
     },
     "metadata": {},
     "output_type": "display_data"
    }
   ],
   "source": [
    "# le by smoking \n",
    "l = m[, .(le = mean(age)), .(smoker, income_group)]\n",
    "setorder(l, income_group, smoker)\n",
    "\n",
    "m[, mean(age), income_group]\n",
    "m[, mean(age), smoker]\n",
    "\n",
    "\n",
    "diff(m[, .(le = mean(age)), .(smoker)]$le)\n",
    "\n",
    "# exploring some values\n",
    "a = mean(e[niteration == 1, le5])\n",
    "b = mean(e[niteration == 2, le5])\n",
    "b - a\n",
    "\n",
    "a = mean(e[niteration == 1, le1])\n",
    "b = mean(e[niteration == 2, le1])\n",
    "b- a"
   ]
  },
  {
   "cell_type": "code",
   "execution_count": 208,
   "metadata": {},
   "outputs": [],
   "source": [
    "t = ag[id == sid, .(id, age, prob_income_group, prob_transition, time_exposure, final_transition_probs)]\n",
    "t[, prob_income_group := gsub(\"\\\\[|\\\\]\", \"\", prob_income_group)]\n",
    "t[, prob_transition := gsub(\"\\\\[|\\\\]\", \"\", prob_transition)]\n",
    "t[, paste0(\"i\", 1:5) := tstrsplit(prob_income_group, \",\", fixed = TRUE)]\n",
    "t[, paste0(\"t\", 1:5) := tstrsplit(prob_transition, \",\", fixed = TRUE)]\n",
    "vars = c(paste0(\"i\", 1:5), paste0(\"t\", 1:5))\n",
    "t[, (vars) := lapply(.SD, as.numeric), .SDcols = vars]"
   ]
  },
  {
   "cell_type": "code",
   "execution_count": 209,
   "metadata": {},
   "outputs": [
    {
     "data": {
      "text/html": [
       "1"
      ],
      "text/latex": [
       "1"
      ],
      "text/markdown": [
       "1"
      ],
      "text/plain": [
       "[1] 1"
      ]
     },
     "metadata": {},
     "output_type": "display_data"
    },
    {
     "data": {
      "text/html": [
       "<style>\n",
       ".list-inline {list-style: none; margin:0; padding: 0}\n",
       ".list-inline>li {display: inline-block}\n",
       ".list-inline>li:not(:last-child)::after {content: \"\\00b7\"; padding: 0 .5ex}\n",
       "</style>\n",
       "<ol class=list-inline><li>0.144</li><li>0.16</li><li>0.203</li><li>0.238</li><li>0.255</li></ol>\n"
      ],
      "text/latex": [
       "\\begin{enumerate*}\n",
       "\\item 0.144\n",
       "\\item 0.16\n",
       "\\item 0.203\n",
       "\\item 0.238\n",
       "\\item 0.255\n",
       "\\end{enumerate*}\n"
      ],
      "text/markdown": [
       "1. 0.144\n",
       "2. 0.16\n",
       "3. 0.203\n",
       "4. 0.238\n",
       "5. 0.255\n",
       "\n",
       "\n"
      ],
      "text/plain": [
       "[1] 0.144 0.160 0.203 0.238 0.255"
      ]
     },
     "metadata": {},
     "output_type": "display_data"
    }
   ],
   "source": [
    "check = as.numeric(tstrsplit(gsub(\"\\\\[|\\\\]\", \"\", tail(t, 1)[, .(final_transition_probs)]), \",\", fixed = TRUE))\n",
    "sum(check)\n",
    "check"
   ]
  },
  {
   "cell_type": "code",
   "execution_count": 211,
   "metadata": {},
   "outputs": [
    {
     "name": "stdout",
     "output_type": "stream",
     "text": [
      "[1] \"Difference group 1: 0\"\n",
      "[1] \"Difference group 2: 0\"\n",
      "[1] \"Difference group 3: 0\"\n",
      "[1] \"Difference group 4: 0\"\n",
      "[1] \"Difference group 5: 0\"\n"
     ]
    }
   ],
   "source": [
    "# t[, check1 := apply(.SD, 1, mean), .SDcols = c(\"i2\", \"t2\")]\n",
    "for (i in 1:5) {\n",
    "    w = 0.0\n",
    "    t[, check1 := (get(paste0(\"i\", i)) * w + get(paste0(\"t\", i)) * (1-w))]\n",
    "    print(\n",
    "        paste0(\"Difference group \", i, \": \", \n",
    "            t[time_exposure > 0, weighted.mean(check1, time_exposure)] - check[i]\n",
    "        )\n",
    "    )\n",
    "}"
   ]
  },
  {
   "cell_type": "markdown",
   "metadata": {},
   "source": [
    "# Income measures"
   ]
  },
  {
   "cell_type": "code",
   "execution_count": 212,
   "metadata": {},
   "outputs": [],
   "source": [
    "inc = fread(\"../models/MobHealthRecycling/output/testing/income-1-1.csv\")\n",
    "inc[, kid_income := gsub(\"\\\\[|\\\\]\", \"\", kid_income)]\n",
    "inc[, parent_income := gsub(\"\\\\[|\\\\]\", \"\", parent_income)]\n",
    "sinc = inc[, .(kid = as.numeric(unlist(strsplit(kid_income, ','))), \n",
    "    parent = as.numeric(unlist(strsplit(parent_income, ',')))), \n",
    "    by = .(model_time, county)]\n",
    "sinc = merge(sinc, \n",
    "    inc[, .(model_time, county, rank_slope, rank_absolute, rank_correlation, cohort_size )], \n",
    "    by = c(\"county\", \"model_time\"))"
   ]
  },
  {
   "cell_type": "code",
   "execution_count": 213,
   "metadata": {},
   "outputs": [
    {
     "data": {
      "text/html": [
       "<table class=\"dataframe\">\n",
       "<caption>A data.table: 6 × 8</caption>\n",
       "<thead>\n",
       "\t<tr><th scope=col>county</th><th scope=col>model_time</th><th scope=col>kid</th><th scope=col>parent</th><th scope=col>rank_slope</th><th scope=col>rank_absolute</th><th scope=col>rank_correlation</th><th scope=col>cohort_size</th></tr>\n",
       "\t<tr><th scope=col>&lt;int&gt;</th><th scope=col>&lt;dbl&gt;</th><th scope=col>&lt;dbl&gt;</th><th scope=col>&lt;dbl&gt;</th><th scope=col>&lt;dbl&gt;</th><th scope=col>&lt;dbl&gt;</th><th scope=col>&lt;dbl&gt;</th><th scope=col>&lt;dbl&gt;</th></tr>\n",
       "</thead>\n",
       "<tbody>\n",
       "\t<tr><td>19</td><td>169</td><td>180000</td><td> 66300</td><td>0.3047226</td><td>0.4260768</td><td>0.3047053</td><td>154</td></tr>\n",
       "\t<tr><td>19</td><td>169</td><td>  4030</td><td> 33000</td><td>0.3047226</td><td>0.4260768</td><td>0.3047053</td><td>154</td></tr>\n",
       "\t<tr><td>19</td><td>169</td><td>200600</td><td>100400</td><td>0.3047226</td><td>0.4260768</td><td>0.3047053</td><td>154</td></tr>\n",
       "\t<tr><td>19</td><td>169</td><td>102000</td><td> 38900</td><td>0.3047226</td><td>0.4260768</td><td>0.3047053</td><td>154</td></tr>\n",
       "\t<tr><td>19</td><td>169</td><td> 47700</td><td>269700</td><td>0.3047226</td><td>0.4260768</td><td>0.3047053</td><td>154</td></tr>\n",
       "\t<tr><td>19</td><td>169</td><td>167000</td><td>120000</td><td>0.3047226</td><td>0.4260768</td><td>0.3047053</td><td>154</td></tr>\n",
       "</tbody>\n",
       "</table>\n"
      ],
      "text/latex": [
       "A data.table: 6 × 8\n",
       "\\begin{tabular}{llllllll}\n",
       " county & model\\_time & kid & parent & rank\\_slope & rank\\_absolute & rank\\_correlation & cohort\\_size\\\\\n",
       " <int> & <dbl> & <dbl> & <dbl> & <dbl> & <dbl> & <dbl> & <dbl>\\\\\n",
       "\\hline\n",
       "\t 19 & 169 & 180000 &  66300 & 0.3047226 & 0.4260768 & 0.3047053 & 154\\\\\n",
       "\t 19 & 169 &   4030 &  33000 & 0.3047226 & 0.4260768 & 0.3047053 & 154\\\\\n",
       "\t 19 & 169 & 200600 & 100400 & 0.3047226 & 0.4260768 & 0.3047053 & 154\\\\\n",
       "\t 19 & 169 & 102000 &  38900 & 0.3047226 & 0.4260768 & 0.3047053 & 154\\\\\n",
       "\t 19 & 169 &  47700 & 269700 & 0.3047226 & 0.4260768 & 0.3047053 & 154\\\\\n",
       "\t 19 & 169 & 167000 & 120000 & 0.3047226 & 0.4260768 & 0.3047053 & 154\\\\\n",
       "\\end{tabular}\n"
      ],
      "text/markdown": [
       "\n",
       "A data.table: 6 × 8\n",
       "\n",
       "| county &lt;int&gt; | model_time &lt;dbl&gt; | kid &lt;dbl&gt; | parent &lt;dbl&gt; | rank_slope &lt;dbl&gt; | rank_absolute &lt;dbl&gt; | rank_correlation &lt;dbl&gt; | cohort_size &lt;dbl&gt; |\n",
       "|---|---|---|---|---|---|---|---|\n",
       "| 19 | 169 | 180000 |  66300 | 0.3047226 | 0.4260768 | 0.3047053 | 154 |\n",
       "| 19 | 169 |   4030 |  33000 | 0.3047226 | 0.4260768 | 0.3047053 | 154 |\n",
       "| 19 | 169 | 200600 | 100400 | 0.3047226 | 0.4260768 | 0.3047053 | 154 |\n",
       "| 19 | 169 | 102000 |  38900 | 0.3047226 | 0.4260768 | 0.3047053 | 154 |\n",
       "| 19 | 169 |  47700 | 269700 | 0.3047226 | 0.4260768 | 0.3047053 | 154 |\n",
       "| 19 | 169 | 167000 | 120000 | 0.3047226 | 0.4260768 | 0.3047053 | 154 |\n",
       "\n"
      ],
      "text/plain": [
       "  county model_time kid    parent rank_slope rank_absolute rank_correlation\n",
       "1 19     169        180000  66300 0.3047226  0.4260768     0.3047053       \n",
       "2 19     169          4030  33000 0.3047226  0.4260768     0.3047053       \n",
       "3 19     169        200600 100400 0.3047226  0.4260768     0.3047053       \n",
       "4 19     169        102000  38900 0.3047226  0.4260768     0.3047053       \n",
       "5 19     169         47700 269700 0.3047226  0.4260768     0.3047053       \n",
       "6 19     169        167000 120000 0.3047226  0.4260768     0.3047053       \n",
       "  cohort_size\n",
       "1 154        \n",
       "2 154        \n",
       "3 154        \n",
       "4 154        \n",
       "5 154        \n",
       "6 154        "
      ]
     },
     "metadata": {},
     "output_type": "display_data"
    }
   ],
   "source": [
    "head(sinc)"
   ]
  },
  {
   "cell_type": "code",
   "execution_count": 215,
   "metadata": {},
   "outputs": [],
   "source": [
    "sinc[, kid_rank := perc.rank(kid), .(model_time)]\n",
    "sinc[, parent_rank := perc.rank(parent), .(model_time)]\n",
    "\n",
    "reg = function(kid_income, parent_income, relative = TRUE) {\n",
    "    m = lm(kid_income ~ parent_income)\n",
    "    c = coef(m)\n",
    "    if (relative) { return(c[2])}\n",
    "    else {\n",
    "        return (c[1]  + 0.25 * c[2])\n",
    "    }\n",
    "}\n",
    "\n",
    "sinc[, spearman := cor(kid, parent, method = \"spearman\"), model_time]\n",
    "sinc[, cor_rank := cor(kid_rank, parent_rank), model_time]\n",
    "sinc[, im := reg(kid_rank, parent_rank, TRUE), model_time]\n",
    "sinc[, am := reg(kid_rank, parent_rank, FALSE), model_time]\n",
    "sinc[, order := 1:.N, model_time]\n",
    "sinc = sinc[order == 1]\n"
   ]
  },
  {
   "cell_type": "code",
   "execution_count": 216,
   "metadata": {},
   "outputs": [
    {
     "data": {
      "text/plain": [
       "      Min.    1st Qu.     Median       Mean    3rd Qu.       Max. \n",
       "-0.0013498 -0.0009692 -0.0005325 -0.0004825 -0.0002743  0.0013390 "
      ]
     },
     "metadata": {},
     "output_type": "display_data"
    },
    {
     "data": {
      "text/plain": [
       "      Min.    1st Qu.     Median       Mean    3rd Qu.       Max. \n",
       "-0.0005836 -0.0001081  0.0001567  0.0001576  0.0003648  0.0007455 "
      ]
     },
     "metadata": {},
     "output_type": "display_data"
    },
    {
     "data": {
      "text/plain": [
       "                   Min.                 1st Qu.                  Median \n",
       "-0.00000000000000033307 -0.00000000000000011102  0.00000000000000000000 \n",
       "                   Mean                 3rd Qu.                    Max. \n",
       "-0.00000000000000001883  0.00000000000000006245  0.00000000000000027756 "
      ]
     },
     "metadata": {},
     "output_type": "display_data"
    },
    {
     "data": {
      "text/plain": [
       "      Min.    1st Qu.     Median       Mean    3rd Qu.       Max. \n",
       "-0.0008707 -0.0006046 -0.0003101 -0.0001794  0.0001855  0.0011307 "
      ]
     },
     "metadata": {},
     "output_type": "display_data"
    }
   ],
   "source": [
    "summary(sinc$rank_slope - sinc$im)\n",
    "summary(sinc$rank_absolute - sinc$am)\n",
    "summary(sinc$rank_correlation - sinc$spearman)\n",
    "summary(sinc$rank_correlation - sinc$cor_rank)"
   ]
  },
  {
   "cell_type": "code",
   "execution_count": 217,
   "metadata": {},
   "outputs": [
    {
     "data": {
      "text/html": [
       "0.999948162896446"
      ],
      "text/latex": [
       "0.999948162896446"
      ],
      "text/markdown": [
       "0.999948162896446"
      ],
      "text/plain": [
       "[1] 0.9999482"
      ]
     },
     "metadata": {},
     "output_type": "display_data"
    },
    {
     "data": {
      "text/html": [
       "0.999867955293377"
      ],
      "text/latex": [
       "0.999867955293377"
      ],
      "text/markdown": [
       "0.999867955293377"
      ],
      "text/plain": [
       "[1] 0.999868"
      ]
     },
     "metadata": {},
     "output_type": "display_data"
    },
    {
     "data": {
      "text/html": [
       "1"
      ],
      "text/latex": [
       "1"
      ],
      "text/markdown": [
       "1"
      ],
      "text/plain": [
       "[1] 1"
      ]
     },
     "metadata": {},
     "output_type": "display_data"
    },
    {
     "data": {
      "text/html": [
       "0.999965387455135"
      ],
      "text/latex": [
       "0.999965387455135"
      ],
      "text/markdown": [
       "0.999965387455135"
      ],
      "text/plain": [
       "[1] 0.9999654"
      ]
     },
     "metadata": {},
     "output_type": "display_data"
    }
   ],
   "source": [
    "cor(sinc$rank_slope, sinc$im)\n",
    "cor(sinc$rank_absolute, sinc$am)\n",
    "cor(sinc$rank_correlation, sinc$spearman)\n",
    "cor(sinc$rank_correlation, sinc$cor_rank)"
   ]
  }
 ],
 "metadata": {
  "interpreter": {
   "hash": "ecf5722fdaf1897a315d257d89d94520bfcaa453217d5becf09b39e73618b0de"
  },
  "kernelspec": {
   "display_name": "R",
   "language": "R",
   "name": "ir"
  },
  "language_info": {
   "codemirror_mode": "r",
   "file_extension": ".r",
   "mimetype": "text/x-r-source",
   "name": "R",
   "pygments_lexer": "r",
   "version": "4.1.0"
  },
  "orig_nbformat": 4
 },
 "nbformat": 4,
 "nbformat_minor": 2
}
