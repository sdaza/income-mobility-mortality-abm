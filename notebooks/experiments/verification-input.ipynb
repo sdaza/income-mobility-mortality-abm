{
 "cells": [
  {
   "cell_type": "markdown",
   "metadata": {},
   "source": [
    "# Create experimental datasets\n",
    "\n",
    "## Smoking verification"
   ]
  },
  {
   "cell_type": "code",
   "execution_count": 1,
   "metadata": {},
   "outputs": [
    {
     "name": "stdout",
     "output_type": "stream",
     "text": [
      "                              files rank_slope_coeff nrep\n",
      "1: parameters;mortality;environment             0.00   10\n",
      "2: parameters;mortality;environment             0.12   10\n",
      "3: parameters;mortality;environment             0.00   10\n",
      "4: parameters;mortality;environment             0.12   10\n",
      "5: parameters;mortality;environment             0.00   10\n",
      "6: parameters;mortality;environment             0.12   10\n"
     ]
    }
   ],
   "source": [
    "# smoking verification\n",
    "\n",
    "library(data.table)\n",
    "\n",
    "# replicates x scenarios\n",
    "trep = 30 * 2\n",
    "cores = 6\n",
    "nrep = trep\n",
    "e = data.table(expand.grid(files = \"parameters;mortality;environment\", \n",
    "    rank_slope_coeff = c(0, 0.12)))\n",
    "e[, nrep := trep / (cores)]\n",
    "fe = data.table()\n",
    "for (i in 1:(cores / nrow(e))) {\n",
    "    fe = rbind(fe, e)\n",
    "}\n",
    "\n",
    "print(head(fe))\n",
    "\n",
    "fwrite(fe, \"../../models/MobHealthRecycling/experiments/verification-smoking.csv \", row.names = FALSE)"
   ]
  },
  {
   "cell_type": "markdown",
   "metadata": {},
   "source": [
    "# Segregation verification"
   ]
  },
  {
   "cell_type": "code",
   "execution_count": 53,
   "metadata": {},
   "outputs": [],
   "source": [
    "s = data.table(expand.grid(files = \"parameters;environment\", \n",
    "    random_movement = c(1.0, 0.5, 0.01), threshold = c(0.10, 0.15, 0.22, 0.28)))"
   ]
  },
  {
   "cell_type": "code",
   "execution_count": 54,
   "metadata": {},
   "outputs": [],
   "source": [
    "s[, remove := 0]\n",
    "s[random_movement == 1 & threshold > 0.10, remove := 1]\n",
    "s = s[remove == 0]"
   ]
  },
  {
   "cell_type": "code",
   "execution_count": 55,
   "metadata": {},
   "outputs": [
    {
     "data": {
      "text/html": [
       "270"
      ],
      "text/latex": [
       "270"
      ],
      "text/markdown": [
       "270"
      ],
      "text/plain": [
       "[1] 270"
      ]
     },
     "metadata": {},
     "output_type": "display_data"
    },
    {
     "name": "stdout",
     "output_type": "stream",
     "text": [
      "                    files random_movement threshold nrep\n",
      "1: parameters;environment            1.00      0.10    5\n",
      "2: parameters;environment            0.50      0.10    5\n",
      "3: parameters;environment            0.01      0.10    5\n",
      "4: parameters;environment            0.50      0.15    5\n",
      "5: parameters;environment            0.01      0.15    5\n",
      "6: parameters;environment            0.50      0.22    5\n"
     ]
    },
    {
     "data": {
      "text/html": [
       "<style>\n",
       ".list-inline {list-style: none; margin:0; padding: 0}\n",
       ".list-inline>li {display: inline-block}\n",
       ".list-inline>li:not(:last-child)::after {content: \"\\00b7\"; padding: 0 .5ex}\n",
       "</style>\n",
       "<ol class=list-inline><li>54</li><li>4</li></ol>\n"
      ],
      "text/latex": [
       "\\begin{enumerate*}\n",
       "\\item 54\n",
       "\\item 4\n",
       "\\end{enumerate*}\n"
      ],
      "text/markdown": [
       "1. 54\n",
       "2. 4\n",
       "\n",
       "\n"
      ],
      "text/plain": [
       "[1] 54  4"
      ]
     },
     "metadata": {},
     "output_type": "display_data"
    }
   ],
   "source": [
    "nrow(s) * 30\n",
    "\n",
    "fe = data.table()\n",
    "for (i in 1:6) {\n",
    "    fe = rbind(fe, s)\n",
    "}\n",
    "\n",
    "fe[, nrep := 5]\n",
    "fe[, remove := NULL]\n",
    "print(head(fe))\n",
    "dim(fe)\n",
    "\n",
    "fwrite(fe, \"../../models/MobHealthRecycling/experiments/verification-segregation.csv \", row.names = FALSE)"
   ]
  },
  {
   "cell_type": "code",
   "execution_count": 48,
   "metadata": {},
   "outputs": [
    {
     "data": {
      "text/html": [
       "270"
      ],
      "text/latex": [
       "270"
      ],
      "text/markdown": [
       "270"
      ],
      "text/plain": [
       "[1] 270"
      ]
     },
     "metadata": {},
     "output_type": "display_data"
    }
   ],
   "source": [
    "sum(fe$nrep)"
   ]
  },
  {
   "cell_type": "code",
   "execution_count": 49,
   "metadata": {},
   "outputs": [
    {
     "data": {
      "text/plain": [
       "\n",
       "0.01  0.5    1 \n",
       "  24   24    6 "
      ]
     },
     "metadata": {},
     "output_type": "display_data"
    }
   ],
   "source": [
    "table(fe$random_movement)"
   ]
  },
  {
   "cell_type": "markdown",
   "metadata": {},
   "source": [
    "# Direct income mobility effects"
   ]
  },
  {
   "cell_type": "code",
   "execution_count": 40,
   "metadata": {},
   "outputs": [],
   "source": [
    "s = data.table(expand.grid(files = \"parameters;environment;mortality\", \n",
    "    fake_mortality_slope = c(0.0),\n",
    "    income_exposure = c(0.0, -0.1),\n",
    "    moving_rate = c(0.00, 0.10), \n",
    "    endogenous = c(\"false\", \"true\"),\n",
    "    random_movement = c(0.01, 1.0),\n",
    "    exposure_rank_slope = c(\"false\")))"
   ]
  },
  {
   "cell_type": "code",
   "execution_count": 41,
   "metadata": {},
   "outputs": [
    {
     "data": {
      "text/html": [
       "<table class=\"dataframe\">\n",
       "<caption>A data.table: 16 × 7</caption>\n",
       "<thead>\n",
       "\t<tr><th scope=col>files</th><th scope=col>fake_mortality_slope</th><th scope=col>income_exposure</th><th scope=col>moving_rate</th><th scope=col>endogenous</th><th scope=col>random_movement</th><th scope=col>exposure_rank_slope</th></tr>\n",
       "\t<tr><th scope=col>&lt;fct&gt;</th><th scope=col>&lt;dbl&gt;</th><th scope=col>&lt;dbl&gt;</th><th scope=col>&lt;dbl&gt;</th><th scope=col>&lt;fct&gt;</th><th scope=col>&lt;dbl&gt;</th><th scope=col>&lt;fct&gt;</th></tr>\n",
       "</thead>\n",
       "<tbody>\n",
       "\t<tr><td>parameters;environment;mortality</td><td>0</td><td> 0.0</td><td>0.0</td><td>false</td><td>0.01</td><td>false</td></tr>\n",
       "\t<tr><td>parameters;environment;mortality</td><td>0</td><td>-0.1</td><td>0.0</td><td>false</td><td>0.01</td><td>false</td></tr>\n",
       "\t<tr><td>parameters;environment;mortality</td><td>0</td><td> 0.0</td><td>0.1</td><td>false</td><td>0.01</td><td>false</td></tr>\n",
       "\t<tr><td>parameters;environment;mortality</td><td>0</td><td>-0.1</td><td>0.1</td><td>false</td><td>0.01</td><td>false</td></tr>\n",
       "\t<tr><td>parameters;environment;mortality</td><td>0</td><td> 0.0</td><td>0.0</td><td>true </td><td>0.01</td><td>false</td></tr>\n",
       "\t<tr><td>parameters;environment;mortality</td><td>0</td><td>-0.1</td><td>0.0</td><td>true </td><td>0.01</td><td>false</td></tr>\n",
       "\t<tr><td>parameters;environment;mortality</td><td>0</td><td> 0.0</td><td>0.1</td><td>true </td><td>0.01</td><td>false</td></tr>\n",
       "\t<tr><td>parameters;environment;mortality</td><td>0</td><td>-0.1</td><td>0.1</td><td>true </td><td>0.01</td><td>false</td></tr>\n",
       "\t<tr><td>parameters;environment;mortality</td><td>0</td><td> 0.0</td><td>0.0</td><td>false</td><td>1.00</td><td>false</td></tr>\n",
       "\t<tr><td>parameters;environment;mortality</td><td>0</td><td>-0.1</td><td>0.0</td><td>false</td><td>1.00</td><td>false</td></tr>\n",
       "\t<tr><td>parameters;environment;mortality</td><td>0</td><td> 0.0</td><td>0.1</td><td>false</td><td>1.00</td><td>false</td></tr>\n",
       "\t<tr><td>parameters;environment;mortality</td><td>0</td><td>-0.1</td><td>0.1</td><td>false</td><td>1.00</td><td>false</td></tr>\n",
       "\t<tr><td>parameters;environment;mortality</td><td>0</td><td> 0.0</td><td>0.0</td><td>true </td><td>1.00</td><td>false</td></tr>\n",
       "\t<tr><td>parameters;environment;mortality</td><td>0</td><td>-0.1</td><td>0.0</td><td>true </td><td>1.00</td><td>false</td></tr>\n",
       "\t<tr><td>parameters;environment;mortality</td><td>0</td><td> 0.0</td><td>0.1</td><td>true </td><td>1.00</td><td>false</td></tr>\n",
       "\t<tr><td>parameters;environment;mortality</td><td>0</td><td>-0.1</td><td>0.1</td><td>true </td><td>1.00</td><td>false</td></tr>\n",
       "</tbody>\n",
       "</table>\n"
      ],
      "text/latex": [
       "A data.table: 16 × 7\n",
       "\\begin{tabular}{lllllll}\n",
       " files & fake\\_mortality\\_slope & income\\_exposure & moving\\_rate & endogenous & random\\_movement & exposure\\_rank\\_slope\\\\\n",
       " <fct> & <dbl> & <dbl> & <dbl> & <fct> & <dbl> & <fct>\\\\\n",
       "\\hline\n",
       "\t parameters;environment;mortality & 0 &  0.0 & 0.0 & false & 0.01 & false\\\\\n",
       "\t parameters;environment;mortality & 0 & -0.1 & 0.0 & false & 0.01 & false\\\\\n",
       "\t parameters;environment;mortality & 0 &  0.0 & 0.1 & false & 0.01 & false\\\\\n",
       "\t parameters;environment;mortality & 0 & -0.1 & 0.1 & false & 0.01 & false\\\\\n",
       "\t parameters;environment;mortality & 0 &  0.0 & 0.0 & true  & 0.01 & false\\\\\n",
       "\t parameters;environment;mortality & 0 & -0.1 & 0.0 & true  & 0.01 & false\\\\\n",
       "\t parameters;environment;mortality & 0 &  0.0 & 0.1 & true  & 0.01 & false\\\\\n",
       "\t parameters;environment;mortality & 0 & -0.1 & 0.1 & true  & 0.01 & false\\\\\n",
       "\t parameters;environment;mortality & 0 &  0.0 & 0.0 & false & 1.00 & false\\\\\n",
       "\t parameters;environment;mortality & 0 & -0.1 & 0.0 & false & 1.00 & false\\\\\n",
       "\t parameters;environment;mortality & 0 &  0.0 & 0.1 & false & 1.00 & false\\\\\n",
       "\t parameters;environment;mortality & 0 & -0.1 & 0.1 & false & 1.00 & false\\\\\n",
       "\t parameters;environment;mortality & 0 &  0.0 & 0.0 & true  & 1.00 & false\\\\\n",
       "\t parameters;environment;mortality & 0 & -0.1 & 0.0 & true  & 1.00 & false\\\\\n",
       "\t parameters;environment;mortality & 0 &  0.0 & 0.1 & true  & 1.00 & false\\\\\n",
       "\t parameters;environment;mortality & 0 & -0.1 & 0.1 & true  & 1.00 & false\\\\\n",
       "\\end{tabular}\n"
      ],
      "text/markdown": [
       "\n",
       "A data.table: 16 × 7\n",
       "\n",
       "| files &lt;fct&gt; | fake_mortality_slope &lt;dbl&gt; | income_exposure &lt;dbl&gt; | moving_rate &lt;dbl&gt; | endogenous &lt;fct&gt; | random_movement &lt;dbl&gt; | exposure_rank_slope &lt;fct&gt; |\n",
       "|---|---|---|---|---|---|---|\n",
       "| parameters;environment;mortality | 0 |  0.0 | 0.0 | false | 0.01 | false |\n",
       "| parameters;environment;mortality | 0 | -0.1 | 0.0 | false | 0.01 | false |\n",
       "| parameters;environment;mortality | 0 |  0.0 | 0.1 | false | 0.01 | false |\n",
       "| parameters;environment;mortality | 0 | -0.1 | 0.1 | false | 0.01 | false |\n",
       "| parameters;environment;mortality | 0 |  0.0 | 0.0 | true  | 0.01 | false |\n",
       "| parameters;environment;mortality | 0 | -0.1 | 0.0 | true  | 0.01 | false |\n",
       "| parameters;environment;mortality | 0 |  0.0 | 0.1 | true  | 0.01 | false |\n",
       "| parameters;environment;mortality | 0 | -0.1 | 0.1 | true  | 0.01 | false |\n",
       "| parameters;environment;mortality | 0 |  0.0 | 0.0 | false | 1.00 | false |\n",
       "| parameters;environment;mortality | 0 | -0.1 | 0.0 | false | 1.00 | false |\n",
       "| parameters;environment;mortality | 0 |  0.0 | 0.1 | false | 1.00 | false |\n",
       "| parameters;environment;mortality | 0 | -0.1 | 0.1 | false | 1.00 | false |\n",
       "| parameters;environment;mortality | 0 |  0.0 | 0.0 | true  | 1.00 | false |\n",
       "| parameters;environment;mortality | 0 | -0.1 | 0.0 | true  | 1.00 | false |\n",
       "| parameters;environment;mortality | 0 |  0.0 | 0.1 | true  | 1.00 | false |\n",
       "| parameters;environment;mortality | 0 | -0.1 | 0.1 | true  | 1.00 | false |\n",
       "\n"
      ],
      "text/plain": [
       "   files                            fake_mortality_slope income_exposure\n",
       "1  parameters;environment;mortality 0                     0.0           \n",
       "2  parameters;environment;mortality 0                    -0.1           \n",
       "3  parameters;environment;mortality 0                     0.0           \n",
       "4  parameters;environment;mortality 0                    -0.1           \n",
       "5  parameters;environment;mortality 0                     0.0           \n",
       "6  parameters;environment;mortality 0                    -0.1           \n",
       "7  parameters;environment;mortality 0                     0.0           \n",
       "8  parameters;environment;mortality 0                    -0.1           \n",
       "9  parameters;environment;mortality 0                     0.0           \n",
       "10 parameters;environment;mortality 0                    -0.1           \n",
       "11 parameters;environment;mortality 0                     0.0           \n",
       "12 parameters;environment;mortality 0                    -0.1           \n",
       "13 parameters;environment;mortality 0                     0.0           \n",
       "14 parameters;environment;mortality 0                    -0.1           \n",
       "15 parameters;environment;mortality 0                     0.0           \n",
       "16 parameters;environment;mortality 0                    -0.1           \n",
       "   moving_rate endogenous random_movement exposure_rank_slope\n",
       "1  0.0         false      0.01            false              \n",
       "2  0.0         false      0.01            false              \n",
       "3  0.1         false      0.01            false              \n",
       "4  0.1         false      0.01            false              \n",
       "5  0.0         true       0.01            false              \n",
       "6  0.0         true       0.01            false              \n",
       "7  0.1         true       0.01            false              \n",
       "8  0.1         true       0.01            false              \n",
       "9  0.0         false      1.00            false              \n",
       "10 0.0         false      1.00            false              \n",
       "11 0.1         false      1.00            false              \n",
       "12 0.1         false      1.00            false              \n",
       "13 0.0         true       1.00            false              \n",
       "14 0.0         true       1.00            false              \n",
       "15 0.1         true       1.00            false              \n",
       "16 0.1         true       1.00            false              "
      ]
     },
     "metadata": {},
     "output_type": "display_data"
    }
   ],
   "source": [
    "s"
   ]
  },
  {
   "cell_type": "code",
   "execution_count": 42,
   "metadata": {},
   "outputs": [],
   "source": [
    "s[, selection := 1]\n",
    "s[random_movement == 1 & moving_rate == 0, selection := 0]\n",
    "setorder(s, \"moving_rate\")"
   ]
  },
  {
   "cell_type": "code",
   "execution_count": 43,
   "metadata": {},
   "outputs": [],
   "source": [
    "s = s[selection == 1]"
   ]
  },
  {
   "cell_type": "code",
   "execution_count": 44,
   "metadata": {},
   "outputs": [
    {
     "data": {
      "text/html": [
       "12"
      ],
      "text/latex": [
       "12"
      ],
      "text/markdown": [
       "12"
      ],
      "text/plain": [
       "[1] 12"
      ]
     },
     "metadata": {},
     "output_type": "display_data"
    }
   ],
   "source": [
    "nrow(s)"
   ]
  },
  {
   "cell_type": "code",
   "execution_count": 45,
   "metadata": {},
   "outputs": [
    {
     "data": {
      "text/html": [
       "<table class=\"dataframe\">\n",
       "<caption>A data.table: 12 × 8</caption>\n",
       "<thead>\n",
       "\t<tr><th scope=col>files</th><th scope=col>fake_mortality_slope</th><th scope=col>income_exposure</th><th scope=col>moving_rate</th><th scope=col>endogenous</th><th scope=col>random_movement</th><th scope=col>exposure_rank_slope</th><th scope=col>selection</th></tr>\n",
       "\t<tr><th scope=col>&lt;fct&gt;</th><th scope=col>&lt;dbl&gt;</th><th scope=col>&lt;dbl&gt;</th><th scope=col>&lt;dbl&gt;</th><th scope=col>&lt;fct&gt;</th><th scope=col>&lt;dbl&gt;</th><th scope=col>&lt;fct&gt;</th><th scope=col>&lt;dbl&gt;</th></tr>\n",
       "</thead>\n",
       "<tbody>\n",
       "\t<tr><td>parameters;environment;mortality</td><td>0</td><td> 0.0</td><td>0.0</td><td>false</td><td>0.01</td><td>false</td><td>1</td></tr>\n",
       "\t<tr><td>parameters;environment;mortality</td><td>0</td><td>-0.1</td><td>0.0</td><td>false</td><td>0.01</td><td>false</td><td>1</td></tr>\n",
       "\t<tr><td>parameters;environment;mortality</td><td>0</td><td> 0.0</td><td>0.0</td><td>true </td><td>0.01</td><td>false</td><td>1</td></tr>\n",
       "\t<tr><td>parameters;environment;mortality</td><td>0</td><td>-0.1</td><td>0.0</td><td>true </td><td>0.01</td><td>false</td><td>1</td></tr>\n",
       "\t<tr><td>parameters;environment;mortality</td><td>0</td><td> 0.0</td><td>0.1</td><td>false</td><td>0.01</td><td>false</td><td>1</td></tr>\n",
       "\t<tr><td>parameters;environment;mortality</td><td>0</td><td>-0.1</td><td>0.1</td><td>false</td><td>0.01</td><td>false</td><td>1</td></tr>\n",
       "\t<tr><td>parameters;environment;mortality</td><td>0</td><td> 0.0</td><td>0.1</td><td>true </td><td>0.01</td><td>false</td><td>1</td></tr>\n",
       "\t<tr><td>parameters;environment;mortality</td><td>0</td><td>-0.1</td><td>0.1</td><td>true </td><td>0.01</td><td>false</td><td>1</td></tr>\n",
       "\t<tr><td>parameters;environment;mortality</td><td>0</td><td> 0.0</td><td>0.1</td><td>false</td><td>1.00</td><td>false</td><td>1</td></tr>\n",
       "\t<tr><td>parameters;environment;mortality</td><td>0</td><td>-0.1</td><td>0.1</td><td>false</td><td>1.00</td><td>false</td><td>1</td></tr>\n",
       "\t<tr><td>parameters;environment;mortality</td><td>0</td><td> 0.0</td><td>0.1</td><td>true </td><td>1.00</td><td>false</td><td>1</td></tr>\n",
       "\t<tr><td>parameters;environment;mortality</td><td>0</td><td>-0.1</td><td>0.1</td><td>true </td><td>1.00</td><td>false</td><td>1</td></tr>\n",
       "</tbody>\n",
       "</table>\n"
      ],
      "text/latex": [
       "A data.table: 12 × 8\n",
       "\\begin{tabular}{llllllll}\n",
       " files & fake\\_mortality\\_slope & income\\_exposure & moving\\_rate & endogenous & random\\_movement & exposure\\_rank\\_slope & selection\\\\\n",
       " <fct> & <dbl> & <dbl> & <dbl> & <fct> & <dbl> & <fct> & <dbl>\\\\\n",
       "\\hline\n",
       "\t parameters;environment;mortality & 0 &  0.0 & 0.0 & false & 0.01 & false & 1\\\\\n",
       "\t parameters;environment;mortality & 0 & -0.1 & 0.0 & false & 0.01 & false & 1\\\\\n",
       "\t parameters;environment;mortality & 0 &  0.0 & 0.0 & true  & 0.01 & false & 1\\\\\n",
       "\t parameters;environment;mortality & 0 & -0.1 & 0.0 & true  & 0.01 & false & 1\\\\\n",
       "\t parameters;environment;mortality & 0 &  0.0 & 0.1 & false & 0.01 & false & 1\\\\\n",
       "\t parameters;environment;mortality & 0 & -0.1 & 0.1 & false & 0.01 & false & 1\\\\\n",
       "\t parameters;environment;mortality & 0 &  0.0 & 0.1 & true  & 0.01 & false & 1\\\\\n",
       "\t parameters;environment;mortality & 0 & -0.1 & 0.1 & true  & 0.01 & false & 1\\\\\n",
       "\t parameters;environment;mortality & 0 &  0.0 & 0.1 & false & 1.00 & false & 1\\\\\n",
       "\t parameters;environment;mortality & 0 & -0.1 & 0.1 & false & 1.00 & false & 1\\\\\n",
       "\t parameters;environment;mortality & 0 &  0.0 & 0.1 & true  & 1.00 & false & 1\\\\\n",
       "\t parameters;environment;mortality & 0 & -0.1 & 0.1 & true  & 1.00 & false & 1\\\\\n",
       "\\end{tabular}\n"
      ],
      "text/markdown": [
       "\n",
       "A data.table: 12 × 8\n",
       "\n",
       "| files &lt;fct&gt; | fake_mortality_slope &lt;dbl&gt; | income_exposure &lt;dbl&gt; | moving_rate &lt;dbl&gt; | endogenous &lt;fct&gt; | random_movement &lt;dbl&gt; | exposure_rank_slope &lt;fct&gt; | selection &lt;dbl&gt; |\n",
       "|---|---|---|---|---|---|---|---|\n",
       "| parameters;environment;mortality | 0 |  0.0 | 0.0 | false | 0.01 | false | 1 |\n",
       "| parameters;environment;mortality | 0 | -0.1 | 0.0 | false | 0.01 | false | 1 |\n",
       "| parameters;environment;mortality | 0 |  0.0 | 0.0 | true  | 0.01 | false | 1 |\n",
       "| parameters;environment;mortality | 0 | -0.1 | 0.0 | true  | 0.01 | false | 1 |\n",
       "| parameters;environment;mortality | 0 |  0.0 | 0.1 | false | 0.01 | false | 1 |\n",
       "| parameters;environment;mortality | 0 | -0.1 | 0.1 | false | 0.01 | false | 1 |\n",
       "| parameters;environment;mortality | 0 |  0.0 | 0.1 | true  | 0.01 | false | 1 |\n",
       "| parameters;environment;mortality | 0 | -0.1 | 0.1 | true  | 0.01 | false | 1 |\n",
       "| parameters;environment;mortality | 0 |  0.0 | 0.1 | false | 1.00 | false | 1 |\n",
       "| parameters;environment;mortality | 0 | -0.1 | 0.1 | false | 1.00 | false | 1 |\n",
       "| parameters;environment;mortality | 0 |  0.0 | 0.1 | true  | 1.00 | false | 1 |\n",
       "| parameters;environment;mortality | 0 | -0.1 | 0.1 | true  | 1.00 | false | 1 |\n",
       "\n"
      ],
      "text/plain": [
       "   files                            fake_mortality_slope income_exposure\n",
       "1  parameters;environment;mortality 0                     0.0           \n",
       "2  parameters;environment;mortality 0                    -0.1           \n",
       "3  parameters;environment;mortality 0                     0.0           \n",
       "4  parameters;environment;mortality 0                    -0.1           \n",
       "5  parameters;environment;mortality 0                     0.0           \n",
       "6  parameters;environment;mortality 0                    -0.1           \n",
       "7  parameters;environment;mortality 0                     0.0           \n",
       "8  parameters;environment;mortality 0                    -0.1           \n",
       "9  parameters;environment;mortality 0                     0.0           \n",
       "10 parameters;environment;mortality 0                    -0.1           \n",
       "11 parameters;environment;mortality 0                     0.0           \n",
       "12 parameters;environment;mortality 0                    -0.1           \n",
       "   moving_rate endogenous random_movement exposure_rank_slope selection\n",
       "1  0.0         false      0.01            false               1        \n",
       "2  0.0         false      0.01            false               1        \n",
       "3  0.0         true       0.01            false               1        \n",
       "4  0.0         true       0.01            false               1        \n",
       "5  0.1         false      0.01            false               1        \n",
       "6  0.1         false      0.01            false               1        \n",
       "7  0.1         true       0.01            false               1        \n",
       "8  0.1         true       0.01            false               1        \n",
       "9  0.1         false      1.00            false               1        \n",
       "10 0.1         false      1.00            false               1        \n",
       "11 0.1         true       1.00            false               1        \n",
       "12 0.1         true       1.00            false               1        "
      ]
     },
     "metadata": {},
     "output_type": "display_data"
    }
   ],
   "source": [
    "s"
   ]
  },
  {
   "cell_type": "code",
   "execution_count": 47,
   "metadata": {},
   "outputs": [
    {
     "name": "stdout",
     "output_type": "stream",
     "text": [
      "                              files fake_mortality_slope income_exposure\n",
      "1: parameters;environment;mortality                    0             0.0\n",
      "2: parameters;environment;mortality                    0            -0.1\n",
      "3: parameters;environment;mortality                    0             0.0\n",
      "4: parameters;environment;mortality                    0            -0.1\n",
      "5: parameters;environment;mortality                    0             0.0\n",
      "6: parameters;environment;mortality                    0            -0.1\n",
      "   moving_rate endogenous random_movement exposure_rank_slope nrep\n",
      "1:         0.0      false            0.01               false   30\n",
      "2:         0.0      false            0.01               false   30\n",
      "3:         0.0       true            0.01               false   30\n",
      "4:         0.0       true            0.01               false   30\n",
      "5:         0.1      false            0.01               false   30\n",
      "6:         0.1      false            0.01               false   30\n"
     ]
    },
    {
     "data": {
      "text/html": [
       "<style>\n",
       ".list-inline {list-style: none; margin:0; padding: 0}\n",
       ".list-inline>li {display: inline-block}\n",
       ".list-inline>li:not(:last-child)::after {content: \"\\00b7\"; padding: 0 .5ex}\n",
       "</style>\n",
       "<ol class=list-inline><li>12</li><li>8</li></ol>\n"
      ],
      "text/latex": [
       "\\begin{enumerate*}\n",
       "\\item 12\n",
       "\\item 8\n",
       "\\end{enumerate*}\n"
      ],
      "text/markdown": [
       "1. 12\n",
       "2. 8\n",
       "\n",
       "\n"
      ],
      "text/plain": [
       "[1] 12  8"
      ]
     },
     "metadata": {},
     "output_type": "display_data"
    }
   ],
   "source": [
    "fe = s\n",
    "fe[, nrep := 30]\n",
    "fe[, selection := NULL]\n",
    "print(head(fe))\n",
    "dim(fe)\n",
    "\n",
    "fwrite(fe, \"../../models/MobHealthRecycling/experiments/verification-effects.csv \", row.names = FALSE)\n"
   ]
  },
  {
   "cell_type": "code",
   "execution_count": 52,
   "metadata": {},
   "outputs": [],
   "source": [
    "setorder(fe, income_exposure, endogenous)"
   ]
  },
  {
   "cell_type": "code",
   "execution_count": 53,
   "metadata": {},
   "outputs": [
    {
     "data": {
      "text/html": [
       "<table class=\"dataframe\">\n",
       "<caption>A data.table: 12 × 8</caption>\n",
       "<thead>\n",
       "\t<tr><th scope=col>files</th><th scope=col>fake_mortality_slope</th><th scope=col>income_exposure</th><th scope=col>moving_rate</th><th scope=col>endogenous</th><th scope=col>random_movement</th><th scope=col>exposure_rank_slope</th><th scope=col>nrep</th></tr>\n",
       "\t<tr><th scope=col>&lt;fct&gt;</th><th scope=col>&lt;dbl&gt;</th><th scope=col>&lt;dbl&gt;</th><th scope=col>&lt;dbl&gt;</th><th scope=col>&lt;fct&gt;</th><th scope=col>&lt;dbl&gt;</th><th scope=col>&lt;fct&gt;</th><th scope=col>&lt;dbl&gt;</th></tr>\n",
       "</thead>\n",
       "<tbody>\n",
       "\t<tr><td>parameters;environment;mortality</td><td>0</td><td>-0.1</td><td>0.0</td><td>false</td><td>0.01</td><td>false</td><td>30</td></tr>\n",
       "\t<tr><td>parameters;environment;mortality</td><td>0</td><td>-0.1</td><td>0.1</td><td>false</td><td>0.01</td><td>false</td><td>30</td></tr>\n",
       "\t<tr><td>parameters;environment;mortality</td><td>0</td><td>-0.1</td><td>0.1</td><td>false</td><td>1.00</td><td>false</td><td>30</td></tr>\n",
       "\t<tr><td>parameters;environment;mortality</td><td>0</td><td>-0.1</td><td>0.0</td><td>true </td><td>0.01</td><td>false</td><td>30</td></tr>\n",
       "\t<tr><td>parameters;environment;mortality</td><td>0</td><td>-0.1</td><td>0.1</td><td>true </td><td>0.01</td><td>false</td><td>30</td></tr>\n",
       "\t<tr><td>parameters;environment;mortality</td><td>0</td><td>-0.1</td><td>0.1</td><td>true </td><td>1.00</td><td>false</td><td>30</td></tr>\n",
       "\t<tr><td>parameters;environment;mortality</td><td>0</td><td> 0.0</td><td>0.0</td><td>false</td><td>0.01</td><td>false</td><td>30</td></tr>\n",
       "\t<tr><td>parameters;environment;mortality</td><td>0</td><td> 0.0</td><td>0.1</td><td>false</td><td>0.01</td><td>false</td><td>30</td></tr>\n",
       "\t<tr><td>parameters;environment;mortality</td><td>0</td><td> 0.0</td><td>0.1</td><td>false</td><td>1.00</td><td>false</td><td>30</td></tr>\n",
       "\t<tr><td>parameters;environment;mortality</td><td>0</td><td> 0.0</td><td>0.0</td><td>true </td><td>0.01</td><td>false</td><td>30</td></tr>\n",
       "\t<tr><td>parameters;environment;mortality</td><td>0</td><td> 0.0</td><td>0.1</td><td>true </td><td>0.01</td><td>false</td><td>30</td></tr>\n",
       "\t<tr><td>parameters;environment;mortality</td><td>0</td><td> 0.0</td><td>0.1</td><td>true </td><td>1.00</td><td>false</td><td>30</td></tr>\n",
       "</tbody>\n",
       "</table>\n"
      ],
      "text/latex": [
       "A data.table: 12 × 8\n",
       "\\begin{tabular}{llllllll}\n",
       " files & fake\\_mortality\\_slope & income\\_exposure & moving\\_rate & endogenous & random\\_movement & exposure\\_rank\\_slope & nrep\\\\\n",
       " <fct> & <dbl> & <dbl> & <dbl> & <fct> & <dbl> & <fct> & <dbl>\\\\\n",
       "\\hline\n",
       "\t parameters;environment;mortality & 0 & -0.1 & 0.0 & false & 0.01 & false & 30\\\\\n",
       "\t parameters;environment;mortality & 0 & -0.1 & 0.1 & false & 0.01 & false & 30\\\\\n",
       "\t parameters;environment;mortality & 0 & -0.1 & 0.1 & false & 1.00 & false & 30\\\\\n",
       "\t parameters;environment;mortality & 0 & -0.1 & 0.0 & true  & 0.01 & false & 30\\\\\n",
       "\t parameters;environment;mortality & 0 & -0.1 & 0.1 & true  & 0.01 & false & 30\\\\\n",
       "\t parameters;environment;mortality & 0 & -0.1 & 0.1 & true  & 1.00 & false & 30\\\\\n",
       "\t parameters;environment;mortality & 0 &  0.0 & 0.0 & false & 0.01 & false & 30\\\\\n",
       "\t parameters;environment;mortality & 0 &  0.0 & 0.1 & false & 0.01 & false & 30\\\\\n",
       "\t parameters;environment;mortality & 0 &  0.0 & 0.1 & false & 1.00 & false & 30\\\\\n",
       "\t parameters;environment;mortality & 0 &  0.0 & 0.0 & true  & 0.01 & false & 30\\\\\n",
       "\t parameters;environment;mortality & 0 &  0.0 & 0.1 & true  & 0.01 & false & 30\\\\\n",
       "\t parameters;environment;mortality & 0 &  0.0 & 0.1 & true  & 1.00 & false & 30\\\\\n",
       "\\end{tabular}\n"
      ],
      "text/markdown": [
       "\n",
       "A data.table: 12 × 8\n",
       "\n",
       "| files &lt;fct&gt; | fake_mortality_slope &lt;dbl&gt; | income_exposure &lt;dbl&gt; | moving_rate &lt;dbl&gt; | endogenous &lt;fct&gt; | random_movement &lt;dbl&gt; | exposure_rank_slope &lt;fct&gt; | nrep &lt;dbl&gt; |\n",
       "|---|---|---|---|---|---|---|---|\n",
       "| parameters;environment;mortality | 0 | -0.1 | 0.0 | false | 0.01 | false | 30 |\n",
       "| parameters;environment;mortality | 0 | -0.1 | 0.1 | false | 0.01 | false | 30 |\n",
       "| parameters;environment;mortality | 0 | -0.1 | 0.1 | false | 1.00 | false | 30 |\n",
       "| parameters;environment;mortality | 0 | -0.1 | 0.0 | true  | 0.01 | false | 30 |\n",
       "| parameters;environment;mortality | 0 | -0.1 | 0.1 | true  | 0.01 | false | 30 |\n",
       "| parameters;environment;mortality | 0 | -0.1 | 0.1 | true  | 1.00 | false | 30 |\n",
       "| parameters;environment;mortality | 0 |  0.0 | 0.0 | false | 0.01 | false | 30 |\n",
       "| parameters;environment;mortality | 0 |  0.0 | 0.1 | false | 0.01 | false | 30 |\n",
       "| parameters;environment;mortality | 0 |  0.0 | 0.1 | false | 1.00 | false | 30 |\n",
       "| parameters;environment;mortality | 0 |  0.0 | 0.0 | true  | 0.01 | false | 30 |\n",
       "| parameters;environment;mortality | 0 |  0.0 | 0.1 | true  | 0.01 | false | 30 |\n",
       "| parameters;environment;mortality | 0 |  0.0 | 0.1 | true  | 1.00 | false | 30 |\n",
       "\n"
      ],
      "text/plain": [
       "   files                            fake_mortality_slope income_exposure\n",
       "1  parameters;environment;mortality 0                    -0.1           \n",
       "2  parameters;environment;mortality 0                    -0.1           \n",
       "3  parameters;environment;mortality 0                    -0.1           \n",
       "4  parameters;environment;mortality 0                    -0.1           \n",
       "5  parameters;environment;mortality 0                    -0.1           \n",
       "6  parameters;environment;mortality 0                    -0.1           \n",
       "7  parameters;environment;mortality 0                     0.0           \n",
       "8  parameters;environment;mortality 0                     0.0           \n",
       "9  parameters;environment;mortality 0                     0.0           \n",
       "10 parameters;environment;mortality 0                     0.0           \n",
       "11 parameters;environment;mortality 0                     0.0           \n",
       "12 parameters;environment;mortality 0                     0.0           \n",
       "   moving_rate endogenous random_movement exposure_rank_slope nrep\n",
       "1  0.0         false      0.01            false               30  \n",
       "2  0.1         false      0.01            false               30  \n",
       "3  0.1         false      1.00            false               30  \n",
       "4  0.0         true       0.01            false               30  \n",
       "5  0.1         true       0.01            false               30  \n",
       "6  0.1         true       1.00            false               30  \n",
       "7  0.0         false      0.01            false               30  \n",
       "8  0.1         false      0.01            false               30  \n",
       "9  0.1         false      1.00            false               30  \n",
       "10 0.0         true       0.01            false               30  \n",
       "11 0.1         true       0.01            false               30  \n",
       "12 0.1         true       1.00            false               30  "
      ]
     },
     "metadata": {},
     "output_type": "display_data"
    }
   ],
   "source": [
    "fe"
   ]
  },
  {
   "cell_type": "code",
   "execution_count": null,
   "metadata": {},
   "outputs": [],
   "source": []
  }
 ],
 "metadata": {
  "kernelspec": {
   "display_name": "R",
   "language": "R",
   "name": "ir"
  },
  "language_info": {
   "codemirror_mode": "r",
   "file_extension": ".r",
   "mimetype": "text/x-r-source",
   "name": "R",
   "pygments_lexer": "r",
   "version": "4.1.0"
  },
  "orig_nbformat": 4
 },
 "nbformat": 4,
 "nbformat_minor": 2
}
