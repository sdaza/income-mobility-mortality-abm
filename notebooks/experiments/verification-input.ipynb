{
 "cells": [
  {
   "cell_type": "markdown",
   "metadata": {},
   "source": [
    "# Create experimental datasets\n",
    "\n",
    "## Smoking verification"
   ]
  },
  {
   "cell_type": "code",
   "execution_count": 2,
   "metadata": {},
   "outputs": [
    {
     "name": "stdout",
     "output_type": "stream",
     "text": [
      "                              files rank_slope_coeff nrep\n",
      "1: parameters;mortality;environment             0.00   10\n",
      "2: parameters;mortality;environment             0.12   10\n",
      "3: parameters;mortality;environment             0.00   10\n",
      "4: parameters;mortality;environment             0.12   10\n",
      "5: parameters;mortality;environment             0.00   10\n",
      "6: parameters;mortality;environment             0.12   10\n"
     ]
    }
   ],
   "source": [
    "# smoking verification\n",
    "\n",
    "library(data.table)\n",
    "\n",
    "# replicates x scenarios\n",
    "trep = 30 * 2\n",
    "cores = 6\n",
    "nrep = trep\n",
    "e = data.table(expand.grid(files = \"parameters;mortality;environment\", \n",
    "    rank_slope_coeff = c(0, 0.12)))\n",
    "e[, nrep := trep / (cores)]\n",
    "fe = data.table()\n",
    "for (i in 1:(cores / nrow(e))) {\n",
    "    fe = rbind(fe, e)\n",
    "}\n",
    "\n",
    "print(head(fe))\n",
    "\n",
    "fwrite(fe, \"../../models/MobHealthRecycling/experiments/verification-smoking.csv \", row.names = FALSE)"
   ]
  },
  {
   "cell_type": "markdown",
   "metadata": {},
   "source": [
    "# Segregation verification"
   ]
  },
  {
   "cell_type": "code",
   "execution_count": 53,
   "metadata": {},
   "outputs": [],
   "source": [
    "s = data.table(expand.grid(files = \"parameters;environment\", \n",
    "    random_movement = c(1.0, 0.5, 0.01), threshold = c(0.10, 0.15, 0.22, 0.28)))"
   ]
  },
  {
   "cell_type": "code",
   "execution_count": 54,
   "metadata": {},
   "outputs": [],
   "source": [
    "s[, remove := 0]\n",
    "s[random_movement == 1 & threshold > 0.10, remove := 1]\n",
    "s = s[remove == 0]"
   ]
  },
  {
   "cell_type": "code",
   "execution_count": 55,
   "metadata": {},
   "outputs": [
    {
     "data": {
      "text/html": [
       "270"
      ],
      "text/latex": [
       "270"
      ],
      "text/markdown": [
       "270"
      ],
      "text/plain": [
       "[1] 270"
      ]
     },
     "metadata": {},
     "output_type": "display_data"
    },
    {
     "name": "stdout",
     "output_type": "stream",
     "text": [
      "                    files random_movement threshold nrep\n",
      "1: parameters;environment            1.00      0.10    5\n",
      "2: parameters;environment            0.50      0.10    5\n",
      "3: parameters;environment            0.01      0.10    5\n",
      "4: parameters;environment            0.50      0.15    5\n",
      "5: parameters;environment            0.01      0.15    5\n",
      "6: parameters;environment            0.50      0.22    5\n"
     ]
    },
    {
     "data": {
      "text/html": [
       "<style>\n",
       ".list-inline {list-style: none; margin:0; padding: 0}\n",
       ".list-inline>li {display: inline-block}\n",
       ".list-inline>li:not(:last-child)::after {content: \"\\00b7\"; padding: 0 .5ex}\n",
       "</style>\n",
       "<ol class=list-inline><li>54</li><li>4</li></ol>\n"
      ],
      "text/latex": [
       "\\begin{enumerate*}\n",
       "\\item 54\n",
       "\\item 4\n",
       "\\end{enumerate*}\n"
      ],
      "text/markdown": [
       "1. 54\n",
       "2. 4\n",
       "\n",
       "\n"
      ],
      "text/plain": [
       "[1] 54  4"
      ]
     },
     "metadata": {},
     "output_type": "display_data"
    }
   ],
   "source": [
    "nrow(s) * 30\n",
    "\n",
    "fe = data.table()\n",
    "for (i in 1:6) {\n",
    "    fe = rbind(fe, s)\n",
    "}\n",
    "\n",
    "fe[, nrep := 5]\n",
    "fe[, remove := NULL]\n",
    "print(head(fe))\n",
    "dim(fe)\n",
    "\n",
    "fwrite(fe, \"../../models/MobHealthRecycling/experiments/verification-segregation.csv \", row.names = FALSE)"
   ]
  },
  {
   "cell_type": "code",
   "execution_count": 48,
   "metadata": {},
   "outputs": [
    {
     "data": {
      "text/html": [
       "270"
      ],
      "text/latex": [
       "270"
      ],
      "text/markdown": [
       "270"
      ],
      "text/plain": [
       "[1] 270"
      ]
     },
     "metadata": {},
     "output_type": "display_data"
    }
   ],
   "source": [
    "sum(fe$nrep)"
   ]
  },
  {
   "cell_type": "code",
   "execution_count": 49,
   "metadata": {},
   "outputs": [
    {
     "data": {
      "text/plain": [
       "\n",
       "0.01  0.5    1 \n",
       "  24   24    6 "
      ]
     },
     "metadata": {},
     "output_type": "display_data"
    }
   ],
   "source": [
    "table(fe$random_movement)"
   ]
  },
  {
   "cell_type": "markdown",
   "metadata": {},
   "source": [
    "# Direct income mobility effects"
   ]
  },
  {
   "cell_type": "code",
   "execution_count": 24,
   "metadata": {},
   "outputs": [],
   "source": [
    "s = data.table(expand.grid(files = \"parameters;environment;mortality\", \n",
    "    fake_mortality_slope = c(0.0),\n",
    "    moving_rate = c(0.01, 0.10), \n",
    "    random_movement = c(0.01, 1.0),\n",
    "    exposure_rank_slope = c(\"false\", \"true\")))"
   ]
  },
  {
   "cell_type": "code",
   "execution_count": 25,
   "metadata": {},
   "outputs": [],
   "source": [
    "s[, selection := 1]\n",
    "s[random_movement == 1 & moving_rate == 0, selection := 0]\n",
    "setorder(s, \"moving_rate\")"
   ]
  },
  {
   "cell_type": "code",
   "execution_count": 26,
   "metadata": {},
   "outputs": [],
   "source": [
    "s = s[selection == 1]"
   ]
  },
  {
   "cell_type": "code",
   "execution_count": 29,
   "metadata": {},
   "outputs": [
    {
     "name": "stderr",
     "output_type": "stream",
     "text": [
      "Warning message in `[.data.table`(fe, , `:=`(selection, NULL)):\n",
      "\"Column 'selection' does not exist to remove\"\n"
     ]
    },
    {
     "name": "stdout",
     "output_type": "stream",
     "text": [
      "                              files fake_mortality_slope moving_rate\n",
      "1: parameters;environment;mortality                    0         0.0\n",
      "2: parameters;environment;mortality                    0         0.0\n",
      "3: parameters;environment;mortality                    0         0.1\n",
      "4: parameters;environment;mortality                    0         0.1\n",
      "5: parameters;environment;mortality                    0         0.1\n",
      "6: parameters;environment;mortality                    0         0.1\n",
      "   random_movement exposure_rank_slope nrep\n",
      "1:            0.01               false   30\n",
      "2:            0.01                true   30\n",
      "3:            0.01               false   30\n",
      "4:            1.00               false   30\n",
      "5:            0.01                true   30\n",
      "6:            1.00                true   30\n"
     ]
    },
    {
     "data": {
      "text/html": [
       "<style>\n",
       ".list-inline {list-style: none; margin:0; padding: 0}\n",
       ".list-inline>li {display: inline-block}\n",
       ".list-inline>li:not(:last-child)::after {content: \"\\00b7\"; padding: 0 .5ex}\n",
       "</style>\n",
       "<ol class=list-inline><li>6</li><li>6</li></ol>\n"
      ],
      "text/latex": [
       "\\begin{enumerate*}\n",
       "\\item 6\n",
       "\\item 6\n",
       "\\end{enumerate*}\n"
      ],
      "text/markdown": [
       "1. 6\n",
       "2. 6\n",
       "\n",
       "\n"
      ],
      "text/plain": [
       "[1] 6 6"
      ]
     },
     "metadata": {},
     "output_type": "display_data"
    }
   ],
   "source": [
    "fe = s\n",
    "fe[, nrep := 30]\n",
    "fe[, selection := NULL]\n",
    "print(head(fe))\n",
    "dim(fe)\n",
    "\n",
    "fwrite(fe, \"../../models/MobHealthRecycling/experiments/verification-effects.csv \", row.names = FALSE)\n"
   ]
  },
  {
   "cell_type": "code",
   "execution_count": 6,
   "metadata": {},
   "outputs": [
    {
     "data": {
      "text/html": [
       "<table class=\"dataframe\">\n",
       "<caption>A data.table: 8 × 5</caption>\n",
       "<thead>\n",
       "\t<tr><th scope=col>files</th><th scope=col>fake_mortality_slope</th><th scope=col>all_exposure</th><th scope=col>exposure_rank_slope</th><th scope=col>nrep</th></tr>\n",
       "\t<tr><th scope=col>&lt;fct&gt;</th><th scope=col>&lt;dbl&gt;</th><th scope=col>&lt;fct&gt;</th><th scope=col>&lt;fct&gt;</th><th scope=col>&lt;dbl&gt;</th></tr>\n",
       "</thead>\n",
       "<tbody>\n",
       "\t<tr><td>parameters;environment;mortality</td><td>0</td><td>false</td><td>false</td><td>15</td></tr>\n",
       "\t<tr><td>parameters;environment;mortality</td><td>0</td><td>true </td><td>false</td><td>15</td></tr>\n",
       "\t<tr><td>parameters;environment;mortality</td><td>0</td><td>false</td><td>true </td><td>15</td></tr>\n",
       "\t<tr><td>parameters;environment;mortality</td><td>0</td><td>true </td><td>true </td><td>15</td></tr>\n",
       "\t<tr><td>parameters;environment;mortality</td><td>0</td><td>false</td><td>false</td><td>15</td></tr>\n",
       "\t<tr><td>parameters;environment;mortality</td><td>0</td><td>true </td><td>false</td><td>15</td></tr>\n",
       "\t<tr><td>parameters;environment;mortality</td><td>0</td><td>false</td><td>true </td><td>15</td></tr>\n",
       "\t<tr><td>parameters;environment;mortality</td><td>0</td><td>true </td><td>true </td><td>15</td></tr>\n",
       "</tbody>\n",
       "</table>\n"
      ],
      "text/latex": [
       "A data.table: 8 × 5\n",
       "\\begin{tabular}{lllll}\n",
       " files & fake\\_mortality\\_slope & all\\_exposure & exposure\\_rank\\_slope & nrep\\\\\n",
       " <fct> & <dbl> & <fct> & <fct> & <dbl>\\\\\n",
       "\\hline\n",
       "\t parameters;environment;mortality & 0 & false & false & 15\\\\\n",
       "\t parameters;environment;mortality & 0 & true  & false & 15\\\\\n",
       "\t parameters;environment;mortality & 0 & false & true  & 15\\\\\n",
       "\t parameters;environment;mortality & 0 & true  & true  & 15\\\\\n",
       "\t parameters;environment;mortality & 0 & false & false & 15\\\\\n",
       "\t parameters;environment;mortality & 0 & true  & false & 15\\\\\n",
       "\t parameters;environment;mortality & 0 & false & true  & 15\\\\\n",
       "\t parameters;environment;mortality & 0 & true  & true  & 15\\\\\n",
       "\\end{tabular}\n"
      ],
      "text/markdown": [
       "\n",
       "A data.table: 8 × 5\n",
       "\n",
       "| files &lt;fct&gt; | fake_mortality_slope &lt;dbl&gt; | all_exposure &lt;fct&gt; | exposure_rank_slope &lt;fct&gt; | nrep &lt;dbl&gt; |\n",
       "|---|---|---|---|---|\n",
       "| parameters;environment;mortality | 0 | false | false | 15 |\n",
       "| parameters;environment;mortality | 0 | true  | false | 15 |\n",
       "| parameters;environment;mortality | 0 | false | true  | 15 |\n",
       "| parameters;environment;mortality | 0 | true  | true  | 15 |\n",
       "| parameters;environment;mortality | 0 | false | false | 15 |\n",
       "| parameters;environment;mortality | 0 | true  | false | 15 |\n",
       "| parameters;environment;mortality | 0 | false | true  | 15 |\n",
       "| parameters;environment;mortality | 0 | true  | true  | 15 |\n",
       "\n"
      ],
      "text/plain": [
       "  files                            fake_mortality_slope all_exposure\n",
       "1 parameters;environment;mortality 0                    false       \n",
       "2 parameters;environment;mortality 0                    true        \n",
       "3 parameters;environment;mortality 0                    false       \n",
       "4 parameters;environment;mortality 0                    true        \n",
       "5 parameters;environment;mortality 0                    false       \n",
       "6 parameters;environment;mortality 0                    true        \n",
       "7 parameters;environment;mortality 0                    false       \n",
       "8 parameters;environment;mortality 0                    true        \n",
       "  exposure_rank_slope nrep\n",
       "1 false               15  \n",
       "2 false               15  \n",
       "3 true                15  \n",
       "4 true                15  \n",
       "5 false               15  \n",
       "6 false               15  \n",
       "7 true                15  \n",
       "8 true                15  "
      ]
     },
     "metadata": {},
     "output_type": "display_data"
    }
   ],
   "source": [
    "fe"
   ]
  }
 ],
 "metadata": {
  "kernelspec": {
   "display_name": "R",
   "language": "R",
   "name": "ir"
  },
  "language_info": {
   "codemirror_mode": "r",
   "file_extension": ".r",
   "mimetype": "text/x-r-source",
   "name": "R",
   "pygments_lexer": "r",
   "version": "4.1.0"
  },
  "orig_nbformat": 4
 },
 "nbformat": 4,
 "nbformat_minor": 2
}
