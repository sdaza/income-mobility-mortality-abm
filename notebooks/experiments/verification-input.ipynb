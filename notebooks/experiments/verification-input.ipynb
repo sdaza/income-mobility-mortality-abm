{
 "cells": [
  {
   "cell_type": "markdown",
   "metadata": {},
   "source": [
    "# Create experimental datasets\n",
    "\n",
    "## Smoking verification"
   ]
  },
  {
   "cell_type": "code",
   "execution_count": 2,
   "metadata": {},
   "outputs": [
    {
     "name": "stdout",
     "output_type": "stream",
     "text": [
      "                              files rank_slope_coeff nrep\n",
      "1: parameters;mortality;environment             0.00   10\n",
      "2: parameters;mortality;environment             0.12   10\n",
      "3: parameters;mortality;environment             0.00   10\n",
      "4: parameters;mortality;environment             0.12   10\n",
      "5: parameters;mortality;environment             0.00   10\n",
      "6: parameters;mortality;environment             0.12   10\n"
     ]
    }
   ],
   "source": [
    "# smoking verification\n",
    "\n",
    "library(data.table)\n",
    "\n",
    "# replicates x scenarios\n",
    "trep = 30 * 2\n",
    "cores = 6\n",
    "nrep = trep\n",
    "e = data.table(expand.grid(files = \"parameters;mortality;environment\", \n",
    "    rank_slope_coeff = c(0, 0.12)))\n",
    "e[, nrep := trep / (cores)]\n",
    "fe = data.table()\n",
    "for (i in 1:(cores / nrow(e))) {\n",
    "    fe = rbind(fe, e)\n",
    "}\n",
    "\n",
    "print(head(fe))\n",
    "\n",
    "fwrite(fe, \"../../models/MobHealthRecycling/experiments/verification-smoking.csv \", row.names = FALSE)"
   ]
  },
  {
   "cell_type": "markdown",
   "metadata": {},
   "source": [
    "# Segregation verification"
   ]
  },
  {
   "cell_type": "code",
   "execution_count": 53,
   "metadata": {},
   "outputs": [],
   "source": [
    "s = data.table(expand.grid(files = \"parameters;environment\", \n",
    "    random_movement = c(1.0, 0.5, 0.01), threshold = c(0.10, 0.15, 0.22, 0.28)))"
   ]
  },
  {
   "cell_type": "code",
   "execution_count": 54,
   "metadata": {},
   "outputs": [],
   "source": [
    "s[, remove := 0]\n",
    "s[random_movement == 1 & threshold > 0.10, remove := 1]\n",
    "s = s[remove == 0]"
   ]
  },
  {
   "cell_type": "code",
   "execution_count": 55,
   "metadata": {},
   "outputs": [
    {
     "data": {
      "text/html": [
       "270"
      ],
      "text/latex": [
       "270"
      ],
      "text/markdown": [
       "270"
      ],
      "text/plain": [
       "[1] 270"
      ]
     },
     "metadata": {},
     "output_type": "display_data"
    },
    {
     "name": "stdout",
     "output_type": "stream",
     "text": [
      "                    files random_movement threshold nrep\n",
      "1: parameters;environment            1.00      0.10    5\n",
      "2: parameters;environment            0.50      0.10    5\n",
      "3: parameters;environment            0.01      0.10    5\n",
      "4: parameters;environment            0.50      0.15    5\n",
      "5: parameters;environment            0.01      0.15    5\n",
      "6: parameters;environment            0.50      0.22    5\n"
     ]
    },
    {
     "data": {
      "text/html": [
       "<style>\n",
       ".list-inline {list-style: none; margin:0; padding: 0}\n",
       ".list-inline>li {display: inline-block}\n",
       ".list-inline>li:not(:last-child)::after {content: \"\\00b7\"; padding: 0 .5ex}\n",
       "</style>\n",
       "<ol class=list-inline><li>54</li><li>4</li></ol>\n"
      ],
      "text/latex": [
       "\\begin{enumerate*}\n",
       "\\item 54\n",
       "\\item 4\n",
       "\\end{enumerate*}\n"
      ],
      "text/markdown": [
       "1. 54\n",
       "2. 4\n",
       "\n",
       "\n"
      ],
      "text/plain": [
       "[1] 54  4"
      ]
     },
     "metadata": {},
     "output_type": "display_data"
    }
   ],
   "source": [
    "nrow(s) * 30\n",
    "\n",
    "fe = data.table()\n",
    "for (i in 1:6) {\n",
    "    fe = rbind(fe, s)\n",
    "}\n",
    "\n",
    "fe[, nrep := 5]\n",
    "fe[, remove := NULL]\n",
    "print(head(fe))\n",
    "dim(fe)\n",
    "\n",
    "fwrite(fe, \"../../models/MobHealthRecycling/experiments/verification-segregation.csv \", row.names = FALSE)"
   ]
  },
  {
   "cell_type": "code",
   "execution_count": 48,
   "metadata": {},
   "outputs": [
    {
     "data": {
      "text/html": [
       "270"
      ],
      "text/latex": [
       "270"
      ],
      "text/markdown": [
       "270"
      ],
      "text/plain": [
       "[1] 270"
      ]
     },
     "metadata": {},
     "output_type": "display_data"
    }
   ],
   "source": [
    "sum(fe$nrep)"
   ]
  },
  {
   "cell_type": "code",
   "execution_count": 49,
   "metadata": {},
   "outputs": [
    {
     "data": {
      "text/plain": [
       "\n",
       "0.01  0.5    1 \n",
       "  24   24    6 "
      ]
     },
     "metadata": {},
     "output_type": "display_data"
    }
   ],
   "source": [
    "table(fe$random_movement)"
   ]
  },
  {
   "cell_type": "markdown",
   "metadata": {},
   "source": [
    "# Effects"
   ]
  },
  {
   "cell_type": "code",
   "execution_count": 5,
   "metadata": {},
   "outputs": [],
   "source": [
    "s = data.table(expand.grid(files = \"parameters;environment;mortality\", \n",
    "    fake_mortality_slope = c(0.0, 0.3, 0.5), \n",
    "    endogenous_transition_matrix = c(\"true\", \"false\"), \n",
    "    base_income_prob = c(0.2, 0.3, 0.4)))"
   ]
  },
  {
   "cell_type": "code",
   "execution_count": 4,
   "metadata": {},
   "outputs": [],
   "source": [
    "s = s[endogenous_transition_matrix == \"false\" & base_income_prob == 0.2]"
   ]
  },
  {
   "cell_type": "code",
   "execution_count": 6,
   "metadata": {},
   "outputs": [],
   "source": [
    "# replicates x scenarios\n",
    "trep = 30 * 3\n",
    "cores = 6\n",
    "s[, nrep := trep / (cores)]\n",
    "fe = data.table()\n",
    "\n",
    "for (i in 1:(cores / nrow(s))) {\n",
    "    fe = rbind(fe, s)\n",
    "}\n",
    "\n",
    "fwrite(fe, \"../../models/MobHealthRecycling/experiments/verification-effects.csv \", row.names = FALSE)"
   ]
  },
  {
   "cell_type": "code",
   "execution_count": 7,
   "metadata": {},
   "outputs": [
    {
     "data": {
      "text/html": [
       "<table class=\"dataframe\">\n",
       "<caption>A data.table: 18 × 5</caption>\n",
       "<thead>\n",
       "\t<tr><th scope=col>files</th><th scope=col>fake_mortality_slope</th><th scope=col>endogenous_transition_matrix</th><th scope=col>base_income_prob</th><th scope=col>nrep</th></tr>\n",
       "\t<tr><th scope=col>&lt;fct&gt;</th><th scope=col>&lt;dbl&gt;</th><th scope=col>&lt;fct&gt;</th><th scope=col>&lt;dbl&gt;</th><th scope=col>&lt;dbl&gt;</th></tr>\n",
       "</thead>\n",
       "<tbody>\n",
       "\t<tr><td>parameters;environment;mortality</td><td>0.0</td><td>true </td><td>0.2</td><td>15</td></tr>\n",
       "\t<tr><td>parameters;environment;mortality</td><td>0.3</td><td>true </td><td>0.2</td><td>15</td></tr>\n",
       "\t<tr><td>parameters;environment;mortality</td><td>0.5</td><td>true </td><td>0.2</td><td>15</td></tr>\n",
       "\t<tr><td>parameters;environment;mortality</td><td>0.0</td><td>false</td><td>0.2</td><td>15</td></tr>\n",
       "\t<tr><td>parameters;environment;mortality</td><td>0.3</td><td>false</td><td>0.2</td><td>15</td></tr>\n",
       "\t<tr><td>parameters;environment;mortality</td><td>0.5</td><td>false</td><td>0.2</td><td>15</td></tr>\n",
       "\t<tr><td>parameters;environment;mortality</td><td>0.0</td><td>true </td><td>0.3</td><td>15</td></tr>\n",
       "\t<tr><td>parameters;environment;mortality</td><td>0.3</td><td>true </td><td>0.3</td><td>15</td></tr>\n",
       "\t<tr><td>parameters;environment;mortality</td><td>0.5</td><td>true </td><td>0.3</td><td>15</td></tr>\n",
       "\t<tr><td>parameters;environment;mortality</td><td>0.0</td><td>false</td><td>0.3</td><td>15</td></tr>\n",
       "\t<tr><td>parameters;environment;mortality</td><td>0.3</td><td>false</td><td>0.3</td><td>15</td></tr>\n",
       "\t<tr><td>parameters;environment;mortality</td><td>0.5</td><td>false</td><td>0.3</td><td>15</td></tr>\n",
       "\t<tr><td>parameters;environment;mortality</td><td>0.0</td><td>true </td><td>0.4</td><td>15</td></tr>\n",
       "\t<tr><td>parameters;environment;mortality</td><td>0.3</td><td>true </td><td>0.4</td><td>15</td></tr>\n",
       "\t<tr><td>parameters;environment;mortality</td><td>0.5</td><td>true </td><td>0.4</td><td>15</td></tr>\n",
       "\t<tr><td>parameters;environment;mortality</td><td>0.0</td><td>false</td><td>0.4</td><td>15</td></tr>\n",
       "\t<tr><td>parameters;environment;mortality</td><td>0.3</td><td>false</td><td>0.4</td><td>15</td></tr>\n",
       "\t<tr><td>parameters;environment;mortality</td><td>0.5</td><td>false</td><td>0.4</td><td>15</td></tr>\n",
       "</tbody>\n",
       "</table>\n"
      ],
      "text/latex": [
       "A data.table: 18 × 5\n",
       "\\begin{tabular}{lllll}\n",
       " files & fake\\_mortality\\_slope & endogenous\\_transition\\_matrix & base\\_income\\_prob & nrep\\\\\n",
       " <fct> & <dbl> & <fct> & <dbl> & <dbl>\\\\\n",
       "\\hline\n",
       "\t parameters;environment;mortality & 0.0 & true  & 0.2 & 15\\\\\n",
       "\t parameters;environment;mortality & 0.3 & true  & 0.2 & 15\\\\\n",
       "\t parameters;environment;mortality & 0.5 & true  & 0.2 & 15\\\\\n",
       "\t parameters;environment;mortality & 0.0 & false & 0.2 & 15\\\\\n",
       "\t parameters;environment;mortality & 0.3 & false & 0.2 & 15\\\\\n",
       "\t parameters;environment;mortality & 0.5 & false & 0.2 & 15\\\\\n",
       "\t parameters;environment;mortality & 0.0 & true  & 0.3 & 15\\\\\n",
       "\t parameters;environment;mortality & 0.3 & true  & 0.3 & 15\\\\\n",
       "\t parameters;environment;mortality & 0.5 & true  & 0.3 & 15\\\\\n",
       "\t parameters;environment;mortality & 0.0 & false & 0.3 & 15\\\\\n",
       "\t parameters;environment;mortality & 0.3 & false & 0.3 & 15\\\\\n",
       "\t parameters;environment;mortality & 0.5 & false & 0.3 & 15\\\\\n",
       "\t parameters;environment;mortality & 0.0 & true  & 0.4 & 15\\\\\n",
       "\t parameters;environment;mortality & 0.3 & true  & 0.4 & 15\\\\\n",
       "\t parameters;environment;mortality & 0.5 & true  & 0.4 & 15\\\\\n",
       "\t parameters;environment;mortality & 0.0 & false & 0.4 & 15\\\\\n",
       "\t parameters;environment;mortality & 0.3 & false & 0.4 & 15\\\\\n",
       "\t parameters;environment;mortality & 0.5 & false & 0.4 & 15\\\\\n",
       "\\end{tabular}\n"
      ],
      "text/markdown": [
       "\n",
       "A data.table: 18 × 5\n",
       "\n",
       "| files &lt;fct&gt; | fake_mortality_slope &lt;dbl&gt; | endogenous_transition_matrix &lt;fct&gt; | base_income_prob &lt;dbl&gt; | nrep &lt;dbl&gt; |\n",
       "|---|---|---|---|---|\n",
       "| parameters;environment;mortality | 0.0 | true  | 0.2 | 15 |\n",
       "| parameters;environment;mortality | 0.3 | true  | 0.2 | 15 |\n",
       "| parameters;environment;mortality | 0.5 | true  | 0.2 | 15 |\n",
       "| parameters;environment;mortality | 0.0 | false | 0.2 | 15 |\n",
       "| parameters;environment;mortality | 0.3 | false | 0.2 | 15 |\n",
       "| parameters;environment;mortality | 0.5 | false | 0.2 | 15 |\n",
       "| parameters;environment;mortality | 0.0 | true  | 0.3 | 15 |\n",
       "| parameters;environment;mortality | 0.3 | true  | 0.3 | 15 |\n",
       "| parameters;environment;mortality | 0.5 | true  | 0.3 | 15 |\n",
       "| parameters;environment;mortality | 0.0 | false | 0.3 | 15 |\n",
       "| parameters;environment;mortality | 0.3 | false | 0.3 | 15 |\n",
       "| parameters;environment;mortality | 0.5 | false | 0.3 | 15 |\n",
       "| parameters;environment;mortality | 0.0 | true  | 0.4 | 15 |\n",
       "| parameters;environment;mortality | 0.3 | true  | 0.4 | 15 |\n",
       "| parameters;environment;mortality | 0.5 | true  | 0.4 | 15 |\n",
       "| parameters;environment;mortality | 0.0 | false | 0.4 | 15 |\n",
       "| parameters;environment;mortality | 0.3 | false | 0.4 | 15 |\n",
       "| parameters;environment;mortality | 0.5 | false | 0.4 | 15 |\n",
       "\n"
      ],
      "text/plain": [
       "   files                            fake_mortality_slope\n",
       "1  parameters;environment;mortality 0.0                 \n",
       "2  parameters;environment;mortality 0.3                 \n",
       "3  parameters;environment;mortality 0.5                 \n",
       "4  parameters;environment;mortality 0.0                 \n",
       "5  parameters;environment;mortality 0.3                 \n",
       "6  parameters;environment;mortality 0.5                 \n",
       "7  parameters;environment;mortality 0.0                 \n",
       "8  parameters;environment;mortality 0.3                 \n",
       "9  parameters;environment;mortality 0.5                 \n",
       "10 parameters;environment;mortality 0.0                 \n",
       "11 parameters;environment;mortality 0.3                 \n",
       "12 parameters;environment;mortality 0.5                 \n",
       "13 parameters;environment;mortality 0.0                 \n",
       "14 parameters;environment;mortality 0.3                 \n",
       "15 parameters;environment;mortality 0.5                 \n",
       "16 parameters;environment;mortality 0.0                 \n",
       "17 parameters;environment;mortality 0.3                 \n",
       "18 parameters;environment;mortality 0.5                 \n",
       "   endogenous_transition_matrix base_income_prob nrep\n",
       "1  true                         0.2              15  \n",
       "2  true                         0.2              15  \n",
       "3  true                         0.2              15  \n",
       "4  false                        0.2              15  \n",
       "5  false                        0.2              15  \n",
       "6  false                        0.2              15  \n",
       "7  true                         0.3              15  \n",
       "8  true                         0.3              15  \n",
       "9  true                         0.3              15  \n",
       "10 false                        0.3              15  \n",
       "11 false                        0.3              15  \n",
       "12 false                        0.3              15  \n",
       "13 true                         0.4              15  \n",
       "14 true                         0.4              15  \n",
       "15 true                         0.4              15  \n",
       "16 false                        0.4              15  \n",
       "17 false                        0.4              15  \n",
       "18 false                        0.4              15  "
      ]
     },
     "metadata": {},
     "output_type": "display_data"
    }
   ],
   "source": [
    "fe"
   ]
  },
  {
   "cell_type": "code",
   "execution_count": null,
   "metadata": {},
   "outputs": [],
   "source": []
  }
 ],
 "metadata": {
  "kernelspec": {
   "display_name": "R",
   "language": "R",
   "name": "ir"
  },
  "language_info": {
   "codemirror_mode": "r",
   "file_extension": ".r",
   "mimetype": "text/x-r-source",
   "name": "R",
   "pygments_lexer": "r",
   "version": "4.1.0"
  },
  "orig_nbformat": 4
 },
 "nbformat": 4,
 "nbformat_minor": 2
}
