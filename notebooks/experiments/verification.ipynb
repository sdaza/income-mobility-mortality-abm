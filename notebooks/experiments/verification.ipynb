{
 "cells": [
  {
   "cell_type": "markdown",
   "metadata": {},
   "source": [
    "# Create experimental datasets\n",
    "\n",
    "## Smoking verification"
   ]
  },
  {
   "cell_type": "code",
   "execution_count": 7,
   "metadata": {},
   "outputs": [
    {
     "name": "stdout",
     "output_type": "stream",
     "text": [
      "                              files rank_slope_coeff nrep\n",
      "1: parameters;mortality;environment             0.00   10\n",
      "2: parameters;mortality;environment             0.12   10\n",
      "3: parameters;mortality;environment             0.00   10\n",
      "4: parameters;mortality;environment             0.12   10\n",
      "5: parameters;mortality;environment             0.00   10\n",
      "6: parameters;mortality;environment             0.12   10\n"
     ]
    }
   ],
   "source": [
    "# smoking verification\n",
    "\n",
    "library(data.table)\n",
    "\n",
    "# replicates x scenarios\n",
    "trep = 30 * 2\n",
    "cores = 6\n",
    "nrep = trep\n",
    "e = data.table(expand.grid(files = \"parameters;mortality;environment\", \n",
    "    rank_slope_coeff = c(0, 0.12)))\n",
    "e[, nrep := trep / (cores)]\n",
    "fe = data.table()\n",
    "for (i in 1:(cores / nrow(e))) {\n",
    "    fe = rbind(fe, e)\n",
    "}\n",
    "\n",
    "print(head(fe))\n",
    "\n",
    "fwrite(fe, \"../../models/MobHealthRecycling/experiments/verification-smoking.csv \", row.names = FALSE)"
   ]
  },
  {
   "cell_type": "markdown",
   "metadata": {},
   "source": [
    "# Segregation verification"
   ]
  },
  {
   "cell_type": "code",
   "execution_count": 53,
   "metadata": {},
   "outputs": [],
   "source": [
    "s = data.table(expand.grid(files = \"parameters;environment\", \n",
    "    random_movement = c(1.0, 0.5, 0.01), threshold = c(0.10, 0.15, 0.22, 0.28)))"
   ]
  },
  {
   "cell_type": "code",
   "execution_count": 54,
   "metadata": {},
   "outputs": [],
   "source": [
    "s[, remove := 0]\n",
    "s[random_movement == 1 & threshold > 0.10, remove := 1]\n",
    "s = s[remove == 0]"
   ]
  },
  {
   "cell_type": "code",
   "execution_count": 55,
   "metadata": {},
   "outputs": [
    {
     "data": {
      "text/html": [
       "270"
      ],
      "text/latex": [
       "270"
      ],
      "text/markdown": [
       "270"
      ],
      "text/plain": [
       "[1] 270"
      ]
     },
     "metadata": {},
     "output_type": "display_data"
    },
    {
     "name": "stdout",
     "output_type": "stream",
     "text": [
      "                    files random_movement threshold nrep\n",
      "1: parameters;environment            1.00      0.10    5\n",
      "2: parameters;environment            0.50      0.10    5\n",
      "3: parameters;environment            0.01      0.10    5\n",
      "4: parameters;environment            0.50      0.15    5\n",
      "5: parameters;environment            0.01      0.15    5\n",
      "6: parameters;environment            0.50      0.22    5\n"
     ]
    },
    {
     "data": {
      "text/html": [
       "<style>\n",
       ".list-inline {list-style: none; margin:0; padding: 0}\n",
       ".list-inline>li {display: inline-block}\n",
       ".list-inline>li:not(:last-child)::after {content: \"\\00b7\"; padding: 0 .5ex}\n",
       "</style>\n",
       "<ol class=list-inline><li>54</li><li>4</li></ol>\n"
      ],
      "text/latex": [
       "\\begin{enumerate*}\n",
       "\\item 54\n",
       "\\item 4\n",
       "\\end{enumerate*}\n"
      ],
      "text/markdown": [
       "1. 54\n",
       "2. 4\n",
       "\n",
       "\n"
      ],
      "text/plain": [
       "[1] 54  4"
      ]
     },
     "metadata": {},
     "output_type": "display_data"
    }
   ],
   "source": [
    "nrow(s) * 30\n",
    "\n",
    "fe = data.table()\n",
    "for (i in 1:6) {\n",
    "    fe = rbind(fe, s)\n",
    "}\n",
    "\n",
    "fe[, nrep := 5]\n",
    "fe[, remove := NULL]\n",
    "print(head(fe))\n",
    "dim(fe)\n",
    "\n",
    "fwrite(fe, \"../../models/MobHealthRecycling/experiments/verification-segregation.csv \", row.names = FALSE)"
   ]
  },
  {
   "cell_type": "code",
   "execution_count": 48,
   "metadata": {},
   "outputs": [
    {
     "data": {
      "text/html": [
       "270"
      ],
      "text/latex": [
       "270"
      ],
      "text/markdown": [
       "270"
      ],
      "text/plain": [
       "[1] 270"
      ]
     },
     "metadata": {},
     "output_type": "display_data"
    }
   ],
   "source": [
    "sum(fe$nrep)"
   ]
  },
  {
   "cell_type": "code",
   "execution_count": 49,
   "metadata": {},
   "outputs": [
    {
     "data": {
      "text/plain": [
       "\n",
       "0.01  0.5    1 \n",
       "  24   24    6 "
      ]
     },
     "metadata": {},
     "output_type": "display_data"
    }
   ],
   "source": [
    "table(fe$random_movement)"
   ]
  }
 ],
 "metadata": {
  "kernelspec": {
   "display_name": "R",
   "language": "R",
   "name": "ir"
  },
  "language_info": {
   "codemirror_mode": "r",
   "file_extension": ".r",
   "mimetype": "text/x-r-source",
   "name": "R",
   "pygments_lexer": "r",
   "version": "4.1.0"
  },
  "orig_nbformat": 4
 },
 "nbformat": 4,
 "nbformat_minor": 2
}
